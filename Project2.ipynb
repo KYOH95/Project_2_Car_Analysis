{
  "nbformat": 4,
  "nbformat_minor": 0,
  "metadata": {
    "colab": {
      "name": "Project2.ipynb",
      "provenance": []
    },
    "kernelspec": {
      "name": "python3",
      "display_name": "Python 3"
    },
    "language_info": {
      "name": "python"
    }
  },
  "cells": [
    {
      "cell_type": "markdown",
      "source": [
        "## 1. Data selection, reasons, and problem definition"
      ],
      "metadata": {
        "id": "DMLxujM0CpWF"
      }
    },
    {
      "cell_type": "code",
      "execution_count": 277,
      "metadata": {
        "id": "jOrdXE9qMdzP",
        "colab": {
          "base_uri": "https://localhost:8080/",
          "height": 380
        },
        "outputId": "d5cb0ebd-2ec9-480d-d02e-f9a14283c14c"
      },
      "outputs": [
        {
          "output_type": "stream",
          "name": "stdout",
          "text": [
            "(10843, 9)\n"
          ]
        },
        {
          "output_type": "execute_result",
          "data": {
            "text/plain": [
              "         model  year  price transmission  mileage fuelType   tax  mpg  \\\n",
              "8650     Mokka  2015   7998       Manual    40834   Petrol 205.0 42.2   \n",
              "10778     Polo  2016   9290       Manual    30966   Petrol  20.0 60.1   \n",
              "4964    Tucson  2017  12990       Manual    36000   Diesel 150.0 61.7   \n",
              "2748     Focus  2013   4995       Manual   106000   Diesel   NaN  NaN   \n",
              "6776    Kodiaq  2019  34495    Automatic       50   Petrol 145.0 31.4   \n",
              "4206     Focus  2018  13000       Manual    16475   Diesel 150.0 74.3   \n",
              "232         A3  2014   9490       Manual    51390   Petrol 125.0 53.3   \n",
              "9950      Golf  2016  12295       Manual    24486   Petrol  30.0 53.3   \n",
              "4820    Fiesta  2017  12750    Semi-Auto    12687   Petrol 145.0 54.3   \n",
              "9063      Adam  2019  10995       Manual       15   Petrol 145.0 44.8   \n",
              "\n",
              "       engineSize  \n",
              "8650          1.4  \n",
              "10778         1.2  \n",
              "4964          1.7  \n",
              "2748          2.0  \n",
              "6776          2.0  \n",
              "4206          1.5  \n",
              "232           1.4  \n",
              "9950          1.4  \n",
              "4820          1.0  \n",
              "9063          1.2  "
            ],
            "text/html": [
              "\n",
              "  <div id=\"df-e60da8be-b156-482f-81e9-67830a3ad050\">\n",
              "    <div class=\"colab-df-container\">\n",
              "      <div>\n",
              "<style scoped>\n",
              "    .dataframe tbody tr th:only-of-type {\n",
              "        vertical-align: middle;\n",
              "    }\n",
              "\n",
              "    .dataframe tbody tr th {\n",
              "        vertical-align: top;\n",
              "    }\n",
              "\n",
              "    .dataframe thead th {\n",
              "        text-align: right;\n",
              "    }\n",
              "</style>\n",
              "<table border=\"1\" class=\"dataframe\">\n",
              "  <thead>\n",
              "    <tr style=\"text-align: right;\">\n",
              "      <th></th>\n",
              "      <th>model</th>\n",
              "      <th>year</th>\n",
              "      <th>price</th>\n",
              "      <th>transmission</th>\n",
              "      <th>mileage</th>\n",
              "      <th>fuelType</th>\n",
              "      <th>tax</th>\n",
              "      <th>mpg</th>\n",
              "      <th>engineSize</th>\n",
              "    </tr>\n",
              "  </thead>\n",
              "  <tbody>\n",
              "    <tr>\n",
              "      <th>8650</th>\n",
              "      <td>Mokka</td>\n",
              "      <td>2015</td>\n",
              "      <td>7998</td>\n",
              "      <td>Manual</td>\n",
              "      <td>40834</td>\n",
              "      <td>Petrol</td>\n",
              "      <td>205.0</td>\n",
              "      <td>42.2</td>\n",
              "      <td>1.4</td>\n",
              "    </tr>\n",
              "    <tr>\n",
              "      <th>10778</th>\n",
              "      <td>Polo</td>\n",
              "      <td>2016</td>\n",
              "      <td>9290</td>\n",
              "      <td>Manual</td>\n",
              "      <td>30966</td>\n",
              "      <td>Petrol</td>\n",
              "      <td>20.0</td>\n",
              "      <td>60.1</td>\n",
              "      <td>1.2</td>\n",
              "    </tr>\n",
              "    <tr>\n",
              "      <th>4964</th>\n",
              "      <td>Tucson</td>\n",
              "      <td>2017</td>\n",
              "      <td>12990</td>\n",
              "      <td>Manual</td>\n",
              "      <td>36000</td>\n",
              "      <td>Diesel</td>\n",
              "      <td>150.0</td>\n",
              "      <td>61.7</td>\n",
              "      <td>1.7</td>\n",
              "    </tr>\n",
              "    <tr>\n",
              "      <th>2748</th>\n",
              "      <td>Focus</td>\n",
              "      <td>2013</td>\n",
              "      <td>4995</td>\n",
              "      <td>Manual</td>\n",
              "      <td>106000</td>\n",
              "      <td>Diesel</td>\n",
              "      <td>NaN</td>\n",
              "      <td>NaN</td>\n",
              "      <td>2.0</td>\n",
              "    </tr>\n",
              "    <tr>\n",
              "      <th>6776</th>\n",
              "      <td>Kodiaq</td>\n",
              "      <td>2019</td>\n",
              "      <td>34495</td>\n",
              "      <td>Automatic</td>\n",
              "      <td>50</td>\n",
              "      <td>Petrol</td>\n",
              "      <td>145.0</td>\n",
              "      <td>31.4</td>\n",
              "      <td>2.0</td>\n",
              "    </tr>\n",
              "    <tr>\n",
              "      <th>4206</th>\n",
              "      <td>Focus</td>\n",
              "      <td>2018</td>\n",
              "      <td>13000</td>\n",
              "      <td>Manual</td>\n",
              "      <td>16475</td>\n",
              "      <td>Diesel</td>\n",
              "      <td>150.0</td>\n",
              "      <td>74.3</td>\n",
              "      <td>1.5</td>\n",
              "    </tr>\n",
              "    <tr>\n",
              "      <th>232</th>\n",
              "      <td>A3</td>\n",
              "      <td>2014</td>\n",
              "      <td>9490</td>\n",
              "      <td>Manual</td>\n",
              "      <td>51390</td>\n",
              "      <td>Petrol</td>\n",
              "      <td>125.0</td>\n",
              "      <td>53.3</td>\n",
              "      <td>1.4</td>\n",
              "    </tr>\n",
              "    <tr>\n",
              "      <th>9950</th>\n",
              "      <td>Golf</td>\n",
              "      <td>2016</td>\n",
              "      <td>12295</td>\n",
              "      <td>Manual</td>\n",
              "      <td>24486</td>\n",
              "      <td>Petrol</td>\n",
              "      <td>30.0</td>\n",
              "      <td>53.3</td>\n",
              "      <td>1.4</td>\n",
              "    </tr>\n",
              "    <tr>\n",
              "      <th>4820</th>\n",
              "      <td>Fiesta</td>\n",
              "      <td>2017</td>\n",
              "      <td>12750</td>\n",
              "      <td>Semi-Auto</td>\n",
              "      <td>12687</td>\n",
              "      <td>Petrol</td>\n",
              "      <td>145.0</td>\n",
              "      <td>54.3</td>\n",
              "      <td>1.0</td>\n",
              "    </tr>\n",
              "    <tr>\n",
              "      <th>9063</th>\n",
              "      <td>Adam</td>\n",
              "      <td>2019</td>\n",
              "      <td>10995</td>\n",
              "      <td>Manual</td>\n",
              "      <td>15</td>\n",
              "      <td>Petrol</td>\n",
              "      <td>145.0</td>\n",
              "      <td>44.8</td>\n",
              "      <td>1.2</td>\n",
              "    </tr>\n",
              "  </tbody>\n",
              "</table>\n",
              "</div>\n",
              "      <button class=\"colab-df-convert\" onclick=\"convertToInteractive('df-e60da8be-b156-482f-81e9-67830a3ad050')\"\n",
              "              title=\"Convert this dataframe to an interactive table.\"\n",
              "              style=\"display:none;\">\n",
              "        \n",
              "  <svg xmlns=\"http://www.w3.org/2000/svg\" height=\"24px\"viewBox=\"0 0 24 24\"\n",
              "       width=\"24px\">\n",
              "    <path d=\"M0 0h24v24H0V0z\" fill=\"none\"/>\n",
              "    <path d=\"M18.56 5.44l.94 2.06.94-2.06 2.06-.94-2.06-.94-.94-2.06-.94 2.06-2.06.94zm-11 1L8.5 8.5l.94-2.06 2.06-.94-2.06-.94L8.5 2.5l-.94 2.06-2.06.94zm10 10l.94 2.06.94-2.06 2.06-.94-2.06-.94-.94-2.06-.94 2.06-2.06.94z\"/><path d=\"M17.41 7.96l-1.37-1.37c-.4-.4-.92-.59-1.43-.59-.52 0-1.04.2-1.43.59L10.3 9.45l-7.72 7.72c-.78.78-.78 2.05 0 2.83L4 21.41c.39.39.9.59 1.41.59.51 0 1.02-.2 1.41-.59l7.78-7.78 2.81-2.81c.8-.78.8-2.07 0-2.86zM5.41 20L4 18.59l7.72-7.72 1.47 1.35L5.41 20z\"/>\n",
              "  </svg>\n",
              "      </button>\n",
              "      \n",
              "  <style>\n",
              "    .colab-df-container {\n",
              "      display:flex;\n",
              "      flex-wrap:wrap;\n",
              "      gap: 12px;\n",
              "    }\n",
              "\n",
              "    .colab-df-convert {\n",
              "      background-color: #E8F0FE;\n",
              "      border: none;\n",
              "      border-radius: 50%;\n",
              "      cursor: pointer;\n",
              "      display: none;\n",
              "      fill: #1967D2;\n",
              "      height: 32px;\n",
              "      padding: 0 0 0 0;\n",
              "      width: 32px;\n",
              "    }\n",
              "\n",
              "    .colab-df-convert:hover {\n",
              "      background-color: #E2EBFA;\n",
              "      box-shadow: 0px 1px 2px rgba(60, 64, 67, 0.3), 0px 1px 3px 1px rgba(60, 64, 67, 0.15);\n",
              "      fill: #174EA6;\n",
              "    }\n",
              "\n",
              "    [theme=dark] .colab-df-convert {\n",
              "      background-color: #3B4455;\n",
              "      fill: #D2E3FC;\n",
              "    }\n",
              "\n",
              "    [theme=dark] .colab-df-convert:hover {\n",
              "      background-color: #434B5C;\n",
              "      box-shadow: 0px 1px 3px 1px rgba(0, 0, 0, 0.15);\n",
              "      filter: drop-shadow(0px 1px 2px rgba(0, 0, 0, 0.3));\n",
              "      fill: #FFFFFF;\n",
              "    }\n",
              "  </style>\n",
              "\n",
              "      <script>\n",
              "        const buttonEl =\n",
              "          document.querySelector('#df-e60da8be-b156-482f-81e9-67830a3ad050 button.colab-df-convert');\n",
              "        buttonEl.style.display =\n",
              "          google.colab.kernel.accessAllowed ? 'block' : 'none';\n",
              "\n",
              "        async function convertToInteractive(key) {\n",
              "          const element = document.querySelector('#df-e60da8be-b156-482f-81e9-67830a3ad050');\n",
              "          const dataTable =\n",
              "            await google.colab.kernel.invokeFunction('convertToInteractive',\n",
              "                                                     [key], {});\n",
              "          if (!dataTable) return;\n",
              "\n",
              "          const docLinkHtml = 'Like what you see? Visit the ' +\n",
              "            '<a target=\"_blank\" href=https://colab.research.google.com/notebooks/data_table.ipynb>data table notebook</a>'\n",
              "            + ' to learn more about interactive tables.';\n",
              "          element.innerHTML = '';\n",
              "          dataTable['output_type'] = 'display_data';\n",
              "          await google.colab.output.renderOutput(dataTable, element);\n",
              "          const docLink = document.createElement('div');\n",
              "          docLink.innerHTML = docLinkHtml;\n",
              "          element.appendChild(docLink);\n",
              "        }\n",
              "      </script>\n",
              "    </div>\n",
              "  </div>\n",
              "  "
            ]
          },
          "metadata": {},
          "execution_count": 277
        }
      ],
      "source": [
        "import pandas as pd\n",
        "import numpy as np\n",
        "import seaborn as sns\n",
        "pd.options.display.float_format = '{:.1f}'.format\n",
        "#https://www.kaggle.com/datasets/adityadesai13/used-car-dataset-ford-and-mercedes\n",
        "\n",
        "percent = 0.1 #샘플 비율 지정\n",
        "\n",
        "df_audi = pd.read_csv(\"audi.csv\")\n",
        "df_audi = df_audi.sample(round(len(df_audi)*percent))\n",
        "df_bmw = pd.read_csv(\"audi.csv\")\n",
        "df_bmw = df_bmw.sample(round(len(df_bmw)*percent))\n",
        "df_cclass = pd.read_csv(\"cclass.csv\")\n",
        "df_cclass = df_cclass.sample(round(len(df_cclass)*percent))\n",
        "df_focus = pd.read_csv(\"focus.csv\")\n",
        "df_focus = df_focus.sample(round(len(df_focus)*percent))\n",
        "df_ford = pd.read_csv(\"ford.csv\")\n",
        "df_ford = df_ford.sample(round(len(df_ford)*percent))\n",
        "df_hyundai = pd.read_csv(\"hyundai.csv\")\n",
        "df_hyundai = df_hyundai.sample(round(len(df_hyundai)*percent))\n",
        "df_hyundai = df_hyundai.rename(columns={\"tax(£)\":\"tax\"}) #칼럼명 변경\n",
        "\n",
        "df_merc = pd.read_csv(\"merc.csv\")\n",
        "df_merc = df_merc.sample(round(len(df_merc)*percent))\n",
        "df_skoda = pd.read_csv(\"skoda.csv\")\n",
        "df_skoda = df_skoda.sample(round(len(df_skoda)*percent))\n",
        "df_toyota = pd.read_csv(\"toyota.csv\")\n",
        "df_toyota = df_toyota.sample(round(len(df_toyota)*percent))\n",
        "df_vauxhall = pd.read_csv(\"vauxhall.csv\")\n",
        "df_vauxhall = df_vauxhall.sample(round(len(df_vauxhall)*percent))\n",
        "df_vw = pd.read_csv(\"vw.csv\")\n",
        "df_vw = df_vw.sample(round(len(df_vw)*percent))\n",
        "\n",
        "#데이터 하나로 합치기\n",
        "df_list = [df_audi, df_bmw, df_cclass, df_focus, df_ford, df_hyundai, df_merc, df_skoda, df_toyota, df_vauxhall, df_vw]\n",
        "df = pd.concat(df_list, ignore_index=True)\n",
        "\n",
        "print(df.shape)\n",
        "df.sample(10)"
      ]
    },
    {
      "cell_type": "code",
      "source": [
        "df.dtypes"
      ],
      "metadata": {
        "colab": {
          "base_uri": "https://localhost:8080/"
        },
        "id": "VjFifFe_Ah2b",
        "outputId": "4c5bab29-d825-4715-b4b3-2d9a29f8279e"
      },
      "execution_count": 278,
      "outputs": [
        {
          "output_type": "execute_result",
          "data": {
            "text/plain": [
              "model            object\n",
              "year              int64\n",
              "price             int64\n",
              "transmission     object\n",
              "mileage           int64\n",
              "fuelType         object\n",
              "tax             float64\n",
              "mpg             float64\n",
              "engineSize      float64\n",
              "dtype: object"
            ]
          },
          "metadata": {},
          "execution_count": 278
        }
      ]
    },
    {
      "cell_type": "code",
      "source": [
        "df.describe()"
      ],
      "metadata": {
        "colab": {
          "base_uri": "https://localhost:8080/",
          "height": 300
        },
        "id": "iG-40yx_AjfX",
        "outputId": "96ed347b-6a29-4ab5-ad82-0fbf30641476"
      },
      "execution_count": 279,
      "outputs": [
        {
          "output_type": "execute_result",
          "data": {
            "text/plain": [
              "         year    price  mileage    tax    mpg  engineSize\n",
              "count 10843.0  10843.0  10843.0 9908.0 9908.0     10843.0\n",
              "mean   2017.1  16820.5  23247.9  120.2   54.4         1.6\n",
              "std       2.1   9739.1  21160.2   64.5   12.9         0.5\n",
              "min    1996.0    795.0      1.0    0.0    1.1         0.0\n",
              "25%    2016.0  10200.0   7881.0  125.0   45.6         1.2\n",
              "50%    2017.0  14545.0  17489.0  145.0   54.3         1.5\n",
              "75%    2019.0  20599.0  32209.0  145.0   61.7         2.0\n",
              "max    2020.0 135000.0 259000.0  580.0  235.0         6.2"
            ],
            "text/html": [
              "\n",
              "  <div id=\"df-1b74d650-2aad-4aee-a967-09facb9bf05c\">\n",
              "    <div class=\"colab-df-container\">\n",
              "      <div>\n",
              "<style scoped>\n",
              "    .dataframe tbody tr th:only-of-type {\n",
              "        vertical-align: middle;\n",
              "    }\n",
              "\n",
              "    .dataframe tbody tr th {\n",
              "        vertical-align: top;\n",
              "    }\n",
              "\n",
              "    .dataframe thead th {\n",
              "        text-align: right;\n",
              "    }\n",
              "</style>\n",
              "<table border=\"1\" class=\"dataframe\">\n",
              "  <thead>\n",
              "    <tr style=\"text-align: right;\">\n",
              "      <th></th>\n",
              "      <th>year</th>\n",
              "      <th>price</th>\n",
              "      <th>mileage</th>\n",
              "      <th>tax</th>\n",
              "      <th>mpg</th>\n",
              "      <th>engineSize</th>\n",
              "    </tr>\n",
              "  </thead>\n",
              "  <tbody>\n",
              "    <tr>\n",
              "      <th>count</th>\n",
              "      <td>10843.0</td>\n",
              "      <td>10843.0</td>\n",
              "      <td>10843.0</td>\n",
              "      <td>9908.0</td>\n",
              "      <td>9908.0</td>\n",
              "      <td>10843.0</td>\n",
              "    </tr>\n",
              "    <tr>\n",
              "      <th>mean</th>\n",
              "      <td>2017.1</td>\n",
              "      <td>16820.5</td>\n",
              "      <td>23247.9</td>\n",
              "      <td>120.2</td>\n",
              "      <td>54.4</td>\n",
              "      <td>1.6</td>\n",
              "    </tr>\n",
              "    <tr>\n",
              "      <th>std</th>\n",
              "      <td>2.1</td>\n",
              "      <td>9739.1</td>\n",
              "      <td>21160.2</td>\n",
              "      <td>64.5</td>\n",
              "      <td>12.9</td>\n",
              "      <td>0.5</td>\n",
              "    </tr>\n",
              "    <tr>\n",
              "      <th>min</th>\n",
              "      <td>1996.0</td>\n",
              "      <td>795.0</td>\n",
              "      <td>1.0</td>\n",
              "      <td>0.0</td>\n",
              "      <td>1.1</td>\n",
              "      <td>0.0</td>\n",
              "    </tr>\n",
              "    <tr>\n",
              "      <th>25%</th>\n",
              "      <td>2016.0</td>\n",
              "      <td>10200.0</td>\n",
              "      <td>7881.0</td>\n",
              "      <td>125.0</td>\n",
              "      <td>45.6</td>\n",
              "      <td>1.2</td>\n",
              "    </tr>\n",
              "    <tr>\n",
              "      <th>50%</th>\n",
              "      <td>2017.0</td>\n",
              "      <td>14545.0</td>\n",
              "      <td>17489.0</td>\n",
              "      <td>145.0</td>\n",
              "      <td>54.3</td>\n",
              "      <td>1.5</td>\n",
              "    </tr>\n",
              "    <tr>\n",
              "      <th>75%</th>\n",
              "      <td>2019.0</td>\n",
              "      <td>20599.0</td>\n",
              "      <td>32209.0</td>\n",
              "      <td>145.0</td>\n",
              "      <td>61.7</td>\n",
              "      <td>2.0</td>\n",
              "    </tr>\n",
              "    <tr>\n",
              "      <th>max</th>\n",
              "      <td>2020.0</td>\n",
              "      <td>135000.0</td>\n",
              "      <td>259000.0</td>\n",
              "      <td>580.0</td>\n",
              "      <td>235.0</td>\n",
              "      <td>6.2</td>\n",
              "    </tr>\n",
              "  </tbody>\n",
              "</table>\n",
              "</div>\n",
              "      <button class=\"colab-df-convert\" onclick=\"convertToInteractive('df-1b74d650-2aad-4aee-a967-09facb9bf05c')\"\n",
              "              title=\"Convert this dataframe to an interactive table.\"\n",
              "              style=\"display:none;\">\n",
              "        \n",
              "  <svg xmlns=\"http://www.w3.org/2000/svg\" height=\"24px\"viewBox=\"0 0 24 24\"\n",
              "       width=\"24px\">\n",
              "    <path d=\"M0 0h24v24H0V0z\" fill=\"none\"/>\n",
              "    <path d=\"M18.56 5.44l.94 2.06.94-2.06 2.06-.94-2.06-.94-.94-2.06-.94 2.06-2.06.94zm-11 1L8.5 8.5l.94-2.06 2.06-.94-2.06-.94L8.5 2.5l-.94 2.06-2.06.94zm10 10l.94 2.06.94-2.06 2.06-.94-2.06-.94-.94-2.06-.94 2.06-2.06.94z\"/><path d=\"M17.41 7.96l-1.37-1.37c-.4-.4-.92-.59-1.43-.59-.52 0-1.04.2-1.43.59L10.3 9.45l-7.72 7.72c-.78.78-.78 2.05 0 2.83L4 21.41c.39.39.9.59 1.41.59.51 0 1.02-.2 1.41-.59l7.78-7.78 2.81-2.81c.8-.78.8-2.07 0-2.86zM5.41 20L4 18.59l7.72-7.72 1.47 1.35L5.41 20z\"/>\n",
              "  </svg>\n",
              "      </button>\n",
              "      \n",
              "  <style>\n",
              "    .colab-df-container {\n",
              "      display:flex;\n",
              "      flex-wrap:wrap;\n",
              "      gap: 12px;\n",
              "    }\n",
              "\n",
              "    .colab-df-convert {\n",
              "      background-color: #E8F0FE;\n",
              "      border: none;\n",
              "      border-radius: 50%;\n",
              "      cursor: pointer;\n",
              "      display: none;\n",
              "      fill: #1967D2;\n",
              "      height: 32px;\n",
              "      padding: 0 0 0 0;\n",
              "      width: 32px;\n",
              "    }\n",
              "\n",
              "    .colab-df-convert:hover {\n",
              "      background-color: #E2EBFA;\n",
              "      box-shadow: 0px 1px 2px rgba(60, 64, 67, 0.3), 0px 1px 3px 1px rgba(60, 64, 67, 0.15);\n",
              "      fill: #174EA6;\n",
              "    }\n",
              "\n",
              "    [theme=dark] .colab-df-convert {\n",
              "      background-color: #3B4455;\n",
              "      fill: #D2E3FC;\n",
              "    }\n",
              "\n",
              "    [theme=dark] .colab-df-convert:hover {\n",
              "      background-color: #434B5C;\n",
              "      box-shadow: 0px 1px 3px 1px rgba(0, 0, 0, 0.15);\n",
              "      filter: drop-shadow(0px 1px 2px rgba(0, 0, 0, 0.3));\n",
              "      fill: #FFFFFF;\n",
              "    }\n",
              "  </style>\n",
              "\n",
              "      <script>\n",
              "        const buttonEl =\n",
              "          document.querySelector('#df-1b74d650-2aad-4aee-a967-09facb9bf05c button.colab-df-convert');\n",
              "        buttonEl.style.display =\n",
              "          google.colab.kernel.accessAllowed ? 'block' : 'none';\n",
              "\n",
              "        async function convertToInteractive(key) {\n",
              "          const element = document.querySelector('#df-1b74d650-2aad-4aee-a967-09facb9bf05c');\n",
              "          const dataTable =\n",
              "            await google.colab.kernel.invokeFunction('convertToInteractive',\n",
              "                                                     [key], {});\n",
              "          if (!dataTable) return;\n",
              "\n",
              "          const docLinkHtml = 'Like what you see? Visit the ' +\n",
              "            '<a target=\"_blank\" href=https://colab.research.google.com/notebooks/data_table.ipynb>data table notebook</a>'\n",
              "            + ' to learn more about interactive tables.';\n",
              "          element.innerHTML = '';\n",
              "          dataTable['output_type'] = 'display_data';\n",
              "          await google.colab.output.renderOutput(dataTable, element);\n",
              "          const docLink = document.createElement('div');\n",
              "          docLink.innerHTML = docLinkHtml;\n",
              "          element.appendChild(docLink);\n",
              "        }\n",
              "      </script>\n",
              "    </div>\n",
              "  </div>\n",
              "  "
            ]
          },
          "metadata": {},
          "execution_count": 279
        }
      ]
    },
    {
      "cell_type": "code",
      "source": [
        "df.info()"
      ],
      "metadata": {
        "colab": {
          "base_uri": "https://localhost:8080/"
        },
        "id": "EgHlvPpzA-TO",
        "outputId": "91ba1a5c-5df4-458e-e5e8-7ea70f22b23d"
      },
      "execution_count": 280,
      "outputs": [
        {
          "output_type": "stream",
          "name": "stdout",
          "text": [
            "<class 'pandas.core.frame.DataFrame'>\n",
            "RangeIndex: 10843 entries, 0 to 10842\n",
            "Data columns (total 9 columns):\n",
            " #   Column        Non-Null Count  Dtype  \n",
            "---  ------        --------------  -----  \n",
            " 0   model         10843 non-null  object \n",
            " 1   year          10843 non-null  int64  \n",
            " 2   price         10843 non-null  int64  \n",
            " 3   transmission  10843 non-null  object \n",
            " 4   mileage       10843 non-null  int64  \n",
            " 5   fuelType      10843 non-null  object \n",
            " 6   tax           9908 non-null   float64\n",
            " 7   mpg           9908 non-null   float64\n",
            " 8   engineSize    10843 non-null  float64\n",
            "dtypes: float64(3), int64(3), object(3)\n",
            "memory usage: 762.5+ KB\n"
          ]
        }
      ]
    },
    {
      "cell_type": "code",
      "source": [
        "#delete column\"tax\"\n",
        "df = df.drop([\"tax\"], axis = 1)"
      ],
      "metadata": {
        "id": "Qd4xvBP3BCme"
      },
      "execution_count": 281,
      "outputs": []
    },
    {
      "cell_type": "code",
      "source": [
        "#Check Trend: top10 sold out models\n",
        "import matplotlib.pyplot as plt\n",
        "\n",
        "models = pd.DataFrame(df.groupby(\"model\")[\"model\"].count())\n",
        "models.columns = [\"count\"]\n",
        "models.sort_values(by=[\"count\"], inplace=True, ascending=False)\n",
        "models = models.head(10)\n",
        "models.plot.bar()\n",
        "plt.show()\n",
        "print(models)\n",
        "models.index"
      ],
      "metadata": {
        "colab": {
          "base_uri": "https://localhost:8080/",
          "height": 578
        },
        "id": "3lVWpmgbCkEK",
        "outputId": "81f9fe98-7f8a-4a9a-ea35-cb6642fdf27d"
      },
      "execution_count": 282,
      "outputs": [
        {
          "output_type": "display_data",
          "data": {
            "text/plain": [
              "<Figure size 432x288 with 1 Axes>"
            ],
            "image/png": "[encoded data removed]"
          },
          "metadata": {}
        },
        {
          "output_type": "stream",
          "name": "stdout",
          "text": [
            "          count\n",
            "model          \n",
            " Focus      973\n",
            " C Class    775\n",
            " Fiesta     655\n",
            " Golf       498\n",
            " A3         379\n",
            " Polo       349\n",
            " Corsa      340\n",
            " A4         294\n",
            " Q3         272\n",
            " Astra      271\n"
          ]
        },
        {
          "output_type": "execute_result",
          "data": {
            "text/plain": [
              "Index([' Focus', ' C Class', ' Fiesta', ' Golf', ' A3', ' Polo', ' Corsa',\n",
              "       ' A4', ' Q3', ' Astra'],\n",
              "      dtype='object', name='model')"
            ]
          },
          "metadata": {},
          "execution_count": 282
        }
      ]
    },
    {
      "cell_type": "code",
      "source": [
        "#top10 best selling cars avg price\n",
        "models_avg_price = df.groupby(\"model\")[\"price\"].mean()\n",
        "models_avg_price[[' Focus', ' C Class', ' Fiesta', ' Golf', ' A3', ' Corsa', ' Polo',\n",
        "       ' Q3', ' Astra', ' A4']]\n",
        "models['avg_price'] = models_avg_price\n",
        "models.plot.line()\n",
        "print(models)\n",
        "print(models[\"avg_price\"].mean())"
      ],
      "metadata": {
        "colab": {
          "base_uri": "https://localhost:8080/",
          "height": 511
        },
        "id": "Q97545esL3FU",
        "outputId": "a52e8caf-be35-4cf8-ffc8-2b6e0d3c0e2b"
      },
      "execution_count": 283,
      "outputs": [
        {
          "output_type": "stream",
          "name": "stdout",
          "text": [
            "          count  avg_price\n",
            "model                     \n",
            " Focus      973    13346.1\n",
            " C Class    775    23240.7\n",
            " Fiesta     655    10097.0\n",
            " Golf       498    16745.4\n",
            " A3         379    17266.4\n",
            " Polo       349    11184.3\n",
            " Corsa      340     8242.5\n",
            " A4         294    20080.4\n",
            " Q3         272    22871.5\n",
            " Astra      271    10133.4\n",
            "15320.779926944233\n"
          ]
        },
        {
          "output_type": "display_data",
          "data": {
            "text/plain": [
              "<Figure size 432x288 with 1 Axes>"
            ],
            "image/png": "[encoded data removed]"
          },
          "metadata": {}
        }
      ]
    },
    {
      "cell_type": "code",
      "source": [
        "#top10 best selling cars avg year\n",
        "models_avg_year = df.groupby(\"model\")[\"year\"].mean()\n",
        "models_avg_year[[' Focus', ' C Class', ' Fiesta', ' Golf', ' A3', ' Corsa', ' Polo',\n",
        "       ' Q3', ' Astra', ' A4']]\n",
        "models['avg_year'] = models_avg_year\n",
        "print(models)\n",
        "print(models[\"avg_year\"].mean())"
      ],
      "metadata": {
        "colab": {
          "base_uri": "https://localhost:8080/"
        },
        "id": "K_iUna16Oh9s",
        "outputId": "a4caa4fc-84a5-4fc3-bce4-29da9ed00955"
      },
      "execution_count": 284,
      "outputs": [
        {
          "output_type": "stream",
          "name": "stdout",
          "text": [
            "          count  avg_price  avg_year\n",
            "model                               \n",
            " Focus      973    13346.1    2017.1\n",
            " C Class    775    23240.7    2017.3\n",
            " Fiesta     655    10097.0    2016.8\n",
            " Golf       498    16745.4    2017.1\n",
            " A3         379    17266.4    2016.7\n",
            " Polo       349    11184.3    2016.9\n",
            " Corsa      340     8242.5    2016.7\n",
            " A4         294    20080.4    2016.8\n",
            " Q3         272    22871.5    2017.3\n",
            " Astra      271    10133.4    2016.7\n",
            "2016.9468266526485\n"
          ]
        }
      ]
    },
    {
      "cell_type": "code",
      "source": [
        "#Check Trend: top10 sold out years\n",
        "\n",
        "years = pd.DataFrame(df.groupby(\"year\")[\"year\"].count())\n",
        "years.columns = [\"count\"]\n",
        "years.sort_values(by=[\"count\"], inplace=True, ascending=False)\n",
        "years = years.head(10)\n",
        "years.plot.bar()\n",
        "plt.show()\n",
        "print(years)"
      ],
      "metadata": {
        "colab": {
          "base_uri": "https://localhost:8080/",
          "height": 512
        },
        "id": "wyGfLiNOEsY-",
        "outputId": "e8c04aca-1fe6-4401-bd50-689b3c1fd546"
      },
      "execution_count": 285,
      "outputs": [
        {
          "output_type": "display_data",
          "data": {
            "text/plain": [
              "<Figure size 432x288 with 1 Axes>"
            ],
            "image/png": "[encoded data removed]"
          },
          "metadata": {}
        },
        {
          "output_type": "stream",
          "name": "stdout",
          "text": [
            "      count\n",
            "year       \n",
            "2019   2892\n",
            "2017   2418\n",
            "2016   1782\n",
            "2018   1557\n",
            "2015    821\n",
            "2020    430\n",
            "2014    422\n",
            "2013    255\n",
            "2012     67\n",
            "2011     42\n"
          ]
        }
      ]
    },
    {
      "cell_type": "code",
      "source": [
        "#Check Trend: top10 years average price\n",
        "\n",
        "years_price = pd.DataFrame(df.groupby(\"year\")[\"price\"].mean())\n",
        "years_price.columns = [\"avg_price\"]\n",
        "years_price.sort_values(by=[\"avg_price\"], inplace=True, ascending=False)\n",
        "years_price = years_price.head(10)\n",
        "years_price.plot.bar()\n",
        "plt.show()\n",
        "print(years_price)"
      ],
      "metadata": {
        "colab": {
          "base_uri": "https://localhost:8080/",
          "height": 514
        },
        "id": "kCpc-4UjGHDi",
        "outputId": "a65a9a68-dcf3-4294-c6ad-b8d0538718fb"
      },
      "execution_count": 286,
      "outputs": [
        {
          "output_type": "display_data",
          "data": {
            "text/plain": [
              "<Figure size 432x288 with 1 Axes>"
            ],
            "image/png": "[encoded data removed]"
          },
          "metadata": {}
        },
        {
          "output_type": "stream",
          "name": "stdout",
          "text": [
            "      avg_price\n",
            "year           \n",
            "2020    28623.3\n",
            "2019    23488.2\n",
            "1998    19990.0\n",
            "2018    16556.5\n",
            "2017    14465.7\n",
            "2016    13314.1\n",
            "2015    11796.9\n",
            "2000    11750.0\n",
            "2014    10290.5\n",
            "2013     8514.7\n"
          ]
        }
      ]
    },
    {
      "cell_type": "code",
      "source": [
        "#Check how many 1970 & 1998 cars were sold\n",
        "\n",
        "condition = (df[\"year\"] == 1970) | (df[\"year\"] == 1998)\n",
        "df[condition]"
      ],
      "metadata": {
        "colab": {
          "base_uri": "https://localhost:8080/",
          "height": 81
        },
        "id": "DSn13sIkGYjp",
        "outputId": "18326371-8f68-4247-9ec7-59defee972ac"
      },
      "execution_count": 287,
      "outputs": [
        {
          "output_type": "execute_result",
          "data": {
            "text/plain": [
              "         model  year  price transmission  mileage fuelType  mpg  engineSize\n",
              "5487   S Class  1998  19990    Automatic    43534   Petrol 23.3         6.0"
            ],
            "text/html": [
              "\n",
              "  <div id=\"df-ea570fe1-691b-4dff-8ef1-bcf23548969b\">\n",
              "    <div class=\"colab-df-container\">\n",
              "      <div>\n",
              "<style scoped>\n",
              "    .dataframe tbody tr th:only-of-type {\n",
              "        vertical-align: middle;\n",
              "    }\n",
              "\n",
              "    .dataframe tbody tr th {\n",
              "        vertical-align: top;\n",
              "    }\n",
              "\n",
              "    .dataframe thead th {\n",
              "        text-align: right;\n",
              "    }\n",
              "</style>\n",
              "<table border=\"1\" class=\"dataframe\">\n",
              "  <thead>\n",
              "    <tr style=\"text-align: right;\">\n",
              "      <th></th>\n",
              "      <th>model</th>\n",
              "      <th>year</th>\n",
              "      <th>price</th>\n",
              "      <th>transmission</th>\n",
              "      <th>mileage</th>\n",
              "      <th>fuelType</th>\n",
              "      <th>mpg</th>\n",
              "      <th>engineSize</th>\n",
              "    </tr>\n",
              "  </thead>\n",
              "  <tbody>\n",
              "    <tr>\n",
              "      <th>5487</th>\n",
              "      <td>S Class</td>\n",
              "      <td>1998</td>\n",
              "      <td>19990</td>\n",
              "      <td>Automatic</td>\n",
              "      <td>43534</td>\n",
              "      <td>Petrol</td>\n",
              "      <td>23.3</td>\n",
              "      <td>6.0</td>\n",
              "    </tr>\n",
              "  </tbody>\n",
              "</table>\n",
              "</div>\n",
              "      <button class=\"colab-df-convert\" onclick=\"convertToInteractive('df-ea570fe1-691b-4dff-8ef1-bcf23548969b')\"\n",
              "              title=\"Convert this dataframe to an interactive table.\"\n",
              "              style=\"display:none;\">\n",
              "        \n",
              "  <svg xmlns=\"http://www.w3.org/2000/svg\" height=\"24px\"viewBox=\"0 0 24 24\"\n",
              "       width=\"24px\">\n",
              "    <path d=\"M0 0h24v24H0V0z\" fill=\"none\"/>\n",
              "    <path d=\"M18.56 5.44l.94 2.06.94-2.06 2.06-.94-2.06-.94-.94-2.06-.94 2.06-2.06.94zm-11 1L8.5 8.5l.94-2.06 2.06-.94-2.06-.94L8.5 2.5l-.94 2.06-2.06.94zm10 10l.94 2.06.94-2.06 2.06-.94-2.06-.94-.94-2.06-.94 2.06-2.06.94z\"/><path d=\"M17.41 7.96l-1.37-1.37c-.4-.4-.92-.59-1.43-.59-.52 0-1.04.2-1.43.59L10.3 9.45l-7.72 7.72c-.78.78-.78 2.05 0 2.83L4 21.41c.39.39.9.59 1.41.59.51 0 1.02-.2 1.41-.59l7.78-7.78 2.81-2.81c.8-.78.8-2.07 0-2.86zM5.41 20L4 18.59l7.72-7.72 1.47 1.35L5.41 20z\"/>\n",
              "  </svg>\n",
              "      </button>\n",
              "      \n",
              "  <style>\n",
              "    .colab-df-container {\n",
              "      display:flex;\n",
              "      flex-wrap:wrap;\n",
              "      gap: 12px;\n",
              "    }\n",
              "\n",
              "    .colab-df-convert {\n",
              "      background-color: #E8F0FE;\n",
              "      border: none;\n",
              "      border-radius: 50%;\n",
              "      cursor: pointer;\n",
              "      display: none;\n",
              "      fill: #1967D2;\n",
              "      height: 32px;\n",
              "      padding: 0 0 0 0;\n",
              "      width: 32px;\n",
              "    }\n",
              "\n",
              "    .colab-df-convert:hover {\n",
              "      background-color: #E2EBFA;\n",
              "      box-shadow: 0px 1px 2px rgba(60, 64, 67, 0.3), 0px 1px 3px 1px rgba(60, 64, 67, 0.15);\n",
              "      fill: #174EA6;\n",
              "    }\n",
              "\n",
              "    [theme=dark] .colab-df-convert {\n",
              "      background-color: #3B4455;\n",
              "      fill: #D2E3FC;\n",
              "    }\n",
              "\n",
              "    [theme=dark] .colab-df-convert:hover {\n",
              "      background-color: #434B5C;\n",
              "      box-shadow: 0px 1px 3px 1px rgba(0, 0, 0, 0.15);\n",
              "      filter: drop-shadow(0px 1px 2px rgba(0, 0, 0, 0.3));\n",
              "      fill: #FFFFFF;\n",
              "    }\n",
              "  </style>\n",
              "\n",
              "      <script>\n",
              "        const buttonEl =\n",
              "          document.querySelector('#df-ea570fe1-691b-4dff-8ef1-bcf23548969b button.colab-df-convert');\n",
              "        buttonEl.style.display =\n",
              "          google.colab.kernel.accessAllowed ? 'block' : 'none';\n",
              "\n",
              "        async function convertToInteractive(key) {\n",
              "          const element = document.querySelector('#df-ea570fe1-691b-4dff-8ef1-bcf23548969b');\n",
              "          const dataTable =\n",
              "            await google.colab.kernel.invokeFunction('convertToInteractive',\n",
              "                                                     [key], {});\n",
              "          if (!dataTable) return;\n",
              "\n",
              "          const docLinkHtml = 'Like what you see? Visit the ' +\n",
              "            '<a target=\"_blank\" href=https://colab.research.google.com/notebooks/data_table.ipynb>data table notebook</a>'\n",
              "            + ' to learn more about interactive tables.';\n",
              "          element.innerHTML = '';\n",
              "          dataTable['output_type'] = 'display_data';\n",
              "          await google.colab.output.renderOutput(dataTable, element);\n",
              "          const docLink = document.createElement('div');\n",
              "          docLink.innerHTML = docLinkHtml;\n",
              "          element.appendChild(docLink);\n",
              "        }\n",
              "      </script>\n",
              "    </div>\n",
              "  </div>\n",
              "  "
            ]
          },
          "metadata": {},
          "execution_count": 287
        }
      ]
    },
    {
      "cell_type": "code",
      "source": [
        "#Check transmissions\n",
        "transmission = pd.DataFrame(df.groupby([\"transmission\"])[\"transmission\"].count())\n",
        "transmission.columns = [\"count\"]\n",
        "transmission.sort_values(by=[\"count\"], inplace=True, ascending=False)\n",
        "transmission.plot.bar()\n",
        "plt.show()\n",
        "print(transmission)"
      ],
      "metadata": {
        "colab": {
          "base_uri": "https://localhost:8080/",
          "height": 436
        },
        "id": "jenxWa6wIXzy",
        "outputId": "ca550b3b-80b2-42bb-dbaa-2823e2f25790"
      },
      "execution_count": 288,
      "outputs": [
        {
          "output_type": "display_data",
          "data": {
            "text/plain": [
              "<Figure size 432x288 with 1 Axes>"
            ],
            "image/png": "[encoded data removed]"
          },
          "metadata": {}
        },
        {
          "output_type": "stream",
          "name": "stdout",
          "text": [
            "              count\n",
            "transmission       \n",
            "Manual         6353\n",
            "Semi-Auto      2366\n",
            "Automatic      2123\n",
            "Other             1\n"
          ]
        }
      ]
    },
    {
      "cell_type": "code",
      "source": [
        "#Check fuelType\n",
        "\n",
        "fuelType = pd.DataFrame(df.groupby(\"fuelType\")[\"fuelType\"].count())\n",
        "fuelType.columns = [\"count\"]\n",
        "fuelType.sort_values(by=[\"count\"], inplace=True, ascending=False)\n",
        "fuelType.plot.bar()\n",
        "plt.show()\n",
        "print(years_price)"
      ],
      "metadata": {
        "colab": {
          "base_uri": "https://localhost:8080/",
          "height": 519
        },
        "id": "zv1-ZsGcKF9p",
        "outputId": "b3a4fac9-343d-4a37-a449-75c9d2468e29"
      },
      "execution_count": 289,
      "outputs": [
        {
          "output_type": "display_data",
          "data": {
            "text/plain": [
              "<Figure size 432x288 with 1 Axes>"
            ],
            "image/png": "[encoded data removed]"
          },
          "metadata": {}
        },
        {
          "output_type": "stream",
          "name": "stdout",
          "text": [
            "      avg_price\n",
            "year           \n",
            "2020    28623.3\n",
            "2019    23488.2\n",
            "1998    19990.0\n",
            "2018    16556.5\n",
            "2017    14465.7\n",
            "2016    13314.1\n",
            "2015    11796.9\n",
            "2000    11750.0\n",
            "2014    10290.5\n",
            "2013     8514.7\n"
          ]
        }
      ]
    },
    {
      "cell_type": "code",
      "source": [
        "#Now we can see\n",
        "#Years: 15-19 Popular\n",
        "#Model: Focus / C Class / Fiesta / Golf / A3      \n",
        "#Transmission: manual\n",
        "#feul type: Petrol / diessel\n"
      ],
      "metadata": {
        "id": "CsGXAvZPK0iX"
      },
      "execution_count": 290,
      "outputs": []
    },
    {
      "cell_type": "markdown",
      "source": [
        "## 2. Data preprocessing, EDA, and visualization"
      ],
      "metadata": {
        "id": "sv2zFABTCl1f"
      }
    },
    {
      "cell_type": "code",
      "source": [
        "#Check \"price\" Outliers\n",
        "sns.distplot(df['price'], kde=True, rug=False)\n",
        "condition = (df[\"price\"] >75000)\n",
        "df[condition][\"price\"].count()"
      ],
      "metadata": {
        "colab": {
          "base_uri": "https://localhost:8080/",
          "height": 368
        },
        "id": "O8meNoIdOyfU",
        "outputId": "99c32043-090b-4985-c974-c28ee9ae4dcc"
      },
      "execution_count": 291,
      "outputs": [
        {
          "output_type": "stream",
          "name": "stderr",
          "text": [
            "/usr/local/lib/python3.7/dist-packages/seaborn/distributions.py:2619: FutureWarning: `distplot` is a deprecated function and will be removed in a future version. Please adapt your code to use either `displot` (a figure-level function with similar flexibility) or `histplot` (an axes-level function for histograms).\n",
            "  warnings.warn(msg, FutureWarning)\n"
          ]
        },
        {
          "output_type": "execute_result",
          "data": {
            "text/plain": [
              "20"
            ]
          },
          "metadata": {},
          "execution_count": 291
        },
        {
          "output_type": "display_data",
          "data": {
            "text/plain": [
              "<Figure size 432x288 with 1 Axes>"
            ],
            "image/png": "[encoded data removed]"
          },
          "metadata": {}
        }
      ]
    },
    {
      "cell_type": "code",
      "source": [
        "#Check \"year\" Outliers\n",
        "sns.distplot(df['year'], kde=True, rug=False)\n",
        "condition = (df[\"year\"] >2020) | (df[\"year\"] <1990)\n",
        "df[condition]"
      ],
      "metadata": {
        "colab": {
          "base_uri": "https://localhost:8080/",
          "height": 372
        },
        "id": "ipKsDuLheRpp",
        "outputId": "52e905df-0520-4a10-b2e7-2019dab35c71"
      },
      "execution_count": 292,
      "outputs": [
        {
          "output_type": "stream",
          "name": "stderr",
          "text": [
            "/usr/local/lib/python3.7/dist-packages/seaborn/distributions.py:2619: FutureWarning: `distplot` is a deprecated function and will be removed in a future version. Please adapt your code to use either `displot` (a figure-level function with similar flexibility) or `histplot` (an axes-level function for histograms).\n",
            "  warnings.warn(msg, FutureWarning)\n"
          ]
        },
        {
          "output_type": "execute_result",
          "data": {
            "text/plain": [
              "Empty DataFrame\n",
              "Columns: [model, year, price, transmission, mileage, fuelType, mpg, engineSize]\n",
              "Index: []"
            ],
            "text/html": [
              "\n",
              "  <div id=\"df-3b070a92-e32d-41e0-ad1a-8e3dc5fca0e5\">\n",
              "    <div class=\"colab-df-container\">\n",
              "      <div>\n",
              "<style scoped>\n",
              "    .dataframe tbody tr th:only-of-type {\n",
              "        vertical-align: middle;\n",
              "    }\n",
              "\n",
              "    .dataframe tbody tr th {\n",
              "        vertical-align: top;\n",
              "    }\n",
              "\n",
              "    .dataframe thead th {\n",
              "        text-align: right;\n",
              "    }\n",
              "</style>\n",
              "<table border=\"1\" class=\"dataframe\">\n",
              "  <thead>\n",
              "    <tr style=\"text-align: right;\">\n",
              "      <th></th>\n",
              "      <th>model</th>\n",
              "      <th>year</th>\n",
              "      <th>price</th>\n",
              "      <th>transmission</th>\n",
              "      <th>mileage</th>\n",
              "      <th>fuelType</th>\n",
              "      <th>mpg</th>\n",
              "      <th>engineSize</th>\n",
              "    </tr>\n",
              "  </thead>\n",
              "  <tbody>\n",
              "  </tbody>\n",
              "</table>\n",
              "</div>\n",
              "      <button class=\"colab-df-convert\" onclick=\"convertToInteractive('df-3b070a92-e32d-41e0-ad1a-8e3dc5fca0e5')\"\n",
              "              title=\"Convert this dataframe to an interactive table.\"\n",
              "              style=\"display:none;\">\n",
              "        \n",
              "  <svg xmlns=\"http://www.w3.org/2000/svg\" height=\"24px\"viewBox=\"0 0 24 24\"\n",
              "       width=\"24px\">\n",
              "    <path d=\"M0 0h24v24H0V0z\" fill=\"none\"/>\n",
              "    <path d=\"M18.56 5.44l.94 2.06.94-2.06 2.06-.94-2.06-.94-.94-2.06-.94 2.06-2.06.94zm-11 1L8.5 8.5l.94-2.06 2.06-.94-2.06-.94L8.5 2.5l-.94 2.06-2.06.94zm10 10l.94 2.06.94-2.06 2.06-.94-2.06-.94-.94-2.06-.94 2.06-2.06.94z\"/><path d=\"M17.41 7.96l-1.37-1.37c-.4-.4-.92-.59-1.43-.59-.52 0-1.04.2-1.43.59L10.3 9.45l-7.72 7.72c-.78.78-.78 2.05 0 2.83L4 21.41c.39.39.9.59 1.41.59.51 0 1.02-.2 1.41-.59l7.78-7.78 2.81-2.81c.8-.78.8-2.07 0-2.86zM5.41 20L4 18.59l7.72-7.72 1.47 1.35L5.41 20z\"/>\n",
              "  </svg>\n",
              "      </button>\n",
              "      \n",
              "  <style>\n",
              "    .colab-df-container {\n",
              "      display:flex;\n",
              "      flex-wrap:wrap;\n",
              "      gap: 12px;\n",
              "    }\n",
              "\n",
              "    .colab-df-convert {\n",
              "      background-color: #E8F0FE;\n",
              "      border: none;\n",
              "      border-radius: 50%;\n",
              "      cursor: pointer;\n",
              "      display: none;\n",
              "      fill: #1967D2;\n",
              "      height: 32px;\n",
              "      padding: 0 0 0 0;\n",
              "      width: 32px;\n",
              "    }\n",
              "\n",
              "    .colab-df-convert:hover {\n",
              "      background-color: #E2EBFA;\n",
              "      box-shadow: 0px 1px 2px rgba(60, 64, 67, 0.3), 0px 1px 3px 1px rgba(60, 64, 67, 0.15);\n",
              "      fill: #174EA6;\n",
              "    }\n",
              "\n",
              "    [theme=dark] .colab-df-convert {\n",
              "      background-color: #3B4455;\n",
              "      fill: #D2E3FC;\n",
              "    }\n",
              "\n",
              "    [theme=dark] .colab-df-convert:hover {\n",
              "      background-color: #434B5C;\n",
              "      box-shadow: 0px 1px 3px 1px rgba(0, 0, 0, 0.15);\n",
              "      filter: drop-shadow(0px 1px 2px rgba(0, 0, 0, 0.3));\n",
              "      fill: #FFFFFF;\n",
              "    }\n",
              "  </style>\n",
              "\n",
              "      <script>\n",
              "        const buttonEl =\n",
              "          document.querySelector('#df-3b070a92-e32d-41e0-ad1a-8e3dc5fca0e5 button.colab-df-convert');\n",
              "        buttonEl.style.display =\n",
              "          google.colab.kernel.accessAllowed ? 'block' : 'none';\n",
              "\n",
              "        async function convertToInteractive(key) {\n",
              "          const element = document.querySelector('#df-3b070a92-e32d-41e0-ad1a-8e3dc5fca0e5');\n",
              "          const dataTable =\n",
              "            await google.colab.kernel.invokeFunction('convertToInteractive',\n",
              "                                                     [key], {});\n",
              "          if (!dataTable) return;\n",
              "\n",
              "          const docLinkHtml = 'Like what you see? Visit the ' +\n",
              "            '<a target=\"_blank\" href=https://colab.research.google.com/notebooks/data_table.ipynb>data table notebook</a>'\n",
              "            + ' to learn more about interactive tables.';\n",
              "          element.innerHTML = '';\n",
              "          dataTable['output_type'] = 'display_data';\n",
              "          await google.colab.output.renderOutput(dataTable, element);\n",
              "          const docLink = document.createElement('div');\n",
              "          docLink.innerHTML = docLinkHtml;\n",
              "          element.appendChild(docLink);\n",
              "        }\n",
              "      </script>\n",
              "    </div>\n",
              "  </div>\n",
              "  "
            ]
          },
          "metadata": {},
          "execution_count": 292
        },
        {
          "output_type": "display_data",
          "data": {
            "text/plain": [
              "<Figure size 432x288 with 1 Axes>"
            ],
            "image/png": "[encoded data removed]"
          },
          "metadata": {}
        }
      ]
    },
    {
      "cell_type": "code",
      "source": [
        "#Check \"mileage\" Outliers\n",
        "sns.distplot(df['mileage'], kde=True, rug=False)\n",
        "condition = (df[\"mileage\"] >150000)\n",
        "df[condition][\"model\"].count()"
      ],
      "metadata": {
        "colab": {
          "base_uri": "https://localhost:8080/",
          "height": 368
        },
        "id": "ynTvN6E5P1Af",
        "outputId": "6c4dec83-eafb-4b87-fcc6-2e957fdc2202"
      },
      "execution_count": 293,
      "outputs": [
        {
          "output_type": "stream",
          "name": "stderr",
          "text": [
            "/usr/local/lib/python3.7/dist-packages/seaborn/distributions.py:2619: FutureWarning: `distplot` is a deprecated function and will be removed in a future version. Please adapt your code to use either `displot` (a figure-level function with similar flexibility) or `histplot` (an axes-level function for histograms).\n",
            "  warnings.warn(msg, FutureWarning)\n"
          ]
        },
        {
          "output_type": "execute_result",
          "data": {
            "text/plain": [
              "3"
            ]
          },
          "metadata": {},
          "execution_count": 293
        },
        {
          "output_type": "display_data",
          "data": {
            "text/plain": [
              "<Figure size 432x288 with 1 Axes>"
            ],
            "image/png": "[encoded data removed]"
          },
          "metadata": {}
        }
      ]
    },
    {
      "cell_type": "code",
      "source": [
        "#Delete Outliers\n",
        "df = df[(df['price'] >= np.percentile(df['price'], 0.5)) & \n",
        "        (df['price'] <= np.percentile(df['price'], 99.5)) &\n",
        "        (df['mileage'] >= np.percentile(df['mileage'], 0.5)) & \n",
        "        (df['mileage'] <= np.percentile(df['mileage'], 99.5)) &\n",
        "        (df['year'] >= np.percentile(df['year'], 0.5)) & \n",
        "        (df['year'] <= np.percentile(df['year'], 99.5))]"
      ],
      "metadata": {
        "id": "VD8XgvedPW_k"
      },
      "execution_count": 294,
      "outputs": []
    },
    {
      "cell_type": "code",
      "source": [
        "#fill null values with average of mpg\n",
        "df = df.fillna(df.mean())"
      ],
      "metadata": {
        "colab": {
          "base_uri": "https://localhost:8080/"
        },
        "id": "1nF6Ct4heqeH",
        "outputId": "42be50c3-e606-4f99-ec5f-ad43a4b7d9bf"
      },
      "execution_count": 295,
      "outputs": [
        {
          "output_type": "stream",
          "name": "stderr",
          "text": [
            "/usr/local/lib/python3.7/dist-packages/ipykernel_launcher.py:2: FutureWarning: Dropping of nuisance columns in DataFrame reductions (with 'numeric_only=None') is deprecated; in a future version this will raise TypeError.  Select only valid columns before calling the reduction.\n",
            "  \n"
          ]
        }
      ]
    },
    {
      "cell_type": "code",
      "source": [
        "sns.distplot(df['price'], kde=True, rug=False)"
      ],
      "metadata": {
        "id": "8TLK-lT_IolE",
        "outputId": "bb343aa4-a388-47d7-f4a9-bd52e8ffb414",
        "colab": {
          "base_uri": "https://localhost:8080/",
          "height": 368
        }
      },
      "execution_count": 296,
      "outputs": [
        {
          "output_type": "stream",
          "name": "stderr",
          "text": [
            "/usr/local/lib/python3.7/dist-packages/seaborn/distributions.py:2619: FutureWarning: `distplot` is a deprecated function and will be removed in a future version. Please adapt your code to use either `displot` (a figure-level function with similar flexibility) or `histplot` (an axes-level function for histograms).\n",
            "  warnings.warn(msg, FutureWarning)\n"
          ]
        },
        {
          "output_type": "execute_result",
          "data": {
            "text/plain": [
              "<matplotlib.axes._subplots.AxesSubplot at 0x7ff08711abd0>"
            ]
          },
          "metadata": {},
          "execution_count": 296
        },
        {
          "output_type": "display_data",
          "data": {
            "text/plain": [
              "<Figure size 432x288 with 1 Axes>"
            ],
            "image/png": "[encoded data removed]"
          },
          "metadata": {}
        }
      ]
    },
    {
      "cell_type": "code",
      "source": [
        "print(df['mileage'].mean())\n",
        "sns.distplot(df['mileage'], kde=True, rug=False)"
      ],
      "metadata": {
        "id": "pgY6BlkcJEuK",
        "outputId": "ca80a82f-eaeb-4002-db4c-f16cbb30803c",
        "colab": {
          "base_uri": "https://localhost:8080/",
          "height": 385
        }
      },
      "execution_count": 297,
      "outputs": [
        {
          "output_type": "stream",
          "name": "stdout",
          "text": [
            "22559.93647810562\n"
          ]
        },
        {
          "output_type": "stream",
          "name": "stderr",
          "text": [
            "/usr/local/lib/python3.7/dist-packages/seaborn/distributions.py:2619: FutureWarning: `distplot` is a deprecated function and will be removed in a future version. Please adapt your code to use either `displot` (a figure-level function with similar flexibility) or `histplot` (an axes-level function for histograms).\n",
            "  warnings.warn(msg, FutureWarning)\n"
          ]
        },
        {
          "output_type": "execute_result",
          "data": {
            "text/plain": [
              "<matplotlib.axes._subplots.AxesSubplot at 0x7ff086de6f90>"
            ]
          },
          "metadata": {},
          "execution_count": 297
        },
        {
          "output_type": "display_data",
          "data": {
            "text/plain": [
              "<Figure size 432x288 with 1 Axes>"
            ],
            "image/png": "[encoded data removed]"
          },
          "metadata": {}
        }
      ]
    },
    {
      "cell_type": "code",
      "source": [
        "sns.distplot(df['year'], kde=True, rug=False)"
      ],
      "metadata": {
        "colab": {
          "base_uri": "https://localhost:8080/",
          "height": 357
        },
        "id": "cDT4kkFjcS7b",
        "outputId": "39967604-92cc-4103-bdf1-7f0f5aaf87af"
      },
      "execution_count": 298,
      "outputs": [
        {
          "output_type": "stream",
          "name": "stderr",
          "text": [
            "/usr/local/lib/python3.7/dist-packages/seaborn/distributions.py:2619: FutureWarning: `distplot` is a deprecated function and will be removed in a future version. Please adapt your code to use either `displot` (a figure-level function with similar flexibility) or `histplot` (an axes-level function for histograms).\n",
            "  warnings.warn(msg, FutureWarning)\n"
          ]
        },
        {
          "output_type": "execute_result",
          "data": {
            "text/plain": [
              "<matplotlib.axes._subplots.AxesSubplot at 0x7ff086d56e50>"
            ]
          },
          "metadata": {},
          "execution_count": 298
        },
        {
          "output_type": "display_data",
          "data": {
            "text/plain": [
              "<Figure size 432x288 with 1 Axes>"
            ],
            "image/png": "[encoded data removed]"
          },
          "metadata": {}
        }
      ]
    },
    {
      "cell_type": "code",
      "source": [
        "# sns.distplot(df[(df['year']>2015)]['mileage'], kde=True, rug=False)"
      ],
      "metadata": {
        "id": "sbWER2JJPtZj"
      },
      "execution_count": 299,
      "outputs": []
    },
    {
      "cell_type": "code",
      "source": [
        "# sns.distplot(df[(df['year']>2009)&(df['year']<2015)]['mileage'], kde=True, rug=False)"
      ],
      "metadata": {
        "id": "0RLHSbDoilE5"
      },
      "execution_count": 300,
      "outputs": []
    },
    {
      "cell_type": "code",
      "source": [
        "# sns.distplot(df[(df['price']<=16500)]['mileage'], kde=True, rug=True)"
      ],
      "metadata": {
        "id": "0EFpjLSdjivg"
      },
      "execution_count": 301,
      "outputs": []
    },
    {
      "cell_type": "code",
      "source": [
        "# sns.distplot(df[(df['price']>16500)]['mileage'], kde=True, rug=True)"
      ],
      "metadata": {
        "id": "FBqwaI0eGuv7"
      },
      "execution_count": 302,
      "outputs": []
    },
    {
      "cell_type": "code",
      "source": [
        "# sns.distplot(df[(df['price']>16500)&(df['mileage']<10000)]['year'], kde=True, rug=True)"
      ],
      "metadata": {
        "id": "Y6YP3vYFIJW4"
      },
      "execution_count": 303,
      "outputs": []
    },
    {
      "cell_type": "code",
      "source": [
        "# sns.distplot(df[(df['price']<=16500)]['year'], kde=True, rug=True)"
      ],
      "metadata": {
        "id": "vz3nWRphFzCh"
      },
      "execution_count": 304,
      "outputs": []
    },
    {
      "cell_type": "code",
      "source": [
        "#베이스라인 모델 만들기\n",
        "y_train = df[\"price\"]\n",
        "\n",
        "## SalePrice의 확률밀도함수를 그려보겠습니다\n",
        "sns.displot(df['price'], kde=True)\n",
        "\n",
        "## 평균과, 중간값으로 수직선을 그려보겠습니다.\n",
        "plt.axvline(df['price'].mean(), color='blue')\n",
        "plt.axvline(df['price'].median(), color='red');\n",
        "print(\"mean: \", df['price'].mean())\n",
        "print(\"median: \", df['price'].median())"
      ],
      "metadata": {
        "id": "-FhytgOXMpuq",
        "colab": {
          "base_uri": "https://localhost:8080/",
          "height": 400
        },
        "outputId": "9f1cefc6-5007-4987-9d58-cea0cfc9f6b3"
      },
      "execution_count": 305,
      "outputs": [
        {
          "output_type": "stream",
          "name": "stdout",
          "text": [
            "mean:  16634.226931028003\n",
            "median:  14640.0\n"
          ]
        },
        {
          "output_type": "display_data",
          "data": {
            "text/plain": [
              "<Figure size 360x360 with 1 Axes>"
            ],
            "image/png": "[encoded data removed]"
          },
          "metadata": {}
        }
      ]
    },
    {
      "cell_type": "code",
      "source": [
        "sns.set(style='whitegrid', context='notebook')\n",
        "cols = ['year', 'mileage','price']\n",
        "sns.pairplot(df[cols], height=2);"
      ],
      "metadata": {
        "colab": {
          "base_uri": "https://localhost:8080/",
          "height": 442
        },
        "id": "uOL0iA_Idjjm",
        "outputId": "3a797146-fc5c-4012-9ae5-6960e69503ba"
      },
      "execution_count": 306,
      "outputs": [
        {
          "output_type": "display_data",
          "data": {
            "text/plain": [
              "<Figure size 432x432 with 12 Axes>"
            ],
            "image/png": "[encoded data removed]"
          },
          "metadata": {}
        }
      ]
    },
    {
      "cell_type": "code",
      "source": [
        "# Get MAE with average pirce \n",
        "from sklearn.metrics import mean_absolute_error\n",
        "price_mean = df[\"price\"].mean()\n",
        "y_pred = [price_mean] * len(y_train)\n",
        "mae = mean_absolute_error(y_train, y_pred)\n",
        "\n",
        "print(f'avg_price error: {mae:.2f}')"
      ],
      "metadata": {
        "colab": {
          "base_uri": "https://localhost:8080/"
        },
        "id": "grOEUn91dPA2",
        "outputId": "00ca8835-dadd-4c07-b526-eafa5670c028"
      },
      "execution_count": 323,
      "outputs": [
        {
          "output_type": "stream",
          "name": "stdout",
          "text": [
            "avg_price error: 6658.23\n"
          ]
        }
      ]
    },
    {
      "cell_type": "markdown",
      "source": [
        "## 3. Modeling and model analysis"
      ],
      "metadata": {
        "id": "vdVC0lOkq4YU"
      }
    },
    {
      "cell_type": "code",
      "source": [
        "## train set, validation set, test set\n",
        "from sklearn.model_selection import train_test_split\n",
        "\n",
        "X = df.drop(columns=\"price\")\n",
        "y = df[\"price\"]\n",
        "\n",
        "X_train, X_test, y_train, y_test = train_test_split(X, y, test_size=0.2, random_state=None)\n",
        "X_train, X_val, y_train, y_val = train_test_split(X_train, y_train, test_size=0.3, random_state=None)\n",
        "print(\"X_train shape: \", X_train.shape)\n",
        "print(\"y_train shape: \", y_train.shape)\n",
        "\n",
        "print(\"X_val shape: \", X_val.shape)\n",
        "print(\"y_val shape: \", y_val.shape)\n",
        "\n",
        "print(\"X_test shape: \", X_test.shape)\n",
        "print(\"y_test shape: \", y_test.shape)"
      ],
      "metadata": {
        "colab": {
          "base_uri": "https://localhost:8080/"
        },
        "id": "0XyZQE7Pk6Fr",
        "outputId": "c173693f-92a8-48a3-d9bc-55f87684faff"
      },
      "execution_count": 316,
      "outputs": [
        {
          "output_type": "stream",
          "name": "stdout",
          "text": [
            "X_train shape:  (5959, 7)\n",
            "y_train shape:  (5959,)\n",
            "X_val shape:  (2554, 7)\n",
            "y_val shape:  (2554,)\n",
            "X_test shape:  (2129, 7)\n",
            "y_test shape:  (2129,)\n"
          ]
        }
      ]
    },
    {
      "cell_type": "code",
      "source": [
        "# Make baseline model\n",
        "from sklearn.linear_model import LinearRegression\n",
        "\n",
        "baseline_model = LinearRegression()\n",
        "\n",
        "# Select features\n",
        "features = [\"year\", \"mileage\"]\n",
        "\n",
        "X_train_base = X_train[features]\n",
        "X_val_base = X_val[features]\n",
        "\n",
        "# fit into baseline model\n",
        "baseline_model.fit(X_train_base, y_train)\n",
        "y_pred_train_base = baseline_model.predict(X_train_base)\n",
        "mae = mean_absolute_error(y_train, y_pred_train_base)\n",
        "print(f'train errors: {mae:.2f}')\n",
        "\n",
        "# validation set\n",
        "y_pred_val_base = baseline_model.predict(X_val_base)\n",
        "mae = mean_absolute_error(y_val, y_pred_val_base)\n",
        "print(f'valid errors: {mae:.2f}')\n"
      ],
      "metadata": {
        "colab": {
          "base_uri": "https://localhost:8080/"
        },
        "id": "iJPIV4YvkawQ",
        "outputId": "0bdc18ef-7e6b-41f4-b020-367667fa26ef"
      },
      "execution_count": 326,
      "outputs": [
        {
          "output_type": "stream",
          "name": "stdout",
          "text": [
            "train errors: 5594.23\n",
            "valid errors: 5640.76\n"
          ]
        }
      ]
    },
    {
      "cell_type": "code",
      "source": [
        "# 회귀방정식 평가지표\n",
        "mse = mean_squared_error(y, y_pred)\n",
        "mae = mean_absolute_error(y, y_pred)\n",
        "rmse = mse ** 0.5\n",
        "r2 = r2_score(y, y_pred)\n",
        "\n",
        "display(pd.DataFrame([['MSE', mse],['MAE', mae],['RMSE', rmse],['R2', r2]], columns=['Metric', 'Score']))"
      ],
      "metadata": {
        "id": "PJALsEl0xnJa"
      },
      "execution_count": null,
      "outputs": []
    },
    {
      "cell_type": "code",
      "source": [
        ""
      ],
      "metadata": {
        "id": "sM7b-nmjuAav"
      },
      "execution_count": null,
      "outputs": []
    }
  ]
}