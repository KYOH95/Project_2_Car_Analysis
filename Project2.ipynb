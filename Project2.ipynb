{
  "nbformat": 4,
  "nbformat_minor": 0,
  "metadata": {
    "colab": {
      "name": "Project2.ipynb",
      "provenance": [],
      "toc_visible": true
    },
    "kernelspec": {
      "name": "python3",
      "display_name": "Python 3"
    },
    "language_info": {
      "name": "python"
    }
  },
  "cells": [
    {
      "cell_type": "code",
      "execution_count": null,
      "metadata": {
        "id": "jOrdXE9qMdzP"
      },
      "outputs": [],
      "source": [
        "import pandas as pd\n",
        "import numpy as np\n",
        "import seaborn as sns\n",
        "pd.options.display.float_format = '{:.1f}'.format\n",
        "\n",
        "#https://www.kaggle.com/datasets/adityadesai13/used-car-dataset-ford-and-mercedes\n",
        "df_audi = pd.read_csv(\"audi.csv\")\n",
        "df_bmw = pd.read_csv(\"audi.csv\")\n",
        "df_cclass = pd.read_csv(\"cclass.csv\")\n",
        "df_focus = pd.read_csv(\"focus.csv\")\n",
        "df_ford = pd.read_csv(\"ford.csv\")\n",
        "df_hyundai = pd.read_csv(\"hyundai.csv\")\n",
        "df_hyundai = df_hyundai.rename(columns={\"tax(£)\":\"tax\"}) #칼럼명 변경\n",
        "df_merc = pd.read_csv(\"merc.csv\")\n",
        "df_skoda = pd.read_csv(\"skoda.csv\")\n",
        "df_toyota = pd.read_csv(\"toyota.csv\")\n",
        "df_vauxhall = pd.read_csv(\"vauxhall.csv\")\n",
        "df_vw = pd.read_csv(\"vw.csv\")\n",
        "\n",
        "#데이터 하나로 합치기\n",
        "df_list = [df_audi, df_bmw, df_cclass, df_focus, df_ford, df_hyundai, df_merc, df_skoda, df_toyota, df_vauxhall, df_vw]\n",
        "df = pd.concat(df_list, ignore_index=True)\n",
        "\n",
        "# print(\"dtypes:\", df.dtypes)\n",
        "# print(\"describe:\", df.describe())\n",
        "\n",
        "df.sample(10)"
      ]
    },
    {
      "cell_type": "code",
      "source": [
        "#베이스라인 모델 만들기\n",
        "predict = df[\"price\"].mean()\n",
        "y_train = df[\"price\"]\n",
        "\n",
        "# 기준모델로 훈련 에러(MAE) 계산\n",
        "from sklearn.metrics import mean_absolute_error\n",
        "y_pred = [predict] * len(y_train)\n",
        "mae = mean_absolute_error(y_train, y_pred)\n",
        "\n",
        "print(f'훈련 에러: {mae:.2f}')"
      ],
      "metadata": {
        "id": "-FhytgOXMpuq"
      },
      "execution_count": null,
      "outputs": []
    }
  ]
}