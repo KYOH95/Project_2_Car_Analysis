{
  "nbformat": 4,
  "nbformat_minor": 0,
  "metadata": {
    "colab": {
      "name": "Project2.ipynb",
      "provenance": []
    },
    "kernelspec": {
      "name": "python3",
      "display_name": "Python 3"
    },
    "language_info": {
      "name": "python"
    }
  },
  "cells": [
    {
      "cell_type": "markdown",
      "source": [
        "## 1. 데이터 분석"
      ],
      "metadata": {
        "id": "DMLxujM0CpWF"
      }
    },
    {
      "cell_type": "code",
      "execution_count": 242,
      "metadata": {
        "id": "jOrdXE9qMdzP",
        "colab": {
          "base_uri": "https://localhost:8080/",
          "height": 380
        },
        "outputId": "1e448aaf-4248-4543-a178-0de20165bc41"
      },
      "outputs": [
        {
          "output_type": "stream",
          "name": "stdout",
          "text": [
            "(98826, 9)\n"
          ]
        },
        {
          "output_type": "execute_result",
          "data": {
            "text/plain": [
              "          model  year  price transmission  mileage fuelType   tax  mpg  \\\n",
              "11074        A5  2015  16000    Automatic    68250   Diesel 200.0 44.8   \n",
              "90562      Polo  2013   6298       Manual    29369   Petrol 125.0 51.4   \n",
              "45292   E Class  2014  14975    Semi-Auto    58145   Diesel 200.0 47.1   \n",
              "86742      Golf  2019  19650       Manual     1822   Petrol 145.0 50.4   \n",
              "38356     Focus  2010   3485       Manual    90000   Diesel  30.0 62.8   \n",
              "75275     Astra  2017  11495       Manual     8255   Petrol 125.0 50.4   \n",
              "79012   Mokka X  2017   7790       Manual    49582   Petrol 205.0 42.2   \n",
              "84703      Golf  2019  19995       Manual     1000   Petrol 145.0 47.1   \n",
              "79403   Mokka X  2016   9489       Manual    33282   Petrol 200.0 42.2   \n",
              "61632   Octavia  2017  14825       Manual    49579   Diesel  30.0 64.2   \n",
              "\n",
              "       engineSize  \n",
              "11074         3.0  \n",
              "90562         1.2  \n",
              "45292         3.0  \n",
              "86742         1.5  \n",
              "38356         1.6  \n",
              "75275         1.4  \n",
              "79012         1.6  \n",
              "84703         1.5  \n",
              "79403         1.6  \n",
              "61632         2.0  "
            ],
            "text/html": [
              "\n",
              "  <div id=\"df-3f37d984-8367-4fa3-a0c8-1aa6a008ce0e\">\n",
              "    <div class=\"colab-df-container\">\n",
              "      <div>\n",
              "<style scoped>\n",
              "    .dataframe tbody tr th:only-of-type {\n",
              "        vertical-align: middle;\n",
              "    }\n",
              "\n",
              "    .dataframe tbody tr th {\n",
              "        vertical-align: top;\n",
              "    }\n",
              "\n",
              "    .dataframe thead th {\n",
              "        text-align: right;\n",
              "    }\n",
              "</style>\n",
              "<table border=\"1\" class=\"dataframe\">\n",
              "  <thead>\n",
              "    <tr style=\"text-align: right;\">\n",
              "      <th></th>\n",
              "      <th>model</th>\n",
              "      <th>year</th>\n",
              "      <th>price</th>\n",
              "      <th>transmission</th>\n",
              "      <th>mileage</th>\n",
              "      <th>fuelType</th>\n",
              "      <th>tax</th>\n",
              "      <th>mpg</th>\n",
              "      <th>engineSize</th>\n",
              "    </tr>\n",
              "  </thead>\n",
              "  <tbody>\n",
              "    <tr>\n",
              "      <th>11074</th>\n",
              "      <td>A5</td>\n",
              "      <td>2015</td>\n",
              "      <td>16000</td>\n",
              "      <td>Automatic</td>\n",
              "      <td>68250</td>\n",
              "      <td>Diesel</td>\n",
              "      <td>200.0</td>\n",
              "      <td>44.8</td>\n",
              "      <td>3.0</td>\n",
              "    </tr>\n",
              "    <tr>\n",
              "      <th>90562</th>\n",
              "      <td>Polo</td>\n",
              "      <td>2013</td>\n",
              "      <td>6298</td>\n",
              "      <td>Manual</td>\n",
              "      <td>29369</td>\n",
              "      <td>Petrol</td>\n",
              "      <td>125.0</td>\n",
              "      <td>51.4</td>\n",
              "      <td>1.2</td>\n",
              "    </tr>\n",
              "    <tr>\n",
              "      <th>45292</th>\n",
              "      <td>E Class</td>\n",
              "      <td>2014</td>\n",
              "      <td>14975</td>\n",
              "      <td>Semi-Auto</td>\n",
              "      <td>58145</td>\n",
              "      <td>Diesel</td>\n",
              "      <td>200.0</td>\n",
              "      <td>47.1</td>\n",
              "      <td>3.0</td>\n",
              "    </tr>\n",
              "    <tr>\n",
              "      <th>86742</th>\n",
              "      <td>Golf</td>\n",
              "      <td>2019</td>\n",
              "      <td>19650</td>\n",
              "      <td>Manual</td>\n",
              "      <td>1822</td>\n",
              "      <td>Petrol</td>\n",
              "      <td>145.0</td>\n",
              "      <td>50.4</td>\n",
              "      <td>1.5</td>\n",
              "    </tr>\n",
              "    <tr>\n",
              "      <th>38356</th>\n",
              "      <td>Focus</td>\n",
              "      <td>2010</td>\n",
              "      <td>3485</td>\n",
              "      <td>Manual</td>\n",
              "      <td>90000</td>\n",
              "      <td>Diesel</td>\n",
              "      <td>30.0</td>\n",
              "      <td>62.8</td>\n",
              "      <td>1.6</td>\n",
              "    </tr>\n",
              "    <tr>\n",
              "      <th>75275</th>\n",
              "      <td>Astra</td>\n",
              "      <td>2017</td>\n",
              "      <td>11495</td>\n",
              "      <td>Manual</td>\n",
              "      <td>8255</td>\n",
              "      <td>Petrol</td>\n",
              "      <td>125.0</td>\n",
              "      <td>50.4</td>\n",
              "      <td>1.4</td>\n",
              "    </tr>\n",
              "    <tr>\n",
              "      <th>79012</th>\n",
              "      <td>Mokka X</td>\n",
              "      <td>2017</td>\n",
              "      <td>7790</td>\n",
              "      <td>Manual</td>\n",
              "      <td>49582</td>\n",
              "      <td>Petrol</td>\n",
              "      <td>205.0</td>\n",
              "      <td>42.2</td>\n",
              "      <td>1.6</td>\n",
              "    </tr>\n",
              "    <tr>\n",
              "      <th>84703</th>\n",
              "      <td>Golf</td>\n",
              "      <td>2019</td>\n",
              "      <td>19995</td>\n",
              "      <td>Manual</td>\n",
              "      <td>1000</td>\n",
              "      <td>Petrol</td>\n",
              "      <td>145.0</td>\n",
              "      <td>47.1</td>\n",
              "      <td>1.5</td>\n",
              "    </tr>\n",
              "    <tr>\n",
              "      <th>79403</th>\n",
              "      <td>Mokka X</td>\n",
              "      <td>2016</td>\n",
              "      <td>9489</td>\n",
              "      <td>Manual</td>\n",
              "      <td>33282</td>\n",
              "      <td>Petrol</td>\n",
              "      <td>200.0</td>\n",
              "      <td>42.2</td>\n",
              "      <td>1.6</td>\n",
              "    </tr>\n",
              "    <tr>\n",
              "      <th>61632</th>\n",
              "      <td>Octavia</td>\n",
              "      <td>2017</td>\n",
              "      <td>14825</td>\n",
              "      <td>Manual</td>\n",
              "      <td>49579</td>\n",
              "      <td>Diesel</td>\n",
              "      <td>30.0</td>\n",
              "      <td>64.2</td>\n",
              "      <td>2.0</td>\n",
              "    </tr>\n",
              "  </tbody>\n",
              "</table>\n",
              "</div>\n",
              "      <button class=\"colab-df-convert\" onclick=\"convertToInteractive('df-3f37d984-8367-4fa3-a0c8-1aa6a008ce0e')\"\n",
              "              title=\"Convert this dataframe to an interactive table.\"\n",
              "              style=\"display:none;\">\n",
              "        \n",
              "  <svg xmlns=\"http://www.w3.org/2000/svg\" height=\"24px\"viewBox=\"0 0 24 24\"\n",
              "       width=\"24px\">\n",
              "    <path d=\"M0 0h24v24H0V0z\" fill=\"none\"/>\n",
              "    <path d=\"M18.56 5.44l.94 2.06.94-2.06 2.06-.94-2.06-.94-.94-2.06-.94 2.06-2.06.94zm-11 1L8.5 8.5l.94-2.06 2.06-.94-2.06-.94L8.5 2.5l-.94 2.06-2.06.94zm10 10l.94 2.06.94-2.06 2.06-.94-2.06-.94-.94-2.06-.94 2.06-2.06.94z\"/><path d=\"M17.41 7.96l-1.37-1.37c-.4-.4-.92-.59-1.43-.59-.52 0-1.04.2-1.43.59L10.3 9.45l-7.72 7.72c-.78.78-.78 2.05 0 2.83L4 21.41c.39.39.9.59 1.41.59.51 0 1.02-.2 1.41-.59l7.78-7.78 2.81-2.81c.8-.78.8-2.07 0-2.86zM5.41 20L4 18.59l7.72-7.72 1.47 1.35L5.41 20z\"/>\n",
              "  </svg>\n",
              "      </button>\n",
              "      \n",
              "  <style>\n",
              "    .colab-df-container {\n",
              "      display:flex;\n",
              "      flex-wrap:wrap;\n",
              "      gap: 12px;\n",
              "    }\n",
              "\n",
              "    .colab-df-convert {\n",
              "      background-color: #E8F0FE;\n",
              "      border: none;\n",
              "      border-radius: 50%;\n",
              "      cursor: pointer;\n",
              "      display: none;\n",
              "      fill: #1967D2;\n",
              "      height: 32px;\n",
              "      padding: 0 0 0 0;\n",
              "      width: 32px;\n",
              "    }\n",
              "\n",
              "    .colab-df-convert:hover {\n",
              "      background-color: #E2EBFA;\n",
              "      box-shadow: 0px 1px 2px rgba(60, 64, 67, 0.3), 0px 1px 3px 1px rgba(60, 64, 67, 0.15);\n",
              "      fill: #174EA6;\n",
              "    }\n",
              "\n",
              "    [theme=dark] .colab-df-convert {\n",
              "      background-color: #3B4455;\n",
              "      fill: #D2E3FC;\n",
              "    }\n",
              "\n",
              "    [theme=dark] .colab-df-convert:hover {\n",
              "      background-color: #434B5C;\n",
              "      box-shadow: 0px 1px 3px 1px rgba(0, 0, 0, 0.15);\n",
              "      filter: drop-shadow(0px 1px 2px rgba(0, 0, 0, 0.3));\n",
              "      fill: #FFFFFF;\n",
              "    }\n",
              "  </style>\n",
              "\n",
              "      <script>\n",
              "        const buttonEl =\n",
              "          document.querySelector('#df-3f37d984-8367-4fa3-a0c8-1aa6a008ce0e button.colab-df-convert');\n",
              "        buttonEl.style.display =\n",
              "          google.colab.kernel.accessAllowed ? 'block' : 'none';\n",
              "\n",
              "        async function convertToInteractive(key) {\n",
              "          const element = document.querySelector('#df-3f37d984-8367-4fa3-a0c8-1aa6a008ce0e');\n",
              "          const dataTable =\n",
              "            await google.colab.kernel.invokeFunction('convertToInteractive',\n",
              "                                                     [key], {});\n",
              "          if (!dataTable) return;\n",
              "\n",
              "          const docLinkHtml = 'Like what you see? Visit the ' +\n",
              "            '<a target=\"_blank\" href=https://colab.research.google.com/notebooks/data_table.ipynb>data table notebook</a>'\n",
              "            + ' to learn more about interactive tables.';\n",
              "          element.innerHTML = '';\n",
              "          dataTable['output_type'] = 'display_data';\n",
              "          await google.colab.output.renderOutput(dataTable, element);\n",
              "          const docLink = document.createElement('div');\n",
              "          docLink.innerHTML = docLinkHtml;\n",
              "          element.appendChild(docLink);\n",
              "        }\n",
              "      </script>\n",
              "    </div>\n",
              "  </div>\n",
              "  "
            ]
          },
          "metadata": {},
          "execution_count": 242
        }
      ],
      "source": [
        "import pandas as pd\n",
        "import numpy as np\n",
        "import seaborn as sns\n",
        "pd.options.display.float_format = '{:.1f}'.format\n",
        "#https://www.kaggle.com/datasets/adityadesai13/used-car-dataset-ford-and-mercedes\n",
        "\n",
        "percent = 0.1 #샘플 비율 지정\n",
        "\n",
        "df_audi = pd.read_csv(\"audi.csv\")\n",
        "df_audi = df_audi.sample(round(len(df_audi)*percent))\n",
        "df_bmw = pd.read_csv(\"audi.csv\")\n",
        "df_bmw = df_bmw.sample(round(len(df_bmw)*percent))\n",
        "df_cclass = pd.read_csv(\"cclass.csv\")\n",
        "df_cclass = df_cclass.sample(round(len(df_cclass)*percent))\n",
        "df_focus = pd.read_csv(\"focus.csv\")\n",
        "df_focus = df_focus.sample(round(len(df_focus)*percent))\n",
        "df_ford = pd.read_csv(\"ford.csv\")\n",
        "df_ford = df_ford.sample(round(len(df_ford)*percent))\n",
        "df_hyundai = pd.read_csv(\"hyundai.csv\")\n",
        "df_hyundai = df_hyundai.sample(round(len(df_hyundai)*percent))\n",
        "df_hyundai = df_hyundai.rename(columns={\"tax(£)\":\"tax\"}) #칼럼명 변경\n",
        "\n",
        "df_merc = pd.read_csv(\"merc.csv\")\n",
        "df_merc = df_merc.sample(round(len(df_merc)*percent))\n",
        "df_skoda = pd.read_csv(\"skoda.csv\")\n",
        "df_skoda = df_skoda.sample(round(len(df_skoda)*percent))\n",
        "df_toyota = pd.read_csv(\"toyota.csv\")\n",
        "df_toyota = df_toyota.sample(round(len(df_toyota)*percent))\n",
        "df_vauxhall = pd.read_csv(\"vauxhall.csv\")\n",
        "df_vauxhall = df_vauxhall.sample(round(len(df_vauxhall)*percent))\n",
        "df_vw = pd.read_csv(\"vw.csv\")\n",
        "df_vw = df_vw.sample(round(len(df_vw)*percent))\n",
        "\n",
        "#데이터 하나로 합치기\n",
        "df_list = [df_audi, df_bmw, df_cclass, df_focus, df_ford, df_hyundai, df_merc, df_skoda, df_toyota, df_vauxhall, df_vw]\n",
        "df = pd.concat(df_list, ignore_index=True)\n",
        "\n",
        "print(df.shape)\n",
        "df.sample(10)"
      ]
    },
    {
      "cell_type": "code",
      "source": [
        "df.dtypes"
      ],
      "metadata": {
        "colab": {
          "base_uri": "https://localhost:8080/"
        },
        "id": "VjFifFe_Ah2b",
        "outputId": "29e24c2f-e79e-468a-deff-bed787501a68"
      },
      "execution_count": 204,
      "outputs": [
        {
          "output_type": "execute_result",
          "data": {
            "text/plain": [
              "model            object\n",
              "year              int64\n",
              "price             int64\n",
              "transmission     object\n",
              "mileage           int64\n",
              "fuelType         object\n",
              "tax             float64\n",
              "mpg             float64\n",
              "engineSize      float64\n",
              "dtype: object"
            ]
          },
          "metadata": {},
          "execution_count": 204
        }
      ]
    },
    {
      "cell_type": "code",
      "source": [
        "df.describe()"
      ],
      "metadata": {
        "colab": {
          "base_uri": "https://localhost:8080/",
          "height": 300
        },
        "id": "iG-40yx_AjfX",
        "outputId": "f11eac80-865b-45e3-c9eb-c227490f0cf0"
      },
      "execution_count": 205,
      "outputs": [
        {
          "output_type": "execute_result",
          "data": {
            "text/plain": [
              "          year    price  mileage     tax     mpg  engineSize\n",
              "count 108427.0 108427.0 108427.0 99074.0 99074.0    108427.0\n",
              "mean    2017.1  16900.1  22957.5   119.7    54.6         1.6\n",
              "std        2.1   9797.1  20979.0    63.7    13.2         0.5\n",
              "min     1970.0    450.0      1.0     0.0     0.3         0.0\n",
              "25%     2016.0  10250.0   7500.0   125.0    46.3         1.2\n",
              "50%     2017.0  14721.0  17315.0   145.0    54.3         1.5\n",
              "75%     2019.0  20890.0  32113.0   145.0    62.8         2.0\n",
              "max     2060.0 159999.0 323000.0   580.0   256.8         6.3"
            ],
            "text/html": [
              "\n",
              "  <div id=\"df-fb7f8ca1-d104-4203-a36f-0e6efc6d0f79\">\n",
              "    <div class=\"colab-df-container\">\n",
              "      <div>\n",
              "<style scoped>\n",
              "    .dataframe tbody tr th:only-of-type {\n",
              "        vertical-align: middle;\n",
              "    }\n",
              "\n",
              "    .dataframe tbody tr th {\n",
              "        vertical-align: top;\n",
              "    }\n",
              "\n",
              "    .dataframe thead th {\n",
              "        text-align: right;\n",
              "    }\n",
              "</style>\n",
              "<table border=\"1\" class=\"dataframe\">\n",
              "  <thead>\n",
              "    <tr style=\"text-align: right;\">\n",
              "      <th></th>\n",
              "      <th>year</th>\n",
              "      <th>price</th>\n",
              "      <th>mileage</th>\n",
              "      <th>tax</th>\n",
              "      <th>mpg</th>\n",
              "      <th>engineSize</th>\n",
              "    </tr>\n",
              "  </thead>\n",
              "  <tbody>\n",
              "    <tr>\n",
              "      <th>count</th>\n",
              "      <td>108427.0</td>\n",
              "      <td>108427.0</td>\n",
              "      <td>108427.0</td>\n",
              "      <td>99074.0</td>\n",
              "      <td>99074.0</td>\n",
              "      <td>108427.0</td>\n",
              "    </tr>\n",
              "    <tr>\n",
              "      <th>mean</th>\n",
              "      <td>2017.1</td>\n",
              "      <td>16900.1</td>\n",
              "      <td>22957.5</td>\n",
              "      <td>119.7</td>\n",
              "      <td>54.6</td>\n",
              "      <td>1.6</td>\n",
              "    </tr>\n",
              "    <tr>\n",
              "      <th>std</th>\n",
              "      <td>2.1</td>\n",
              "      <td>9797.1</td>\n",
              "      <td>20979.0</td>\n",
              "      <td>63.7</td>\n",
              "      <td>13.2</td>\n",
              "      <td>0.5</td>\n",
              "    </tr>\n",
              "    <tr>\n",
              "      <th>min</th>\n",
              "      <td>1970.0</td>\n",
              "      <td>450.0</td>\n",
              "      <td>1.0</td>\n",
              "      <td>0.0</td>\n",
              "      <td>0.3</td>\n",
              "      <td>0.0</td>\n",
              "    </tr>\n",
              "    <tr>\n",
              "      <th>25%</th>\n",
              "      <td>2016.0</td>\n",
              "      <td>10250.0</td>\n",
              "      <td>7500.0</td>\n",
              "      <td>125.0</td>\n",
              "      <td>46.3</td>\n",
              "      <td>1.2</td>\n",
              "    </tr>\n",
              "    <tr>\n",
              "      <th>50%</th>\n",
              "      <td>2017.0</td>\n",
              "      <td>14721.0</td>\n",
              "      <td>17315.0</td>\n",
              "      <td>145.0</td>\n",
              "      <td>54.3</td>\n",
              "      <td>1.5</td>\n",
              "    </tr>\n",
              "    <tr>\n",
              "      <th>75%</th>\n",
              "      <td>2019.0</td>\n",
              "      <td>20890.0</td>\n",
              "      <td>32113.0</td>\n",
              "      <td>145.0</td>\n",
              "      <td>62.8</td>\n",
              "      <td>2.0</td>\n",
              "    </tr>\n",
              "    <tr>\n",
              "      <th>max</th>\n",
              "      <td>2060.0</td>\n",
              "      <td>159999.0</td>\n",
              "      <td>323000.0</td>\n",
              "      <td>580.0</td>\n",
              "      <td>256.8</td>\n",
              "      <td>6.3</td>\n",
              "    </tr>\n",
              "  </tbody>\n",
              "</table>\n",
              "</div>\n",
              "      <button class=\"colab-df-convert\" onclick=\"convertToInteractive('df-fb7f8ca1-d104-4203-a36f-0e6efc6d0f79')\"\n",
              "              title=\"Convert this dataframe to an interactive table.\"\n",
              "              style=\"display:none;\">\n",
              "        \n",
              "  <svg xmlns=\"http://www.w3.org/2000/svg\" height=\"24px\"viewBox=\"0 0 24 24\"\n",
              "       width=\"24px\">\n",
              "    <path d=\"M0 0h24v24H0V0z\" fill=\"none\"/>\n",
              "    <path d=\"M18.56 5.44l.94 2.06.94-2.06 2.06-.94-2.06-.94-.94-2.06-.94 2.06-2.06.94zm-11 1L8.5 8.5l.94-2.06 2.06-.94-2.06-.94L8.5 2.5l-.94 2.06-2.06.94zm10 10l.94 2.06.94-2.06 2.06-.94-2.06-.94-.94-2.06-.94 2.06-2.06.94z\"/><path d=\"M17.41 7.96l-1.37-1.37c-.4-.4-.92-.59-1.43-.59-.52 0-1.04.2-1.43.59L10.3 9.45l-7.72 7.72c-.78.78-.78 2.05 0 2.83L4 21.41c.39.39.9.59 1.41.59.51 0 1.02-.2 1.41-.59l7.78-7.78 2.81-2.81c.8-.78.8-2.07 0-2.86zM5.41 20L4 18.59l7.72-7.72 1.47 1.35L5.41 20z\"/>\n",
              "  </svg>\n",
              "      </button>\n",
              "      \n",
              "  <style>\n",
              "    .colab-df-container {\n",
              "      display:flex;\n",
              "      flex-wrap:wrap;\n",
              "      gap: 12px;\n",
              "    }\n",
              "\n",
              "    .colab-df-convert {\n",
              "      background-color: #E8F0FE;\n",
              "      border: none;\n",
              "      border-radius: 50%;\n",
              "      cursor: pointer;\n",
              "      display: none;\n",
              "      fill: #1967D2;\n",
              "      height: 32px;\n",
              "      padding: 0 0 0 0;\n",
              "      width: 32px;\n",
              "    }\n",
              "\n",
              "    .colab-df-convert:hover {\n",
              "      background-color: #E2EBFA;\n",
              "      box-shadow: 0px 1px 2px rgba(60, 64, 67, 0.3), 0px 1px 3px 1px rgba(60, 64, 67, 0.15);\n",
              "      fill: #174EA6;\n",
              "    }\n",
              "\n",
              "    [theme=dark] .colab-df-convert {\n",
              "      background-color: #3B4455;\n",
              "      fill: #D2E3FC;\n",
              "    }\n",
              "\n",
              "    [theme=dark] .colab-df-convert:hover {\n",
              "      background-color: #434B5C;\n",
              "      box-shadow: 0px 1px 3px 1px rgba(0, 0, 0, 0.15);\n",
              "      filter: drop-shadow(0px 1px 2px rgba(0, 0, 0, 0.3));\n",
              "      fill: #FFFFFF;\n",
              "    }\n",
              "  </style>\n",
              "\n",
              "      <script>\n",
              "        const buttonEl =\n",
              "          document.querySelector('#df-fb7f8ca1-d104-4203-a36f-0e6efc6d0f79 button.colab-df-convert');\n",
              "        buttonEl.style.display =\n",
              "          google.colab.kernel.accessAllowed ? 'block' : 'none';\n",
              "\n",
              "        async function convertToInteractive(key) {\n",
              "          const element = document.querySelector('#df-fb7f8ca1-d104-4203-a36f-0e6efc6d0f79');\n",
              "          const dataTable =\n",
              "            await google.colab.kernel.invokeFunction('convertToInteractive',\n",
              "                                                     [key], {});\n",
              "          if (!dataTable) return;\n",
              "\n",
              "          const docLinkHtml = 'Like what you see? Visit the ' +\n",
              "            '<a target=\"_blank\" href=https://colab.research.google.com/notebooks/data_table.ipynb>data table notebook</a>'\n",
              "            + ' to learn more about interactive tables.';\n",
              "          element.innerHTML = '';\n",
              "          dataTable['output_type'] = 'display_data';\n",
              "          await google.colab.output.renderOutput(dataTable, element);\n",
              "          const docLink = document.createElement('div');\n",
              "          docLink.innerHTML = docLinkHtml;\n",
              "          element.appendChild(docLink);\n",
              "        }\n",
              "      </script>\n",
              "    </div>\n",
              "  </div>\n",
              "  "
            ]
          },
          "metadata": {},
          "execution_count": 205
        }
      ]
    },
    {
      "cell_type": "code",
      "source": [
        "df.info()"
      ],
      "metadata": {
        "colab": {
          "base_uri": "https://localhost:8080/"
        },
        "id": "EgHlvPpzA-TO",
        "outputId": "9709a38e-b5d0-4894-bc2f-0ba659470fc9"
      },
      "execution_count": 206,
      "outputs": [
        {
          "output_type": "stream",
          "name": "stdout",
          "text": [
            "<class 'pandas.core.frame.DataFrame'>\n",
            "RangeIndex: 108427 entries, 0 to 108426\n",
            "Data columns (total 9 columns):\n",
            " #   Column        Non-Null Count   Dtype  \n",
            "---  ------        --------------   -----  \n",
            " 0   model         108427 non-null  object \n",
            " 1   year          108427 non-null  int64  \n",
            " 2   price         108427 non-null  int64  \n",
            " 3   transmission  108427 non-null  object \n",
            " 4   mileage       108427 non-null  int64  \n",
            " 5   fuelType      108427 non-null  object \n",
            " 6   tax           99074 non-null   float64\n",
            " 7   mpg           99074 non-null   float64\n",
            " 8   engineSize    108427 non-null  float64\n",
            "dtypes: float64(3), int64(3), object(3)\n",
            "memory usage: 7.4+ MB\n"
          ]
        }
      ]
    },
    {
      "cell_type": "code",
      "source": [
        "#delete column\"tax\"\n",
        "df = df.drop([\"tax\"], axis = 1)"
      ],
      "metadata": {
        "id": "Qd4xvBP3BCme"
      },
      "execution_count": 207,
      "outputs": []
    },
    {
      "cell_type": "code",
      "source": [
        "#Check Trend: top10 sold out models\n",
        "import matplotlib.pyplot as plt\n",
        "\n",
        "models = pd.DataFrame(df.groupby(\"model\")[\"model\"].count())\n",
        "models.columns = [\"count\"]\n",
        "models.sort_values(by=[\"count\"], inplace=True, ascending=False)\n",
        "models = models.head(10)\n",
        "models.plot.bar()\n",
        "plt.show()\n",
        "print(models)\n",
        "models.index"
      ],
      "metadata": {
        "colab": {
          "base_uri": "https://localhost:8080/",
          "height": 578
        },
        "id": "3lVWpmgbCkEK",
        "outputId": "f2a861fc-d426-4270-a73a-6047cdcfba15"
      },
      "execution_count": 208,
      "outputs": [
        {
          "output_type": "display_data",
          "data": {
            "text/plain": [
              "<Figure size 432x288 with 1 Axes>"
            ],
            "image/png": "[encoded data removed]"
          },
          "metadata": {}
        },
        {
          "output_type": "stream",
          "name": "stdout",
          "text": [
            "          count\n",
            "model          \n",
            " Focus    10042\n",
            " C Class   7646\n",
            " Fiesta    6557\n",
            " Golf      4863\n",
            " A3        3858\n",
            " Corsa     3441\n",
            " Polo      3287\n",
            " Q3        2834\n",
            " Astra     2805\n",
            " A4        2762\n"
          ]
        },
        {
          "output_type": "execute_result",
          "data": {
            "text/plain": [
              "Index([' Focus', ' C Class', ' Fiesta', ' Golf', ' A3', ' Corsa', ' Polo',\n",
              "       ' Q3', ' Astra', ' A4'],\n",
              "      dtype='object', name='model')"
            ]
          },
          "metadata": {},
          "execution_count": 208
        }
      ]
    },
    {
      "cell_type": "code",
      "source": [
        "#top10 best selling cars avg price\n",
        "models_avg_price = df.groupby(\"model\")[\"price\"].mean()\n",
        "models_avg_price[[' Focus', ' C Class', ' Fiesta', ' Golf', ' A3', ' Corsa', ' Polo',\n",
        "       ' Q3', ' Astra', ' A4']]\n",
        "models['avg_price'] = models_avg_price\n",
        "models.plot.line()\n",
        "print(models)\n",
        "print(models[\"avg_price\"].mean())"
      ],
      "metadata": {
        "colab": {
          "base_uri": "https://localhost:8080/",
          "height": 511
        },
        "id": "Q97545esL3FU",
        "outputId": "ca2d13d5-5cea-476f-b8a1-50c1de2126d6"
      },
      "execution_count": 209,
      "outputs": [
        {
          "output_type": "stream",
          "name": "stdout",
          "text": [
            "          count  avg_price\n",
            "model                     \n",
            " Focus    10042    13401.0\n",
            " C Class   7646    23684.8\n",
            " Fiesta    6557    10196.3\n",
            " Golf      4863    16689.7\n",
            " A3        3858    17408.5\n",
            " Corsa     3441     8342.7\n",
            " Polo      3287    11341.4\n",
            " Q3        2834    22999.3\n",
            " Astra     2805    10471.4\n",
            " A4        2762    20255.5\n",
            "15479.064834106117\n"
          ]
        },
        {
          "output_type": "display_data",
          "data": {
            "text/plain": [
              "<Figure size 432x288 with 1 Axes>"
            ],
            "image/png": "[encoded data removed]"
          },
          "metadata": {}
        }
      ]
    },
    {
      "cell_type": "code",
      "source": [
        "#top10 best selling cars avg year\n",
        "models_avg_year = df.groupby(\"model\")[\"year\"].mean()\n",
        "models_avg_year[[' Focus', ' C Class', ' Fiesta', ' Golf', ' A3', ' Corsa', ' Polo',\n",
        "       ' Q3', ' Astra', ' A4']]\n",
        "models['avg_year'] = models_avg_year\n",
        "print(models)\n",
        "print(models[\"avg_year\"].mean())"
      ],
      "metadata": {
        "colab": {
          "base_uri": "https://localhost:8080/"
        },
        "id": "K_iUna16Oh9s",
        "outputId": "262704ca-bafa-45c6-bced-91f662f738be"
      },
      "execution_count": 210,
      "outputs": [
        {
          "output_type": "stream",
          "name": "stdout",
          "text": [
            "          count  avg_price  avg_year\n",
            "model                               \n",
            " Focus    10042    13401.0    2017.1\n",
            " C Class   7646    23684.8    2017.4\n",
            " Fiesta    6557    10196.3    2016.8\n",
            " Golf      4863    16689.7    2017.1\n",
            " A3        3858    17408.5    2016.7\n",
            " Corsa     3441     8342.7    2016.7\n",
            " Polo      3287    11341.4    2016.9\n",
            " Q3        2834    22999.3    2017.3\n",
            " Astra     2805    10471.4    2016.9\n",
            " A4        2762    20255.5    2017.0\n",
            "2016.9935967819833\n"
          ]
        }
      ]
    },
    {
      "cell_type": "code",
      "source": [
        "#Check Trend: top10 sold out years\n",
        "\n",
        "years = pd.DataFrame(df.groupby(\"year\")[\"year\"].count())\n",
        "years.columns = [\"count\"]\n",
        "years.sort_values(by=[\"count\"], inplace=True, ascending=False)\n",
        "years = years.head(10)\n",
        "years.plot.bar()\n",
        "plt.show()\n",
        "print(years)"
      ],
      "metadata": {
        "colab": {
          "base_uri": "https://localhost:8080/",
          "height": 511
        },
        "id": "wyGfLiNOEsY-",
        "outputId": "75564ce6-5e2f-4a34-f8b6-c0fba880dc6d"
      },
      "execution_count": 211,
      "outputs": [
        {
          "output_type": "display_data",
          "data": {
            "text/plain": [
              "<Figure size 432x288 with 1 Axes>"
            ],
            "image/png": "[encoded data removed]"
          },
          "metadata": {}
        },
        {
          "output_type": "stream",
          "name": "stdout",
          "text": [
            "      count\n",
            "year       \n",
            "2019  29667\n",
            "2017  23900\n",
            "2016  17030\n",
            "2018  15108\n",
            "2015   8436\n",
            "2020   4640\n",
            "2014   4323\n",
            "2013   2752\n",
            "2012    668\n",
            "2011    473\n"
          ]
        }
      ]
    },
    {
      "cell_type": "code",
      "source": [
        "#Check Trend: top10 years average price\n",
        "\n",
        "years_price = pd.DataFrame(df.groupby(\"year\")[\"price\"].mean())\n",
        "years_price.columns = [\"avg_price\"]\n",
        "years_price.sort_values(by=[\"avg_price\"], inplace=True, ascending=False)\n",
        "years_price = years_price.head(10)\n",
        "years_price.plot.bar()\n",
        "plt.show()\n",
        "print(years_price)"
      ],
      "metadata": {
        "colab": {
          "base_uri": "https://localhost:8080/",
          "height": 515
        },
        "id": "kCpc-4UjGHDi",
        "outputId": "55f6f6e5-7ddb-4f3c-da78-c458c9816c7b"
      },
      "execution_count": 212,
      "outputs": [
        {
          "output_type": "display_data",
          "data": {
            "text/plain": [
              "<Figure size 432x288 with 1 Axes>"
            ],
            "image/png": "[encoded data removed]"
          },
          "metadata": {}
        },
        {
          "output_type": "stream",
          "name": "stdout",
          "text": [
            "      avg_price\n",
            "year           \n",
            "2020    28583.7\n",
            "2019    23396.8\n",
            "1970    17747.0\n",
            "2018    16521.6\n",
            "2017    14561.8\n",
            "2016    13421.2\n",
            "2015    11679.4\n",
            "2014    10015.5\n",
            "2013     8538.5\n",
            "1998     7599.7\n"
          ]
        }
      ]
    },
    {
      "cell_type": "code",
      "source": [
        "#Check how many 1970 & 1998 cars were sold\n",
        "\n",
        "condition = (df[\"year\"] == 1970) | (df[\"year\"] == 1998)\n",
        "df[condition]"
      ],
      "metadata": {
        "colab": {
          "base_uri": "https://localhost:8080/",
          "height": 394
        },
        "id": "DSn13sIkGYjp",
        "outputId": "c9d70120-3a25-4681-8335-f8c8315db906"
      },
      "execution_count": 213,
      "outputs": [
        {
          "output_type": "execute_result",
          "data": {
            "text/plain": [
              "               model  year  price transmission  mileage fuelType  mpg  \\\n",
              "9788              A3  1998   4999    Automatic    55000   Petrol 30.4   \n",
              "20456             A3  1998   4999    Automatic    55000   Petrol 30.4   \n",
              "25096        C Class  1998   1290    Automatic   140000   Petrol  NaN   \n",
              "44233         Fiesta  1998   2699       Manual    37000   Petrol 41.5   \n",
              "65278            SLK  1998   1990    Automatic    99300   Petrol 32.1   \n",
              "65308        S Class  1998  19990    Automatic    43534   Petrol 23.3   \n",
              "65322            SLK  1998   1990    Automatic   113557   Petrol 32.1   \n",
              "65374       SL CLASS  1998  10450    Automatic    49000   Petrol 28.2   \n",
              "65586        M Class  1970  24999    Automatic    14000   Diesel 39.2   \n",
              "79594   Land Cruiser  1998  19990       Manual   100000   Diesel 23.9   \n",
              "90475         Zafira  1970  10495       Manual    37357   Petrol 42.2   \n",
              "\n",
              "       engineSize  \n",
              "9788          1.8  \n",
              "20456         1.8  \n",
              "25096         2.0  \n",
              "44233         1.2  \n",
              "65278         2.3  \n",
              "65308         6.0  \n",
              "65322         2.3  \n",
              "65374         3.2  \n",
              "65586         0.0  \n",
              "79594         4.2  \n",
              "90475         1.4  "
            ],
            "text/html": [
              "\n",
              "  <div id=\"df-d2612b38-6fe1-403e-9b83-6bda1289d976\">\n",
              "    <div class=\"colab-df-container\">\n",
              "      <div>\n",
              "<style scoped>\n",
              "    .dataframe tbody tr th:only-of-type {\n",
              "        vertical-align: middle;\n",
              "    }\n",
              "\n",
              "    .dataframe tbody tr th {\n",
              "        vertical-align: top;\n",
              "    }\n",
              "\n",
              "    .dataframe thead th {\n",
              "        text-align: right;\n",
              "    }\n",
              "</style>\n",
              "<table border=\"1\" class=\"dataframe\">\n",
              "  <thead>\n",
              "    <tr style=\"text-align: right;\">\n",
              "      <th></th>\n",
              "      <th>model</th>\n",
              "      <th>year</th>\n",
              "      <th>price</th>\n",
              "      <th>transmission</th>\n",
              "      <th>mileage</th>\n",
              "      <th>fuelType</th>\n",
              "      <th>mpg</th>\n",
              "      <th>engineSize</th>\n",
              "    </tr>\n",
              "  </thead>\n",
              "  <tbody>\n",
              "    <tr>\n",
              "      <th>9788</th>\n",
              "      <td>A3</td>\n",
              "      <td>1998</td>\n",
              "      <td>4999</td>\n",
              "      <td>Automatic</td>\n",
              "      <td>55000</td>\n",
              "      <td>Petrol</td>\n",
              "      <td>30.4</td>\n",
              "      <td>1.8</td>\n",
              "    </tr>\n",
              "    <tr>\n",
              "      <th>20456</th>\n",
              "      <td>A3</td>\n",
              "      <td>1998</td>\n",
              "      <td>4999</td>\n",
              "      <td>Automatic</td>\n",
              "      <td>55000</td>\n",
              "      <td>Petrol</td>\n",
              "      <td>30.4</td>\n",
              "      <td>1.8</td>\n",
              "    </tr>\n",
              "    <tr>\n",
              "      <th>25096</th>\n",
              "      <td>C Class</td>\n",
              "      <td>1998</td>\n",
              "      <td>1290</td>\n",
              "      <td>Automatic</td>\n",
              "      <td>140000</td>\n",
              "      <td>Petrol</td>\n",
              "      <td>NaN</td>\n",
              "      <td>2.0</td>\n",
              "    </tr>\n",
              "    <tr>\n",
              "      <th>44233</th>\n",
              "      <td>Fiesta</td>\n",
              "      <td>1998</td>\n",
              "      <td>2699</td>\n",
              "      <td>Manual</td>\n",
              "      <td>37000</td>\n",
              "      <td>Petrol</td>\n",
              "      <td>41.5</td>\n",
              "      <td>1.2</td>\n",
              "    </tr>\n",
              "    <tr>\n",
              "      <th>65278</th>\n",
              "      <td>SLK</td>\n",
              "      <td>1998</td>\n",
              "      <td>1990</td>\n",
              "      <td>Automatic</td>\n",
              "      <td>99300</td>\n",
              "      <td>Petrol</td>\n",
              "      <td>32.1</td>\n",
              "      <td>2.3</td>\n",
              "    </tr>\n",
              "    <tr>\n",
              "      <th>65308</th>\n",
              "      <td>S Class</td>\n",
              "      <td>1998</td>\n",
              "      <td>19990</td>\n",
              "      <td>Automatic</td>\n",
              "      <td>43534</td>\n",
              "      <td>Petrol</td>\n",
              "      <td>23.3</td>\n",
              "      <td>6.0</td>\n",
              "    </tr>\n",
              "    <tr>\n",
              "      <th>65322</th>\n",
              "      <td>SLK</td>\n",
              "      <td>1998</td>\n",
              "      <td>1990</td>\n",
              "      <td>Automatic</td>\n",
              "      <td>113557</td>\n",
              "      <td>Petrol</td>\n",
              "      <td>32.1</td>\n",
              "      <td>2.3</td>\n",
              "    </tr>\n",
              "    <tr>\n",
              "      <th>65374</th>\n",
              "      <td>SL CLASS</td>\n",
              "      <td>1998</td>\n",
              "      <td>10450</td>\n",
              "      <td>Automatic</td>\n",
              "      <td>49000</td>\n",
              "      <td>Petrol</td>\n",
              "      <td>28.2</td>\n",
              "      <td>3.2</td>\n",
              "    </tr>\n",
              "    <tr>\n",
              "      <th>65586</th>\n",
              "      <td>M Class</td>\n",
              "      <td>1970</td>\n",
              "      <td>24999</td>\n",
              "      <td>Automatic</td>\n",
              "      <td>14000</td>\n",
              "      <td>Diesel</td>\n",
              "      <td>39.2</td>\n",
              "      <td>0.0</td>\n",
              "    </tr>\n",
              "    <tr>\n",
              "      <th>79594</th>\n",
              "      <td>Land Cruiser</td>\n",
              "      <td>1998</td>\n",
              "      <td>19990</td>\n",
              "      <td>Manual</td>\n",
              "      <td>100000</td>\n",
              "      <td>Diesel</td>\n",
              "      <td>23.9</td>\n",
              "      <td>4.2</td>\n",
              "    </tr>\n",
              "    <tr>\n",
              "      <th>90475</th>\n",
              "      <td>Zafira</td>\n",
              "      <td>1970</td>\n",
              "      <td>10495</td>\n",
              "      <td>Manual</td>\n",
              "      <td>37357</td>\n",
              "      <td>Petrol</td>\n",
              "      <td>42.2</td>\n",
              "      <td>1.4</td>\n",
              "    </tr>\n",
              "  </tbody>\n",
              "</table>\n",
              "</div>\n",
              "      <button class=\"colab-df-convert\" onclick=\"convertToInteractive('df-d2612b38-6fe1-403e-9b83-6bda1289d976')\"\n",
              "              title=\"Convert this dataframe to an interactive table.\"\n",
              "              style=\"display:none;\">\n",
              "        \n",
              "  <svg xmlns=\"http://www.w3.org/2000/svg\" height=\"24px\"viewBox=\"0 0 24 24\"\n",
              "       width=\"24px\">\n",
              "    <path d=\"M0 0h24v24H0V0z\" fill=\"none\"/>\n",
              "    <path d=\"M18.56 5.44l.94 2.06.94-2.06 2.06-.94-2.06-.94-.94-2.06-.94 2.06-2.06.94zm-11 1L8.5 8.5l.94-2.06 2.06-.94-2.06-.94L8.5 2.5l-.94 2.06-2.06.94zm10 10l.94 2.06.94-2.06 2.06-.94-2.06-.94-.94-2.06-.94 2.06-2.06.94z\"/><path d=\"M17.41 7.96l-1.37-1.37c-.4-.4-.92-.59-1.43-.59-.52 0-1.04.2-1.43.59L10.3 9.45l-7.72 7.72c-.78.78-.78 2.05 0 2.83L4 21.41c.39.39.9.59 1.41.59.51 0 1.02-.2 1.41-.59l7.78-7.78 2.81-2.81c.8-.78.8-2.07 0-2.86zM5.41 20L4 18.59l7.72-7.72 1.47 1.35L5.41 20z\"/>\n",
              "  </svg>\n",
              "      </button>\n",
              "      \n",
              "  <style>\n",
              "    .colab-df-container {\n",
              "      display:flex;\n",
              "      flex-wrap:wrap;\n",
              "      gap: 12px;\n",
              "    }\n",
              "\n",
              "    .colab-df-convert {\n",
              "      background-color: #E8F0FE;\n",
              "      border: none;\n",
              "      border-radius: 50%;\n",
              "      cursor: pointer;\n",
              "      display: none;\n",
              "      fill: #1967D2;\n",
              "      height: 32px;\n",
              "      padding: 0 0 0 0;\n",
              "      width: 32px;\n",
              "    }\n",
              "\n",
              "    .colab-df-convert:hover {\n",
              "      background-color: #E2EBFA;\n",
              "      box-shadow: 0px 1px 2px rgba(60, 64, 67, 0.3), 0px 1px 3px 1px rgba(60, 64, 67, 0.15);\n",
              "      fill: #174EA6;\n",
              "    }\n",
              "\n",
              "    [theme=dark] .colab-df-convert {\n",
              "      background-color: #3B4455;\n",
              "      fill: #D2E3FC;\n",
              "    }\n",
              "\n",
              "    [theme=dark] .colab-df-convert:hover {\n",
              "      background-color: #434B5C;\n",
              "      box-shadow: 0px 1px 3px 1px rgba(0, 0, 0, 0.15);\n",
              "      filter: drop-shadow(0px 1px 2px rgba(0, 0, 0, 0.3));\n",
              "      fill: #FFFFFF;\n",
              "    }\n",
              "  </style>\n",
              "\n",
              "      <script>\n",
              "        const buttonEl =\n",
              "          document.querySelector('#df-d2612b38-6fe1-403e-9b83-6bda1289d976 button.colab-df-convert');\n",
              "        buttonEl.style.display =\n",
              "          google.colab.kernel.accessAllowed ? 'block' : 'none';\n",
              "\n",
              "        async function convertToInteractive(key) {\n",
              "          const element = document.querySelector('#df-d2612b38-6fe1-403e-9b83-6bda1289d976');\n",
              "          const dataTable =\n",
              "            await google.colab.kernel.invokeFunction('convertToInteractive',\n",
              "                                                     [key], {});\n",
              "          if (!dataTable) return;\n",
              "\n",
              "          const docLinkHtml = 'Like what you see? Visit the ' +\n",
              "            '<a target=\"_blank\" href=https://colab.research.google.com/notebooks/data_table.ipynb>data table notebook</a>'\n",
              "            + ' to learn more about interactive tables.';\n",
              "          element.innerHTML = '';\n",
              "          dataTable['output_type'] = 'display_data';\n",
              "          await google.colab.output.renderOutput(dataTable, element);\n",
              "          const docLink = document.createElement('div');\n",
              "          docLink.innerHTML = docLinkHtml;\n",
              "          element.appendChild(docLink);\n",
              "        }\n",
              "      </script>\n",
              "    </div>\n",
              "  </div>\n",
              "  "
            ]
          },
          "metadata": {},
          "execution_count": 213
        }
      ]
    },
    {
      "cell_type": "code",
      "source": [
        "#Check transmissions\n",
        "transmission = pd.DataFrame(df.groupby([\"transmission\"])[\"transmission\"].count())\n",
        "transmission.columns = [\"count\"]\n",
        "transmission.sort_values(by=[\"count\"], inplace=True, ascending=False)\n",
        "transmission.plot.bar()\n",
        "plt.show()\n",
        "print(transmission)"
      ],
      "metadata": {
        "colab": {
          "base_uri": "https://localhost:8080/",
          "height": 436
        },
        "id": "jenxWa6wIXzy",
        "outputId": "d8fdd853-817d-4943-c793-b08f950f33c7"
      },
      "execution_count": 214,
      "outputs": [
        {
          "output_type": "display_data",
          "data": {
            "text/plain": [
              "<Figure size 432x288 with 1 Axes>"
            ],
            "image/png": "[encoded data removed]"
          },
          "metadata": {}
        },
        {
          "output_type": "stream",
          "name": "stdout",
          "text": [
            "              count\n",
            "transmission       \n",
            "Manual        63150\n",
            "Semi-Auto     23828\n",
            "Automatic     21439\n",
            "Other            10\n"
          ]
        }
      ]
    },
    {
      "cell_type": "code",
      "source": [
        "#Check fuelType\n",
        "\n",
        "fuelType = pd.DataFrame(df.groupby(\"fuelType\")[\"fuelType\"].count())\n",
        "fuelType.columns = [\"count\"]\n",
        "fuelType.sort_values(by=[\"count\"], inplace=True, ascending=False)\n",
        "fuelType.plot.bar()\n",
        "plt.show()\n",
        "print(years_price)"
      ],
      "metadata": {
        "colab": {
          "base_uri": "https://localhost:8080/",
          "height": 524
        },
        "id": "zv1-ZsGcKF9p",
        "outputId": "61d827da-2d4b-4169-e8fb-06003e4cb88a"
      },
      "execution_count": 215,
      "outputs": [
        {
          "output_type": "display_data",
          "data": {
            "text/plain": [
              "<Figure size 432x288 with 1 Axes>"
            ],
            "image/png": "[encoded data removed]"
          },
          "metadata": {}
        },
        {
          "output_type": "stream",
          "name": "stdout",
          "text": [
            "      avg_price\n",
            "year           \n",
            "2020    28583.7\n",
            "2019    23396.8\n",
            "1970    17747.0\n",
            "2018    16521.6\n",
            "2017    14561.8\n",
            "2016    13421.2\n",
            "2015    11679.4\n",
            "2014    10015.5\n",
            "2013     8538.5\n",
            "1998     7599.7\n"
          ]
        }
      ]
    },
    {
      "cell_type": "code",
      "source": [
        "#Now we can see\n",
        "#Years: 15-19 Popular\n",
        "#Model: Focus / C Class / Fiesta / Golf / A3      \n",
        "#Transmission: manual\n",
        "#feul type: Petrol / diessel\n"
      ],
      "metadata": {
        "id": "CsGXAvZPK0iX"
      },
      "execution_count": 216,
      "outputs": []
    },
    {
      "cell_type": "markdown",
      "source": [
        "## 2. 데이터 EDA"
      ],
      "metadata": {
        "id": "sv2zFABTCl1f"
      }
    },
    {
      "cell_type": "code",
      "source": [
        "#Check \"year\" Outliers\n",
        "sns.distplot(df['year'], kde=True, rug=False)\n",
        "condition = (df[\"year\"] >2020) | (df[\"year\"] <1990)\n",
        "df[condition]"
      ],
      "metadata": {
        "colab": {
          "base_uri": "https://localhost:8080/",
          "height": 466
        },
        "id": "ipKsDuLheRpp",
        "outputId": "1f53199d-4015-404d-a7f1-466135d9a66b"
      },
      "execution_count": 217,
      "outputs": [
        {
          "output_type": "stream",
          "name": "stderr",
          "text": [
            "/usr/local/lib/python3.7/dist-packages/seaborn/distributions.py:2619: FutureWarning: `distplot` is a deprecated function and will be removed in a future version. Please adapt your code to use either `displot` (a figure-level function with similar flexibility) or `histplot` (an axes-level function for histograms).\n",
            "  warnings.warn(msg, FutureWarning)\n"
          ]
        },
        {
          "output_type": "execute_result",
          "data": {
            "text/plain": [
              "          model  year  price transmission  mileage fuelType  mpg  engineSize\n",
              "48415    Fiesta  2060   6495    Automatic    54807   Petrol 42.8         1.4\n",
              "65586   M Class  1970  24999    Automatic    14000   Diesel 39.2         0.0\n",
              "90475    Zafira  1970  10495       Manual    37357   Petrol 42.2         1.4"
            ],
            "text/html": [
              "\n",
              "  <div id=\"df-0d6a9ea4-1c8a-4b52-bc64-02611e03d72c\">\n",
              "    <div class=\"colab-df-container\">\n",
              "      <div>\n",
              "<style scoped>\n",
              "    .dataframe tbody tr th:only-of-type {\n",
              "        vertical-align: middle;\n",
              "    }\n",
              "\n",
              "    .dataframe tbody tr th {\n",
              "        vertical-align: top;\n",
              "    }\n",
              "\n",
              "    .dataframe thead th {\n",
              "        text-align: right;\n",
              "    }\n",
              "</style>\n",
              "<table border=\"1\" class=\"dataframe\">\n",
              "  <thead>\n",
              "    <tr style=\"text-align: right;\">\n",
              "      <th></th>\n",
              "      <th>model</th>\n",
              "      <th>year</th>\n",
              "      <th>price</th>\n",
              "      <th>transmission</th>\n",
              "      <th>mileage</th>\n",
              "      <th>fuelType</th>\n",
              "      <th>mpg</th>\n",
              "      <th>engineSize</th>\n",
              "    </tr>\n",
              "  </thead>\n",
              "  <tbody>\n",
              "    <tr>\n",
              "      <th>48415</th>\n",
              "      <td>Fiesta</td>\n",
              "      <td>2060</td>\n",
              "      <td>6495</td>\n",
              "      <td>Automatic</td>\n",
              "      <td>54807</td>\n",
              "      <td>Petrol</td>\n",
              "      <td>42.8</td>\n",
              "      <td>1.4</td>\n",
              "    </tr>\n",
              "    <tr>\n",
              "      <th>65586</th>\n",
              "      <td>M Class</td>\n",
              "      <td>1970</td>\n",
              "      <td>24999</td>\n",
              "      <td>Automatic</td>\n",
              "      <td>14000</td>\n",
              "      <td>Diesel</td>\n",
              "      <td>39.2</td>\n",
              "      <td>0.0</td>\n",
              "    </tr>\n",
              "    <tr>\n",
              "      <th>90475</th>\n",
              "      <td>Zafira</td>\n",
              "      <td>1970</td>\n",
              "      <td>10495</td>\n",
              "      <td>Manual</td>\n",
              "      <td>37357</td>\n",
              "      <td>Petrol</td>\n",
              "      <td>42.2</td>\n",
              "      <td>1.4</td>\n",
              "    </tr>\n",
              "  </tbody>\n",
              "</table>\n",
              "</div>\n",
              "      <button class=\"colab-df-convert\" onclick=\"convertToInteractive('df-0d6a9ea4-1c8a-4b52-bc64-02611e03d72c')\"\n",
              "              title=\"Convert this dataframe to an interactive table.\"\n",
              "              style=\"display:none;\">\n",
              "        \n",
              "  <svg xmlns=\"http://www.w3.org/2000/svg\" height=\"24px\"viewBox=\"0 0 24 24\"\n",
              "       width=\"24px\">\n",
              "    <path d=\"M0 0h24v24H0V0z\" fill=\"none\"/>\n",
              "    <path d=\"M18.56 5.44l.94 2.06.94-2.06 2.06-.94-2.06-.94-.94-2.06-.94 2.06-2.06.94zm-11 1L8.5 8.5l.94-2.06 2.06-.94-2.06-.94L8.5 2.5l-.94 2.06-2.06.94zm10 10l.94 2.06.94-2.06 2.06-.94-2.06-.94-.94-2.06-.94 2.06-2.06.94z\"/><path d=\"M17.41 7.96l-1.37-1.37c-.4-.4-.92-.59-1.43-.59-.52 0-1.04.2-1.43.59L10.3 9.45l-7.72 7.72c-.78.78-.78 2.05 0 2.83L4 21.41c.39.39.9.59 1.41.59.51 0 1.02-.2 1.41-.59l7.78-7.78 2.81-2.81c.8-.78.8-2.07 0-2.86zM5.41 20L4 18.59l7.72-7.72 1.47 1.35L5.41 20z\"/>\n",
              "  </svg>\n",
              "      </button>\n",
              "      \n",
              "  <style>\n",
              "    .colab-df-container {\n",
              "      display:flex;\n",
              "      flex-wrap:wrap;\n",
              "      gap: 12px;\n",
              "    }\n",
              "\n",
              "    .colab-df-convert {\n",
              "      background-color: #E8F0FE;\n",
              "      border: none;\n",
              "      border-radius: 50%;\n",
              "      cursor: pointer;\n",
              "      display: none;\n",
              "      fill: #1967D2;\n",
              "      height: 32px;\n",
              "      padding: 0 0 0 0;\n",
              "      width: 32px;\n",
              "    }\n",
              "\n",
              "    .colab-df-convert:hover {\n",
              "      background-color: #E2EBFA;\n",
              "      box-shadow: 0px 1px 2px rgba(60, 64, 67, 0.3), 0px 1px 3px 1px rgba(60, 64, 67, 0.15);\n",
              "      fill: #174EA6;\n",
              "    }\n",
              "\n",
              "    [theme=dark] .colab-df-convert {\n",
              "      background-color: #3B4455;\n",
              "      fill: #D2E3FC;\n",
              "    }\n",
              "\n",
              "    [theme=dark] .colab-df-convert:hover {\n",
              "      background-color: #434B5C;\n",
              "      box-shadow: 0px 1px 3px 1px rgba(0, 0, 0, 0.15);\n",
              "      filter: drop-shadow(0px 1px 2px rgba(0, 0, 0, 0.3));\n",
              "      fill: #FFFFFF;\n",
              "    }\n",
              "  </style>\n",
              "\n",
              "      <script>\n",
              "        const buttonEl =\n",
              "          document.querySelector('#df-0d6a9ea4-1c8a-4b52-bc64-02611e03d72c button.colab-df-convert');\n",
              "        buttonEl.style.display =\n",
              "          google.colab.kernel.accessAllowed ? 'block' : 'none';\n",
              "\n",
              "        async function convertToInteractive(key) {\n",
              "          const element = document.querySelector('#df-0d6a9ea4-1c8a-4b52-bc64-02611e03d72c');\n",
              "          const dataTable =\n",
              "            await google.colab.kernel.invokeFunction('convertToInteractive',\n",
              "                                                     [key], {});\n",
              "          if (!dataTable) return;\n",
              "\n",
              "          const docLinkHtml = 'Like what you see? Visit the ' +\n",
              "            '<a target=\"_blank\" href=https://colab.research.google.com/notebooks/data_table.ipynb>data table notebook</a>'\n",
              "            + ' to learn more about interactive tables.';\n",
              "          element.innerHTML = '';\n",
              "          dataTable['output_type'] = 'display_data';\n",
              "          await google.colab.output.renderOutput(dataTable, element);\n",
              "          const docLink = document.createElement('div');\n",
              "          docLink.innerHTML = docLinkHtml;\n",
              "          element.appendChild(docLink);\n",
              "        }\n",
              "      </script>\n",
              "    </div>\n",
              "  </div>\n",
              "  "
            ]
          },
          "metadata": {},
          "execution_count": 217
        },
        {
          "output_type": "display_data",
          "data": {
            "text/plain": [
              "<Figure size 432x288 with 1 Axes>"
            ],
            "image/png": "[encoded data removed]"
          },
          "metadata": {}
        }
      ]
    },
    {
      "cell_type": "code",
      "source": [
        "#Check \"mileage\" Outliers\n",
        "sns.distplot(df['mileage'], kde=True, rug=False)\n",
        "condition = (df[\"mileage\"] >150000)\n",
        "df[condition][\"model\"].count()"
      ],
      "metadata": {
        "colab": {
          "base_uri": "https://localhost:8080/",
          "height": 368
        },
        "id": "ynTvN6E5P1Af",
        "outputId": "894ff405-5720-49f9-cd21-d84ed86d60cc"
      },
      "execution_count": 218,
      "outputs": [
        {
          "output_type": "stream",
          "name": "stderr",
          "text": [
            "/usr/local/lib/python3.7/dist-packages/seaborn/distributions.py:2619: FutureWarning: `distplot` is a deprecated function and will be removed in a future version. Please adapt your code to use either `displot` (a figure-level function with similar flexibility) or `histplot` (an axes-level function for histograms).\n",
            "  warnings.warn(msg, FutureWarning)\n"
          ]
        },
        {
          "output_type": "execute_result",
          "data": {
            "text/plain": [
              "46"
            ]
          },
          "metadata": {},
          "execution_count": 218
        },
        {
          "output_type": "display_data",
          "data": {
            "text/plain": [
              "<Figure size 432x288 with 1 Axes>"
            ],
            "image/png": "[encoded data removed]"
          },
          "metadata": {}
        }
      ]
    },
    {
      "cell_type": "code",
      "source": [
        "#Check \"price\" Outliers\n",
        "sns.distplot(df['price'], kde=True, rug=False)\n",
        "condition = (df[\"price\"] >75000)\n",
        "df[condition][\"price\"].count()"
      ],
      "metadata": {
        "colab": {
          "base_uri": "https://localhost:8080/",
          "height": 368
        },
        "id": "O8meNoIdOyfU",
        "outputId": "dc3e05e0-d34a-4543-9ad2-ced420941b9e"
      },
      "execution_count": 219,
      "outputs": [
        {
          "output_type": "stream",
          "name": "stderr",
          "text": [
            "/usr/local/lib/python3.7/dist-packages/seaborn/distributions.py:2619: FutureWarning: `distplot` is a deprecated function and will be removed in a future version. Please adapt your code to use either `displot` (a figure-level function with similar flexibility) or `histplot` (an axes-level function for histograms).\n",
            "  warnings.warn(msg, FutureWarning)\n"
          ]
        },
        {
          "output_type": "execute_result",
          "data": {
            "text/plain": [
              "153"
            ]
          },
          "metadata": {},
          "execution_count": 219
        },
        {
          "output_type": "display_data",
          "data": {
            "text/plain": [
              "<Figure size 432x288 with 1 Axes>"
            ],
            "image/png": "[encoded data removed]"
          },
          "metadata": {}
        }
      ]
    },
    {
      "cell_type": "code",
      "source": [
        "#Delete Outliers\n",
        "df = df[(df['price'] >= np.percentile(df['price'], 0.5)) & \n",
        "        (df['price'] <= np.percentile(df['price'], 99.5)) &\n",
        "        (df['mileage'] >= np.percentile(df['mileage'], 0.5)) & \n",
        "        (df['mileage'] <= np.percentile(df['mileage'], 99.5)) &\n",
        "        (df['year'] >= np.percentile(df['year'], 0.5)) & \n",
        "        (df['year'] <= np.percentile(df['year'], 99.5))]"
      ],
      "metadata": {
        "id": "VD8XgvedPW_k"
      },
      "execution_count": 220,
      "outputs": []
    },
    {
      "cell_type": "code",
      "source": [
        "#fill null values with average of mpg\n",
        "df = df.fillna(df.mean())"
      ],
      "metadata": {
        "colab": {
          "base_uri": "https://localhost:8080/"
        },
        "id": "1nF6Ct4heqeH",
        "outputId": "a39b358c-07f2-40b9-d5c6-2cdfa4a03d62"
      },
      "execution_count": 221,
      "outputs": [
        {
          "output_type": "stream",
          "name": "stderr",
          "text": [
            "/usr/local/lib/python3.7/dist-packages/ipykernel_launcher.py:2: FutureWarning: Dropping of nuisance columns in DataFrame reductions (with 'numeric_only=None') is deprecated; in a future version this will raise TypeError.  Select only valid columns before calling the reduction.\n",
            "  \n"
          ]
        }
      ]
    },
    {
      "cell_type": "code",
      "source": [
        "#smapling 10%\n",
        "df = df.sample(round(len(df)/10))"
      ],
      "metadata": {
        "id": "3u_j41D_d3W2"
      },
      "execution_count": 222,
      "outputs": []
    },
    {
      "cell_type": "code",
      "source": [
        "sns.distplot(df['price'], kde=True, rug=False)"
      ],
      "metadata": {
        "id": "8TLK-lT_IolE",
        "outputId": "50327c63-8b6a-4e22-a323-785345fe76bd",
        "colab": {
          "base_uri": "https://localhost:8080/",
          "height": 368
        }
      },
      "execution_count": 223,
      "outputs": [
        {
          "output_type": "stream",
          "name": "stderr",
          "text": [
            "/usr/local/lib/python3.7/dist-packages/seaborn/distributions.py:2619: FutureWarning: `distplot` is a deprecated function and will be removed in a future version. Please adapt your code to use either `displot` (a figure-level function with similar flexibility) or `histplot` (an axes-level function for histograms).\n",
            "  warnings.warn(msg, FutureWarning)\n"
          ]
        },
        {
          "output_type": "execute_result",
          "data": {
            "text/plain": [
              "<matplotlib.axes._subplots.AxesSubplot at 0x7ff087e86190>"
            ]
          },
          "metadata": {},
          "execution_count": 223
        },
        {
          "output_type": "display_data",
          "data": {
            "text/plain": [
              "<Figure size 432x288 with 1 Axes>"
            ],
            "image/png": "[encoded data removed]"
          },
          "metadata": {}
        }
      ]
    },
    {
      "cell_type": "code",
      "source": [
        "print(df['mileage'].mean())\n",
        "sns.distplot(df['mileage'], kde=True, rug=False)"
      ],
      "metadata": {
        "id": "pgY6BlkcJEuK",
        "outputId": "219da34c-6087-4c7b-994f-70ce5494d227",
        "colab": {
          "base_uri": "https://localhost:8080/",
          "height": 385
        }
      },
      "execution_count": 224,
      "outputs": [
        {
          "output_type": "stream",
          "name": "stdout",
          "text": [
            "22362.711735412948\n"
          ]
        },
        {
          "output_type": "stream",
          "name": "stderr",
          "text": [
            "/usr/local/lib/python3.7/dist-packages/seaborn/distributions.py:2619: FutureWarning: `distplot` is a deprecated function and will be removed in a future version. Please adapt your code to use either `displot` (a figure-level function with similar flexibility) or `histplot` (an axes-level function for histograms).\n",
            "  warnings.warn(msg, FutureWarning)\n"
          ]
        },
        {
          "output_type": "execute_result",
          "data": {
            "text/plain": [
              "<matplotlib.axes._subplots.AxesSubplot at 0x7ff087f43c10>"
            ]
          },
          "metadata": {},
          "execution_count": 224
        },
        {
          "output_type": "display_data",
          "data": {
            "text/plain": [
              "<Figure size 432x288 with 1 Axes>"
            ],
            "image/png": "[encoded data removed]"
          },
          "metadata": {}
        }
      ]
    },
    {
      "cell_type": "code",
      "source": [
        "sns.distplot(df['year'], kde=True, rug=False)"
      ],
      "metadata": {
        "colab": {
          "base_uri": "https://localhost:8080/",
          "height": 357
        },
        "id": "cDT4kkFjcS7b",
        "outputId": "b4cbf0a3-c40c-4199-b04e-c23ba3a407ce"
      },
      "execution_count": 225,
      "outputs": [
        {
          "output_type": "stream",
          "name": "stderr",
          "text": [
            "/usr/local/lib/python3.7/dist-packages/seaborn/distributions.py:2619: FutureWarning: `distplot` is a deprecated function and will be removed in a future version. Please adapt your code to use either `displot` (a figure-level function with similar flexibility) or `histplot` (an axes-level function for histograms).\n",
            "  warnings.warn(msg, FutureWarning)\n"
          ]
        },
        {
          "output_type": "execute_result",
          "data": {
            "text/plain": [
              "<matplotlib.axes._subplots.AxesSubplot at 0x7ff089c2a850>"
            ]
          },
          "metadata": {},
          "execution_count": 225
        },
        {
          "output_type": "display_data",
          "data": {
            "text/plain": [
              "<Figure size 432x288 with 1 Axes>"
            ],
            "image/png": "[encoded data removed]"
          },
          "metadata": {}
        }
      ]
    },
    {
      "cell_type": "code",
      "source": [
        "# sns.distplot(df[(df['year']>2015)]['mileage'], kde=True, rug=False)"
      ],
      "metadata": {
        "id": "sbWER2JJPtZj"
      },
      "execution_count": 226,
      "outputs": []
    },
    {
      "cell_type": "code",
      "source": [
        "# sns.distplot(df[(df['year']>2009)&(df['year']<2015)]['mileage'], kde=True, rug=False)"
      ],
      "metadata": {
        "id": "0RLHSbDoilE5"
      },
      "execution_count": 227,
      "outputs": []
    },
    {
      "cell_type": "code",
      "source": [
        "# sns.distplot(df[(df['price']<=16500)]['mileage'], kde=True, rug=True)"
      ],
      "metadata": {
        "id": "0EFpjLSdjivg"
      },
      "execution_count": 228,
      "outputs": []
    },
    {
      "cell_type": "code",
      "source": [
        "# sns.distplot(df[(df['price']>16500)]['mileage'], kde=True, rug=True)"
      ],
      "metadata": {
        "id": "FBqwaI0eGuv7"
      },
      "execution_count": 229,
      "outputs": []
    },
    {
      "cell_type": "code",
      "source": [
        "# sns.distplot(df[(df['price']>16500)&(df['mileage']<10000)]['year'], kde=True, rug=True)"
      ],
      "metadata": {
        "id": "Y6YP3vYFIJW4"
      },
      "execution_count": 230,
      "outputs": []
    },
    {
      "cell_type": "code",
      "source": [
        "# sns.distplot(df[(df['price']<=16500)]['year'], kde=True, rug=True)"
      ],
      "metadata": {
        "id": "vz3nWRphFzCh"
      },
      "execution_count": 231,
      "outputs": []
    },
    {
      "cell_type": "code",
      "source": [
        "#베이스라인 모델 만들기\n",
        "y_train = df[\"price\"]\n",
        "\n",
        "## SalePrice의 확률밀도함수를 그려보겠습니다\n",
        "sns.displot(df['price'], kde=True)\n",
        "\n",
        "## 평균과, 중간값으로 수직선을 그려보겠습니다.\n",
        "plt.axvline(df['price'].mean(), color='blue')\n",
        "plt.axvline(df['price'].median(), color='red');\n",
        "print(\"mean: \", df['price'].mean())\n",
        "print(\"median: \", df['price'].median())"
      ],
      "metadata": {
        "id": "-FhytgOXMpuq",
        "colab": {
          "base_uri": "https://localhost:8080/",
          "height": 400
        },
        "outputId": "8332c214-c7b2-4412-844d-e656740b0ec9"
      },
      "execution_count": 238,
      "outputs": [
        {
          "output_type": "stream",
          "name": "stdout",
          "text": [
            "mean:  16806.629239875976\n",
            "median:  14859.0\n"
          ]
        },
        {
          "output_type": "display_data",
          "data": {
            "text/plain": [
              "<Figure size 360x360 with 1 Axes>"
            ],
            "image/png": "[encoded data removed]"
          },
          "metadata": {}
        }
      ]
    },
    {
      "cell_type": "code",
      "source": [
        "sns.set(style='whitegrid', context='notebook')\n",
        "cols = ['year', 'mileage','price']\n",
        "sns.pairplot(df[cols], height=2);"
      ],
      "metadata": {
        "colab": {
          "base_uri": "https://localhost:8080/",
          "height": 442
        },
        "id": "uOL0iA_Idjjm",
        "outputId": "b13957ab-635f-4f53-9915-e193e0974d89"
      },
      "execution_count": 201,
      "outputs": [
        {
          "output_type": "display_data",
          "data": {
            "text/plain": [
              "<Figure size 432x432 with 12 Axes>"
            ],
            "image/png": "[encoded data removed]"
          },
          "metadata": {}
        }
      ]
    },
    {
      "cell_type": "code",
      "source": [
        "# 기준모델로 훈련 에러(MAE) 계산\n",
        "from sklearn.metrics import mean_absolute_error\n",
        "price_mean = df[\"price\"].mean()\n",
        "y_pred = [price_mean] * len(y_train)\n",
        "mae = mean_absolute_error(y_train, y_pred)\n",
        "\n",
        "print(f'평균 값(가격) 에러: {mae:.2f}')"
      ],
      "metadata": {
        "colab": {
          "base_uri": "https://localhost:8080/"
        },
        "id": "grOEUn91dPA2",
        "outputId": "3ee47f37-152e-42ff-cfbb-943d6f3eaf92"
      },
      "execution_count": 240,
      "outputs": [
        {
          "output_type": "stream",
          "name": "stdout",
          "text": [
            "평균 값(가격) 에러: 6740.85\n"
          ]
        }
      ]
    },
    {
      "cell_type": "code",
      "source": [
        "# Make baseline model\n",
        "from sklearn.linear_model import LinearRegression\n",
        "\n",
        "baseline_model = LinearRegression()"
      ],
      "metadata": {
        "id": "iJPIV4YvkawQ"
      },
      "execution_count": null,
      "outputs": []
    },
    {
      "cell_type": "code",
      "source": [
        "## train set, validation set, test set\n",
        "from sklearn.model_selection import train_test_split\n",
        "train, val = train_test_split(df, random_state=2)\n",
        "print(\"train shape: \", train.shape)\n",
        "print(\"val shape: \", val.shape)"
      ],
      "metadata": {
        "id": "0XyZQE7Pk6Fr"
      },
      "execution_count": null,
      "outputs": []
    }
  ]
}