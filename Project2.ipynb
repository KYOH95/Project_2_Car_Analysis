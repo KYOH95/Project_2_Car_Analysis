{
  "nbformat": 4,
  "nbformat_minor": 0,
  "metadata": {
    "colab": {
      "name": "Project2.ipynb",
      "provenance": []
    },
    "kernelspec": {
      "name": "python3",
      "display_name": "Python 3"
    },
    "language_info": {
      "name": "python"
    }
  },
  "cells": [
    {
      "cell_type": "markdown",
      "source": [
        "## 1. 데이터 분석"
      ],
      "metadata": {
        "id": "DMLxujM0CpWF"
      }
    },
    {
      "cell_type": "code",
      "execution_count": 30,
      "metadata": {
        "id": "jOrdXE9qMdzP",
        "colab": {
          "base_uri": "https://localhost:8080/",
          "height": 380
        },
        "outputId": "832c8c86-a5b5-4bcd-cda4-2ace76bcd25c"
      },
      "outputs": [
        {
          "output_type": "stream",
          "name": "stdout",
          "text": [
            "(108427, 9)\n"
          ]
        },
        {
          "output_type": "execute_result",
          "data": {
            "text/plain": [
              "           model  year  price transmission  mileage fuelType   tax  mpg  \\\n",
              "10008         A3  2015   7000       Manual   112380   Diesel   0.0 74.3   \n",
              "8992          Q3  2015  11399       Manual    71787   Diesel  30.0 61.4   \n",
              "9467          A5  2019  31490    Automatic       10   Petrol 145.0 39.8   \n",
              "107850   Golf SV  2016  11698       Manual    12704   Petrol  30.0 55.4   \n",
              "56632    B Class  2019  22500    Semi-Auto    13491   Petrol 145.0 45.6   \n",
              "60953    C Class  2020  29990    Semi-Auto       99   Diesel 145.0 64.2   \n",
              "36230     Fiesta  2016   7991       Manual    10094   Petrol 125.0 54.3   \n",
              "103546    Tiguan  2019  19798       Manual    13901   Petrol 145.0 40.9   \n",
              "98159       Golf  2019  18500       Manual       50   Petrol 145.0 50.4   \n",
              "6272          Q3  2020  36950    Semi-Auto     2888   Petrol 150.0 39.2   \n",
              "\n",
              "        engineSize  \n",
              "10008          1.6  \n",
              "8992           2.0  \n",
              "9467           2.0  \n",
              "107850         1.4  \n",
              "56632          1.3  \n",
              "60953          2.0  \n",
              "36230          1.2  \n",
              "103546         1.5  \n",
              "98159          1.5  \n",
              "6272           1.5  "
            ],
            "text/html": [
              "\n",
              "  <div id=\"df-6631e7e4-19dc-4ca5-b67b-3654d9d7afbc\">\n",
              "    <div class=\"colab-df-container\">\n",
              "      <div>\n",
              "<style scoped>\n",
              "    .dataframe tbody tr th:only-of-type {\n",
              "        vertical-align: middle;\n",
              "    }\n",
              "\n",
              "    .dataframe tbody tr th {\n",
              "        vertical-align: top;\n",
              "    }\n",
              "\n",
              "    .dataframe thead th {\n",
              "        text-align: right;\n",
              "    }\n",
              "</style>\n",
              "<table border=\"1\" class=\"dataframe\">\n",
              "  <thead>\n",
              "    <tr style=\"text-align: right;\">\n",
              "      <th></th>\n",
              "      <th>model</th>\n",
              "      <th>year</th>\n",
              "      <th>price</th>\n",
              "      <th>transmission</th>\n",
              "      <th>mileage</th>\n",
              "      <th>fuelType</th>\n",
              "      <th>tax</th>\n",
              "      <th>mpg</th>\n",
              "      <th>engineSize</th>\n",
              "    </tr>\n",
              "  </thead>\n",
              "  <tbody>\n",
              "    <tr>\n",
              "      <th>10008</th>\n",
              "      <td>A3</td>\n",
              "      <td>2015</td>\n",
              "      <td>7000</td>\n",
              "      <td>Manual</td>\n",
              "      <td>112380</td>\n",
              "      <td>Diesel</td>\n",
              "      <td>0.0</td>\n",
              "      <td>74.3</td>\n",
              "      <td>1.6</td>\n",
              "    </tr>\n",
              "    <tr>\n",
              "      <th>8992</th>\n",
              "      <td>Q3</td>\n",
              "      <td>2015</td>\n",
              "      <td>11399</td>\n",
              "      <td>Manual</td>\n",
              "      <td>71787</td>\n",
              "      <td>Diesel</td>\n",
              "      <td>30.0</td>\n",
              "      <td>61.4</td>\n",
              "      <td>2.0</td>\n",
              "    </tr>\n",
              "    <tr>\n",
              "      <th>9467</th>\n",
              "      <td>A5</td>\n",
              "      <td>2019</td>\n",
              "      <td>31490</td>\n",
              "      <td>Automatic</td>\n",
              "      <td>10</td>\n",
              "      <td>Petrol</td>\n",
              "      <td>145.0</td>\n",
              "      <td>39.8</td>\n",
              "      <td>2.0</td>\n",
              "    </tr>\n",
              "    <tr>\n",
              "      <th>107850</th>\n",
              "      <td>Golf SV</td>\n",
              "      <td>2016</td>\n",
              "      <td>11698</td>\n",
              "      <td>Manual</td>\n",
              "      <td>12704</td>\n",
              "      <td>Petrol</td>\n",
              "      <td>30.0</td>\n",
              "      <td>55.4</td>\n",
              "      <td>1.4</td>\n",
              "    </tr>\n",
              "    <tr>\n",
              "      <th>56632</th>\n",
              "      <td>B Class</td>\n",
              "      <td>2019</td>\n",
              "      <td>22500</td>\n",
              "      <td>Semi-Auto</td>\n",
              "      <td>13491</td>\n",
              "      <td>Petrol</td>\n",
              "      <td>145.0</td>\n",
              "      <td>45.6</td>\n",
              "      <td>1.3</td>\n",
              "    </tr>\n",
              "    <tr>\n",
              "      <th>60953</th>\n",
              "      <td>C Class</td>\n",
              "      <td>2020</td>\n",
              "      <td>29990</td>\n",
              "      <td>Semi-Auto</td>\n",
              "      <td>99</td>\n",
              "      <td>Diesel</td>\n",
              "      <td>145.0</td>\n",
              "      <td>64.2</td>\n",
              "      <td>2.0</td>\n",
              "    </tr>\n",
              "    <tr>\n",
              "      <th>36230</th>\n",
              "      <td>Fiesta</td>\n",
              "      <td>2016</td>\n",
              "      <td>7991</td>\n",
              "      <td>Manual</td>\n",
              "      <td>10094</td>\n",
              "      <td>Petrol</td>\n",
              "      <td>125.0</td>\n",
              "      <td>54.3</td>\n",
              "      <td>1.2</td>\n",
              "    </tr>\n",
              "    <tr>\n",
              "      <th>103546</th>\n",
              "      <td>Tiguan</td>\n",
              "      <td>2019</td>\n",
              "      <td>19798</td>\n",
              "      <td>Manual</td>\n",
              "      <td>13901</td>\n",
              "      <td>Petrol</td>\n",
              "      <td>145.0</td>\n",
              "      <td>40.9</td>\n",
              "      <td>1.5</td>\n",
              "    </tr>\n",
              "    <tr>\n",
              "      <th>98159</th>\n",
              "      <td>Golf</td>\n",
              "      <td>2019</td>\n",
              "      <td>18500</td>\n",
              "      <td>Manual</td>\n",
              "      <td>50</td>\n",
              "      <td>Petrol</td>\n",
              "      <td>145.0</td>\n",
              "      <td>50.4</td>\n",
              "      <td>1.5</td>\n",
              "    </tr>\n",
              "    <tr>\n",
              "      <th>6272</th>\n",
              "      <td>Q3</td>\n",
              "      <td>2020</td>\n",
              "      <td>36950</td>\n",
              "      <td>Semi-Auto</td>\n",
              "      <td>2888</td>\n",
              "      <td>Petrol</td>\n",
              "      <td>150.0</td>\n",
              "      <td>39.2</td>\n",
              "      <td>1.5</td>\n",
              "    </tr>\n",
              "  </tbody>\n",
              "</table>\n",
              "</div>\n",
              "      <button class=\"colab-df-convert\" onclick=\"convertToInteractive('df-6631e7e4-19dc-4ca5-b67b-3654d9d7afbc')\"\n",
              "              title=\"Convert this dataframe to an interactive table.\"\n",
              "              style=\"display:none;\">\n",
              "        \n",
              "  <svg xmlns=\"http://www.w3.org/2000/svg\" height=\"24px\"viewBox=\"0 0 24 24\"\n",
              "       width=\"24px\">\n",
              "    <path d=\"M0 0h24v24H0V0z\" fill=\"none\"/>\n",
              "    <path d=\"M18.56 5.44l.94 2.06.94-2.06 2.06-.94-2.06-.94-.94-2.06-.94 2.06-2.06.94zm-11 1L8.5 8.5l.94-2.06 2.06-.94-2.06-.94L8.5 2.5l-.94 2.06-2.06.94zm10 10l.94 2.06.94-2.06 2.06-.94-2.06-.94-.94-2.06-.94 2.06-2.06.94z\"/><path d=\"M17.41 7.96l-1.37-1.37c-.4-.4-.92-.59-1.43-.59-.52 0-1.04.2-1.43.59L10.3 9.45l-7.72 7.72c-.78.78-.78 2.05 0 2.83L4 21.41c.39.39.9.59 1.41.59.51 0 1.02-.2 1.41-.59l7.78-7.78 2.81-2.81c.8-.78.8-2.07 0-2.86zM5.41 20L4 18.59l7.72-7.72 1.47 1.35L5.41 20z\"/>\n",
              "  </svg>\n",
              "      </button>\n",
              "      \n",
              "  <style>\n",
              "    .colab-df-container {\n",
              "      display:flex;\n",
              "      flex-wrap:wrap;\n",
              "      gap: 12px;\n",
              "    }\n",
              "\n",
              "    .colab-df-convert {\n",
              "      background-color: #E8F0FE;\n",
              "      border: none;\n",
              "      border-radius: 50%;\n",
              "      cursor: pointer;\n",
              "      display: none;\n",
              "      fill: #1967D2;\n",
              "      height: 32px;\n",
              "      padding: 0 0 0 0;\n",
              "      width: 32px;\n",
              "    }\n",
              "\n",
              "    .colab-df-convert:hover {\n",
              "      background-color: #E2EBFA;\n",
              "      box-shadow: 0px 1px 2px rgba(60, 64, 67, 0.3), 0px 1px 3px 1px rgba(60, 64, 67, 0.15);\n",
              "      fill: #174EA6;\n",
              "    }\n",
              "\n",
              "    [theme=dark] .colab-df-convert {\n",
              "      background-color: #3B4455;\n",
              "      fill: #D2E3FC;\n",
              "    }\n",
              "\n",
              "    [theme=dark] .colab-df-convert:hover {\n",
              "      background-color: #434B5C;\n",
              "      box-shadow: 0px 1px 3px 1px rgba(0, 0, 0, 0.15);\n",
              "      filter: drop-shadow(0px 1px 2px rgba(0, 0, 0, 0.3));\n",
              "      fill: #FFFFFF;\n",
              "    }\n",
              "  </style>\n",
              "\n",
              "      <script>\n",
              "        const buttonEl =\n",
              "          document.querySelector('#df-6631e7e4-19dc-4ca5-b67b-3654d9d7afbc button.colab-df-convert');\n",
              "        buttonEl.style.display =\n",
              "          google.colab.kernel.accessAllowed ? 'block' : 'none';\n",
              "\n",
              "        async function convertToInteractive(key) {\n",
              "          const element = document.querySelector('#df-6631e7e4-19dc-4ca5-b67b-3654d9d7afbc');\n",
              "          const dataTable =\n",
              "            await google.colab.kernel.invokeFunction('convertToInteractive',\n",
              "                                                     [key], {});\n",
              "          if (!dataTable) return;\n",
              "\n",
              "          const docLinkHtml = 'Like what you see? Visit the ' +\n",
              "            '<a target=\"_blank\" href=https://colab.research.google.com/notebooks/data_table.ipynb>data table notebook</a>'\n",
              "            + ' to learn more about interactive tables.';\n",
              "          element.innerHTML = '';\n",
              "          dataTable['output_type'] = 'display_data';\n",
              "          await google.colab.output.renderOutput(dataTable, element);\n",
              "          const docLink = document.createElement('div');\n",
              "          docLink.innerHTML = docLinkHtml;\n",
              "          element.appendChild(docLink);\n",
              "        }\n",
              "      </script>\n",
              "    </div>\n",
              "  </div>\n",
              "  "
            ]
          },
          "metadata": {},
          "execution_count": 30
        }
      ],
      "source": [
        "import pandas as pd\n",
        "import numpy as np\n",
        "import seaborn as sns\n",
        "pd.options.display.float_format = '{:.1f}'.format\n",
        "\n",
        "#https://www.kaggle.com/datasets/adityadesai13/used-car-dataset-ford-and-mercedes\n",
        "df_audi = pd.read_csv(\"audi.csv\")\n",
        "df_bmw = pd.read_csv(\"audi.csv\")\n",
        "df_cclass = pd.read_csv(\"cclass.csv\")\n",
        "df_focus = pd.read_csv(\"focus.csv\")\n",
        "df_ford = pd.read_csv(\"ford.csv\")\n",
        "df_hyundai = pd.read_csv(\"hyundai.csv\")\n",
        "df_hyundai = df_hyundai.rename(columns={\"tax(£)\":\"tax\"}) #칼럼명 변경\n",
        "df_merc = pd.read_csv(\"merc.csv\")\n",
        "df_skoda = pd.read_csv(\"skoda.csv\")\n",
        "df_toyota = pd.read_csv(\"toyota.csv\")\n",
        "df_vauxhall = pd.read_csv(\"vauxhall.csv\")\n",
        "df_vw = pd.read_csv(\"vw.csv\")\n",
        "\n",
        "#데이터 하나로 합치기\n",
        "df_list = [df_audi, df_bmw, df_cclass, df_focus, df_ford, df_hyundai, df_merc, df_skoda, df_toyota, df_vauxhall, df_vw]\n",
        "df = pd.concat(df_list, ignore_index=True)\n",
        "\n",
        "print(df.shape)\n",
        "df.sample(10)"
      ]
    },
    {
      "cell_type": "code",
      "source": [
        "df.dtypes"
      ],
      "metadata": {
        "colab": {
          "base_uri": "https://localhost:8080/"
        },
        "id": "VjFifFe_Ah2b",
        "outputId": "f110e529-2796-42e4-bca6-a661a21c5b4a"
      },
      "execution_count": 31,
      "outputs": [
        {
          "output_type": "execute_result",
          "data": {
            "text/plain": [
              "model            object\n",
              "year              int64\n",
              "price             int64\n",
              "transmission     object\n",
              "mileage           int64\n",
              "fuelType         object\n",
              "tax             float64\n",
              "mpg             float64\n",
              "engineSize      float64\n",
              "dtype: object"
            ]
          },
          "metadata": {},
          "execution_count": 31
        }
      ]
    },
    {
      "cell_type": "code",
      "source": [
        "df.describe()"
      ],
      "metadata": {
        "colab": {
          "base_uri": "https://localhost:8080/",
          "height": 300
        },
        "id": "iG-40yx_AjfX",
        "outputId": "065465a4-2f4a-4d48-f716-9d3ec19848b9"
      },
      "execution_count": 32,
      "outputs": [
        {
          "output_type": "execute_result",
          "data": {
            "text/plain": [
              "          year    price  mileage     tax     mpg  engineSize\n",
              "count 108427.0 108427.0 108427.0 99074.0 99074.0    108427.0\n",
              "mean    2017.1  16900.1  22957.5   119.7    54.6         1.6\n",
              "std        2.1   9797.1  20979.0    63.7    13.2         0.5\n",
              "min     1970.0    450.0      1.0     0.0     0.3         0.0\n",
              "25%     2016.0  10250.0   7500.0   125.0    46.3         1.2\n",
              "50%     2017.0  14721.0  17315.0   145.0    54.3         1.5\n",
              "75%     2019.0  20890.0  32113.0   145.0    62.8         2.0\n",
              "max     2060.0 159999.0 323000.0   580.0   256.8         6.3"
            ],
            "text/html": [
              "\n",
              "  <div id=\"df-20674b56-8c9a-477b-ac55-fa214f400297\">\n",
              "    <div class=\"colab-df-container\">\n",
              "      <div>\n",
              "<style scoped>\n",
              "    .dataframe tbody tr th:only-of-type {\n",
              "        vertical-align: middle;\n",
              "    }\n",
              "\n",
              "    .dataframe tbody tr th {\n",
              "        vertical-align: top;\n",
              "    }\n",
              "\n",
              "    .dataframe thead th {\n",
              "        text-align: right;\n",
              "    }\n",
              "</style>\n",
              "<table border=\"1\" class=\"dataframe\">\n",
              "  <thead>\n",
              "    <tr style=\"text-align: right;\">\n",
              "      <th></th>\n",
              "      <th>year</th>\n",
              "      <th>price</th>\n",
              "      <th>mileage</th>\n",
              "      <th>tax</th>\n",
              "      <th>mpg</th>\n",
              "      <th>engineSize</th>\n",
              "    </tr>\n",
              "  </thead>\n",
              "  <tbody>\n",
              "    <tr>\n",
              "      <th>count</th>\n",
              "      <td>108427.0</td>\n",
              "      <td>108427.0</td>\n",
              "      <td>108427.0</td>\n",
              "      <td>99074.0</td>\n",
              "      <td>99074.0</td>\n",
              "      <td>108427.0</td>\n",
              "    </tr>\n",
              "    <tr>\n",
              "      <th>mean</th>\n",
              "      <td>2017.1</td>\n",
              "      <td>16900.1</td>\n",
              "      <td>22957.5</td>\n",
              "      <td>119.7</td>\n",
              "      <td>54.6</td>\n",
              "      <td>1.6</td>\n",
              "    </tr>\n",
              "    <tr>\n",
              "      <th>std</th>\n",
              "      <td>2.1</td>\n",
              "      <td>9797.1</td>\n",
              "      <td>20979.0</td>\n",
              "      <td>63.7</td>\n",
              "      <td>13.2</td>\n",
              "      <td>0.5</td>\n",
              "    </tr>\n",
              "    <tr>\n",
              "      <th>min</th>\n",
              "      <td>1970.0</td>\n",
              "      <td>450.0</td>\n",
              "      <td>1.0</td>\n",
              "      <td>0.0</td>\n",
              "      <td>0.3</td>\n",
              "      <td>0.0</td>\n",
              "    </tr>\n",
              "    <tr>\n",
              "      <th>25%</th>\n",
              "      <td>2016.0</td>\n",
              "      <td>10250.0</td>\n",
              "      <td>7500.0</td>\n",
              "      <td>125.0</td>\n",
              "      <td>46.3</td>\n",
              "      <td>1.2</td>\n",
              "    </tr>\n",
              "    <tr>\n",
              "      <th>50%</th>\n",
              "      <td>2017.0</td>\n",
              "      <td>14721.0</td>\n",
              "      <td>17315.0</td>\n",
              "      <td>145.0</td>\n",
              "      <td>54.3</td>\n",
              "      <td>1.5</td>\n",
              "    </tr>\n",
              "    <tr>\n",
              "      <th>75%</th>\n",
              "      <td>2019.0</td>\n",
              "      <td>20890.0</td>\n",
              "      <td>32113.0</td>\n",
              "      <td>145.0</td>\n",
              "      <td>62.8</td>\n",
              "      <td>2.0</td>\n",
              "    </tr>\n",
              "    <tr>\n",
              "      <th>max</th>\n",
              "      <td>2060.0</td>\n",
              "      <td>159999.0</td>\n",
              "      <td>323000.0</td>\n",
              "      <td>580.0</td>\n",
              "      <td>256.8</td>\n",
              "      <td>6.3</td>\n",
              "    </tr>\n",
              "  </tbody>\n",
              "</table>\n",
              "</div>\n",
              "      <button class=\"colab-df-convert\" onclick=\"convertToInteractive('df-20674b56-8c9a-477b-ac55-fa214f400297')\"\n",
              "              title=\"Convert this dataframe to an interactive table.\"\n",
              "              style=\"display:none;\">\n",
              "        \n",
              "  <svg xmlns=\"http://www.w3.org/2000/svg\" height=\"24px\"viewBox=\"0 0 24 24\"\n",
              "       width=\"24px\">\n",
              "    <path d=\"M0 0h24v24H0V0z\" fill=\"none\"/>\n",
              "    <path d=\"M18.56 5.44l.94 2.06.94-2.06 2.06-.94-2.06-.94-.94-2.06-.94 2.06-2.06.94zm-11 1L8.5 8.5l.94-2.06 2.06-.94-2.06-.94L8.5 2.5l-.94 2.06-2.06.94zm10 10l.94 2.06.94-2.06 2.06-.94-2.06-.94-.94-2.06-.94 2.06-2.06.94z\"/><path d=\"M17.41 7.96l-1.37-1.37c-.4-.4-.92-.59-1.43-.59-.52 0-1.04.2-1.43.59L10.3 9.45l-7.72 7.72c-.78.78-.78 2.05 0 2.83L4 21.41c.39.39.9.59 1.41.59.51 0 1.02-.2 1.41-.59l7.78-7.78 2.81-2.81c.8-.78.8-2.07 0-2.86zM5.41 20L4 18.59l7.72-7.72 1.47 1.35L5.41 20z\"/>\n",
              "  </svg>\n",
              "      </button>\n",
              "      \n",
              "  <style>\n",
              "    .colab-df-container {\n",
              "      display:flex;\n",
              "      flex-wrap:wrap;\n",
              "      gap: 12px;\n",
              "    }\n",
              "\n",
              "    .colab-df-convert {\n",
              "      background-color: #E8F0FE;\n",
              "      border: none;\n",
              "      border-radius: 50%;\n",
              "      cursor: pointer;\n",
              "      display: none;\n",
              "      fill: #1967D2;\n",
              "      height: 32px;\n",
              "      padding: 0 0 0 0;\n",
              "      width: 32px;\n",
              "    }\n",
              "\n",
              "    .colab-df-convert:hover {\n",
              "      background-color: #E2EBFA;\n",
              "      box-shadow: 0px 1px 2px rgba(60, 64, 67, 0.3), 0px 1px 3px 1px rgba(60, 64, 67, 0.15);\n",
              "      fill: #174EA6;\n",
              "    }\n",
              "\n",
              "    [theme=dark] .colab-df-convert {\n",
              "      background-color: #3B4455;\n",
              "      fill: #D2E3FC;\n",
              "    }\n",
              "\n",
              "    [theme=dark] .colab-df-convert:hover {\n",
              "      background-color: #434B5C;\n",
              "      box-shadow: 0px 1px 3px 1px rgba(0, 0, 0, 0.15);\n",
              "      filter: drop-shadow(0px 1px 2px rgba(0, 0, 0, 0.3));\n",
              "      fill: #FFFFFF;\n",
              "    }\n",
              "  </style>\n",
              "\n",
              "      <script>\n",
              "        const buttonEl =\n",
              "          document.querySelector('#df-20674b56-8c9a-477b-ac55-fa214f400297 button.colab-df-convert');\n",
              "        buttonEl.style.display =\n",
              "          google.colab.kernel.accessAllowed ? 'block' : 'none';\n",
              "\n",
              "        async function convertToInteractive(key) {\n",
              "          const element = document.querySelector('#df-20674b56-8c9a-477b-ac55-fa214f400297');\n",
              "          const dataTable =\n",
              "            await google.colab.kernel.invokeFunction('convertToInteractive',\n",
              "                                                     [key], {});\n",
              "          if (!dataTable) return;\n",
              "\n",
              "          const docLinkHtml = 'Like what you see? Visit the ' +\n",
              "            '<a target=\"_blank\" href=https://colab.research.google.com/notebooks/data_table.ipynb>data table notebook</a>'\n",
              "            + ' to learn more about interactive tables.';\n",
              "          element.innerHTML = '';\n",
              "          dataTable['output_type'] = 'display_data';\n",
              "          await google.colab.output.renderOutput(dataTable, element);\n",
              "          const docLink = document.createElement('div');\n",
              "          docLink.innerHTML = docLinkHtml;\n",
              "          element.appendChild(docLink);\n",
              "        }\n",
              "      </script>\n",
              "    </div>\n",
              "  </div>\n",
              "  "
            ]
          },
          "metadata": {},
          "execution_count": 32
        }
      ]
    },
    {
      "cell_type": "code",
      "source": [
        "df.info()"
      ],
      "metadata": {
        "colab": {
          "base_uri": "https://localhost:8080/"
        },
        "id": "EgHlvPpzA-TO",
        "outputId": "5df1fbe4-cdc7-446a-8a3c-0b4499ed8f93"
      },
      "execution_count": 36,
      "outputs": [
        {
          "output_type": "stream",
          "name": "stdout",
          "text": [
            "<class 'pandas.core.frame.DataFrame'>\n",
            "RangeIndex: 108427 entries, 0 to 108426\n",
            "Data columns (total 9 columns):\n",
            " #   Column        Non-Null Count   Dtype  \n",
            "---  ------        --------------   -----  \n",
            " 0   model         108427 non-null  object \n",
            " 1   year          108427 non-null  int64  \n",
            " 2   price         108427 non-null  int64  \n",
            " 3   transmission  108427 non-null  object \n",
            " 4   mileage       108427 non-null  int64  \n",
            " 5   fuelType      108427 non-null  object \n",
            " 6   tax           99074 non-null   float64\n",
            " 7   mpg           99074 non-null   float64\n",
            " 8   engineSize    108427 non-null  float64\n",
            "dtypes: float64(3), int64(3), object(3)\n",
            "memory usage: 7.4+ MB\n"
          ]
        }
      ]
    },
    {
      "cell_type": "code",
      "source": [
        "#delete column\"tax\"\n",
        "df = df.drop([\"tax\"], axis = 1)"
      ],
      "metadata": {
        "id": "Qd4xvBP3BCme"
      },
      "execution_count": 37,
      "outputs": []
    },
    {
      "cell_type": "code",
      "source": [
        "#Check Trend: top10 sold out models\n",
        "import matplotlib.pyplot as plt\n",
        "\n",
        "models = pd.DataFrame(df.groupby(\"model\")[\"model\"].count())\n",
        "models.columns = [\"count\"]\n",
        "models.sort_values(by=[\"count\"], inplace=True, ascending=False)\n",
        "models = models.head(10)\n",
        "models.plot.bar()\n",
        "plt.show()\n",
        "print(models)\n",
        "models.index"
      ],
      "metadata": {
        "colab": {
          "base_uri": "https://localhost:8080/",
          "height": 569
        },
        "id": "3lVWpmgbCkEK",
        "outputId": "6a302874-2472-4fc8-dd1c-1a003f65f121"
      },
      "execution_count": 80,
      "outputs": [
        {
          "output_type": "display_data",
          "data": {
            "text/plain": [
              "<Figure size 432x288 with 1 Axes>"
            ],
            "image/png": "[encoded data removed]"
          },
          "metadata": {
            "needs_background": "light"
          }
        },
        {
          "output_type": "stream",
          "name": "stdout",
          "text": [
            "          count\n",
            "model          \n",
            " Focus    10042\n",
            " C Class   7646\n",
            " Fiesta    6557\n",
            " Golf      4863\n",
            " A3        3858\n",
            " Corsa     3441\n",
            " Polo      3287\n",
            " Q3        2834\n",
            " Astra     2805\n",
            " A4        2762\n"
          ]
        },
        {
          "output_type": "execute_result",
          "data": {
            "text/plain": [
              "Index([' Focus', ' C Class', ' Fiesta', ' Golf', ' A3', ' Corsa', ' Polo',\n",
              "       ' Q3', ' Astra', ' A4'],\n",
              "      dtype='object', name='model')"
            ]
          },
          "metadata": {},
          "execution_count": 80
        }
      ]
    },
    {
      "cell_type": "code",
      "source": [
        "#top10 best selling cars avg price\n",
        "models_avg_price = df.groupby(\"model\")[\"price\"].mean()\n",
        "models_avg_price[[' Focus', ' C Class', ' Fiesta', ' Golf', ' A3', ' Corsa', ' Polo',\n",
        "       ' Q3', ' Astra', ' A4']]\n",
        "models['avg_price'] = models_avg_price\n",
        "models.plot.line()\n",
        "print(models)\n",
        "print(models[\"avg_price\"].mean())"
      ],
      "metadata": {
        "id": "Q97545esL3FU",
        "outputId": "2639e854-07a3-4c55-cabe-eb5ffc460e60",
        "colab": {
          "base_uri": "https://localhost:8080/",
          "height": 505
        }
      },
      "execution_count": 89,
      "outputs": [
        {
          "output_type": "stream",
          "name": "stdout",
          "text": [
            "          count  avg_price\n",
            "model                     \n",
            " Focus    10042    13401.0\n",
            " C Class   7646    23684.8\n",
            " Fiesta    6557    10196.3\n",
            " Golf      4863    16689.7\n",
            " A3        3858    17408.5\n",
            " Corsa     3441     8342.7\n",
            " Polo      3287    11341.4\n",
            " Q3        2834    22999.3\n",
            " Astra     2805    10471.4\n",
            " A4        2762    20255.5\n",
            "15479.064834106117\n"
          ]
        },
        {
          "output_type": "display_data",
          "data": {
            "text/plain": [
              "<Figure size 432x288 with 1 Axes>"
            ],
            "image/png": "[encoded data removed]"
          },
          "metadata": {
            "needs_background": "light"
          }
        }
      ]
    },
    {
      "cell_type": "code",
      "source": [
        "#top10 best selling cars avg year\n",
        "models_avg_year = df.groupby(\"model\")[\"year\"].mean()\n",
        "models_avg_year[[' Focus', ' C Class', ' Fiesta', ' Golf', ' A3', ' Corsa', ' Polo',\n",
        "       ' Q3', ' Astra', ' A4']]\n",
        "models['avg_year'] = models_avg_year\n",
        "print(models)\n",
        "print(models[\"avg_year\"].mean())"
      ],
      "metadata": {
        "id": "K_iUna16Oh9s",
        "outputId": "bdf589f3-7a5c-436f-873a-fb3c4b84ec2e",
        "colab": {
          "base_uri": "https://localhost:8080/"
        }
      },
      "execution_count": 91,
      "outputs": [
        {
          "output_type": "stream",
          "name": "stdout",
          "text": [
            "          count  avg_price  avg_year\n",
            "model                               \n",
            " Focus    10042    13401.0    2017.1\n",
            " C Class   7646    23684.8    2017.4\n",
            " Fiesta    6557    10196.3    2016.8\n",
            " Golf      4863    16689.7    2017.1\n",
            " A3        3858    17408.5    2016.7\n",
            " Corsa     3441     8342.7    2016.7\n",
            " Polo      3287    11341.4    2016.9\n",
            " Q3        2834    22999.3    2017.3\n",
            " Astra     2805    10471.4    2016.9\n",
            " A4        2762    20255.5    2017.0\n",
            "2016.9935967819833\n"
          ]
        }
      ]
    },
    {
      "cell_type": "code",
      "source": [
        "#Check Trend: top10 sold out years\n",
        "\n",
        "years = pd.DataFrame(df.groupby(\"year\")[\"year\"].count())\n",
        "years.columns = [\"count\"]\n",
        "years.sort_values(by=[\"count\"], inplace=True, ascending=False)\n",
        "years = years.head(10)\n",
        "years.plot.bar()\n",
        "plt.show()\n",
        "print(years)"
      ],
      "metadata": {
        "colab": {
          "base_uri": "https://localhost:8080/",
          "height": 503
        },
        "id": "wyGfLiNOEsY-",
        "outputId": "e839f701-2237-496f-cc0a-424ec1615ad6"
      },
      "execution_count": 55,
      "outputs": [
        {
          "output_type": "display_data",
          "data": {
            "text/plain": [
              "<Figure size 432x288 with 1 Axes>"
            ],
            "image/png": "[encoded data removed]"
          },
          "metadata": {
            "needs_background": "light"
          }
        },
        {
          "output_type": "stream",
          "name": "stdout",
          "text": [
            "      count\n",
            "year       \n",
            "2019  29667\n",
            "2017  23900\n",
            "2016  17030\n",
            "2018  15108\n",
            "2015   8436\n",
            "2020   4640\n",
            "2014   4323\n",
            "2013   2752\n",
            "2012    668\n",
            "2011    473\n"
          ]
        }
      ]
    },
    {
      "cell_type": "code",
      "source": [
        "#Check Trend: top10 years average price\n",
        "\n",
        "years_price = pd.DataFrame(df.groupby(\"year\")[\"price\"].mean())\n",
        "years_price.columns = [\"avg_price\"]\n",
        "years_price.sort_values(by=[\"avg_price\"], inplace=True, ascending=False)\n",
        "years_price = years_price.head(10)\n",
        "years_price.plot.bar()\n",
        "plt.show()\n",
        "print(years_price)"
      ],
      "metadata": {
        "colab": {
          "base_uri": "https://localhost:8080/",
          "height": 507
        },
        "id": "kCpc-4UjGHDi",
        "outputId": "7925d4c0-cd51-4f2c-f3ea-868dec3b1a12"
      },
      "execution_count": 70,
      "outputs": [
        {
          "output_type": "display_data",
          "data": {
            "text/plain": [
              "<Figure size 432x288 with 1 Axes>"
            ],
            "image/png": "[encoded data removed]"
          },
          "metadata": {
            "needs_background": "light"
          }
        },
        {
          "output_type": "stream",
          "name": "stdout",
          "text": [
            "      avg_price\n",
            "year           \n",
            "2020    28583.7\n",
            "2019    23396.8\n",
            "1970    17747.0\n",
            "2018    16521.6\n",
            "2017    14561.8\n",
            "2016    13421.2\n",
            "2015    11679.4\n",
            "2014    10015.5\n",
            "2013     8538.5\n",
            "1998     7599.7\n"
          ]
        }
      ]
    },
    {
      "cell_type": "code",
      "source": [
        "#Check how many 1970 & 1998 cars were sold\n",
        "\n",
        "condition = (df[\"year\"] == 1970) | (df[\"year\"] == 1998)\n",
        "df[condition]"
      ],
      "metadata": {
        "colab": {
          "base_uri": "https://localhost:8080/",
          "height": 394
        },
        "id": "DSn13sIkGYjp",
        "outputId": "d1ad0bc4-e3c5-4709-f217-753f4a6556ae"
      },
      "execution_count": 69,
      "outputs": [
        {
          "output_type": "execute_result",
          "data": {
            "text/plain": [
              "               model  year  price transmission  mileage fuelType  mpg  \\\n",
              "9788              A3  1998   4999    Automatic    55000   Petrol 30.4   \n",
              "20456             A3  1998   4999    Automatic    55000   Petrol 30.4   \n",
              "25096        C Class  1998   1290    Automatic   140000   Petrol  NaN   \n",
              "44233         Fiesta  1998   2699       Manual    37000   Petrol 41.5   \n",
              "65278            SLK  1998   1990    Automatic    99300   Petrol 32.1   \n",
              "65308        S Class  1998  19990    Automatic    43534   Petrol 23.3   \n",
              "65322            SLK  1998   1990    Automatic   113557   Petrol 32.1   \n",
              "65374       SL CLASS  1998  10450    Automatic    49000   Petrol 28.2   \n",
              "65586        M Class  1970  24999    Automatic    14000   Diesel 39.2   \n",
              "79594   Land Cruiser  1998  19990       Manual   100000   Diesel 23.9   \n",
              "90475         Zafira  1970  10495       Manual    37357   Petrol 42.2   \n",
              "\n",
              "       engineSize  \n",
              "9788          1.8  \n",
              "20456         1.8  \n",
              "25096         2.0  \n",
              "44233         1.2  \n",
              "65278         2.3  \n",
              "65308         6.0  \n",
              "65322         2.3  \n",
              "65374         3.2  \n",
              "65586         0.0  \n",
              "79594         4.2  \n",
              "90475         1.4  "
            ],
            "text/html": [
              "\n",
              "  <div id=\"df-a11919c6-090b-45e4-9dc6-d072e2a95262\">\n",
              "    <div class=\"colab-df-container\">\n",
              "      <div>\n",
              "<style scoped>\n",
              "    .dataframe tbody tr th:only-of-type {\n",
              "        vertical-align: middle;\n",
              "    }\n",
              "\n",
              "    .dataframe tbody tr th {\n",
              "        vertical-align: top;\n",
              "    }\n",
              "\n",
              "    .dataframe thead th {\n",
              "        text-align: right;\n",
              "    }\n",
              "</style>\n",
              "<table border=\"1\" class=\"dataframe\">\n",
              "  <thead>\n",
              "    <tr style=\"text-align: right;\">\n",
              "      <th></th>\n",
              "      <th>model</th>\n",
              "      <th>year</th>\n",
              "      <th>price</th>\n",
              "      <th>transmission</th>\n",
              "      <th>mileage</th>\n",
              "      <th>fuelType</th>\n",
              "      <th>mpg</th>\n",
              "      <th>engineSize</th>\n",
              "    </tr>\n",
              "  </thead>\n",
              "  <tbody>\n",
              "    <tr>\n",
              "      <th>9788</th>\n",
              "      <td>A3</td>\n",
              "      <td>1998</td>\n",
              "      <td>4999</td>\n",
              "      <td>Automatic</td>\n",
              "      <td>55000</td>\n",
              "      <td>Petrol</td>\n",
              "      <td>30.4</td>\n",
              "      <td>1.8</td>\n",
              "    </tr>\n",
              "    <tr>\n",
              "      <th>20456</th>\n",
              "      <td>A3</td>\n",
              "      <td>1998</td>\n",
              "      <td>4999</td>\n",
              "      <td>Automatic</td>\n",
              "      <td>55000</td>\n",
              "      <td>Petrol</td>\n",
              "      <td>30.4</td>\n",
              "      <td>1.8</td>\n",
              "    </tr>\n",
              "    <tr>\n",
              "      <th>25096</th>\n",
              "      <td>C Class</td>\n",
              "      <td>1998</td>\n",
              "      <td>1290</td>\n",
              "      <td>Automatic</td>\n",
              "      <td>140000</td>\n",
              "      <td>Petrol</td>\n",
              "      <td>NaN</td>\n",
              "      <td>2.0</td>\n",
              "    </tr>\n",
              "    <tr>\n",
              "      <th>44233</th>\n",
              "      <td>Fiesta</td>\n",
              "      <td>1998</td>\n",
              "      <td>2699</td>\n",
              "      <td>Manual</td>\n",
              "      <td>37000</td>\n",
              "      <td>Petrol</td>\n",
              "      <td>41.5</td>\n",
              "      <td>1.2</td>\n",
              "    </tr>\n",
              "    <tr>\n",
              "      <th>65278</th>\n",
              "      <td>SLK</td>\n",
              "      <td>1998</td>\n",
              "      <td>1990</td>\n",
              "      <td>Automatic</td>\n",
              "      <td>99300</td>\n",
              "      <td>Petrol</td>\n",
              "      <td>32.1</td>\n",
              "      <td>2.3</td>\n",
              "    </tr>\n",
              "    <tr>\n",
              "      <th>65308</th>\n",
              "      <td>S Class</td>\n",
              "      <td>1998</td>\n",
              "      <td>19990</td>\n",
              "      <td>Automatic</td>\n",
              "      <td>43534</td>\n",
              "      <td>Petrol</td>\n",
              "      <td>23.3</td>\n",
              "      <td>6.0</td>\n",
              "    </tr>\n",
              "    <tr>\n",
              "      <th>65322</th>\n",
              "      <td>SLK</td>\n",
              "      <td>1998</td>\n",
              "      <td>1990</td>\n",
              "      <td>Automatic</td>\n",
              "      <td>113557</td>\n",
              "      <td>Petrol</td>\n",
              "      <td>32.1</td>\n",
              "      <td>2.3</td>\n",
              "    </tr>\n",
              "    <tr>\n",
              "      <th>65374</th>\n",
              "      <td>SL CLASS</td>\n",
              "      <td>1998</td>\n",
              "      <td>10450</td>\n",
              "      <td>Automatic</td>\n",
              "      <td>49000</td>\n",
              "      <td>Petrol</td>\n",
              "      <td>28.2</td>\n",
              "      <td>3.2</td>\n",
              "    </tr>\n",
              "    <tr>\n",
              "      <th>65586</th>\n",
              "      <td>M Class</td>\n",
              "      <td>1970</td>\n",
              "      <td>24999</td>\n",
              "      <td>Automatic</td>\n",
              "      <td>14000</td>\n",
              "      <td>Diesel</td>\n",
              "      <td>39.2</td>\n",
              "      <td>0.0</td>\n",
              "    </tr>\n",
              "    <tr>\n",
              "      <th>79594</th>\n",
              "      <td>Land Cruiser</td>\n",
              "      <td>1998</td>\n",
              "      <td>19990</td>\n",
              "      <td>Manual</td>\n",
              "      <td>100000</td>\n",
              "      <td>Diesel</td>\n",
              "      <td>23.9</td>\n",
              "      <td>4.2</td>\n",
              "    </tr>\n",
              "    <tr>\n",
              "      <th>90475</th>\n",
              "      <td>Zafira</td>\n",
              "      <td>1970</td>\n",
              "      <td>10495</td>\n",
              "      <td>Manual</td>\n",
              "      <td>37357</td>\n",
              "      <td>Petrol</td>\n",
              "      <td>42.2</td>\n",
              "      <td>1.4</td>\n",
              "    </tr>\n",
              "  </tbody>\n",
              "</table>\n",
              "</div>\n",
              "      <button class=\"colab-df-convert\" onclick=\"convertToInteractive('df-a11919c6-090b-45e4-9dc6-d072e2a95262')\"\n",
              "              title=\"Convert this dataframe to an interactive table.\"\n",
              "              style=\"display:none;\">\n",
              "        \n",
              "  <svg xmlns=\"http://www.w3.org/2000/svg\" height=\"24px\"viewBox=\"0 0 24 24\"\n",
              "       width=\"24px\">\n",
              "    <path d=\"M0 0h24v24H0V0z\" fill=\"none\"/>\n",
              "    <path d=\"M18.56 5.44l.94 2.06.94-2.06 2.06-.94-2.06-.94-.94-2.06-.94 2.06-2.06.94zm-11 1L8.5 8.5l.94-2.06 2.06-.94-2.06-.94L8.5 2.5l-.94 2.06-2.06.94zm10 10l.94 2.06.94-2.06 2.06-.94-2.06-.94-.94-2.06-.94 2.06-2.06.94z\"/><path d=\"M17.41 7.96l-1.37-1.37c-.4-.4-.92-.59-1.43-.59-.52 0-1.04.2-1.43.59L10.3 9.45l-7.72 7.72c-.78.78-.78 2.05 0 2.83L4 21.41c.39.39.9.59 1.41.59.51 0 1.02-.2 1.41-.59l7.78-7.78 2.81-2.81c.8-.78.8-2.07 0-2.86zM5.41 20L4 18.59l7.72-7.72 1.47 1.35L5.41 20z\"/>\n",
              "  </svg>\n",
              "      </button>\n",
              "      \n",
              "  <style>\n",
              "    .colab-df-container {\n",
              "      display:flex;\n",
              "      flex-wrap:wrap;\n",
              "      gap: 12px;\n",
              "    }\n",
              "\n",
              "    .colab-df-convert {\n",
              "      background-color: #E8F0FE;\n",
              "      border: none;\n",
              "      border-radius: 50%;\n",
              "      cursor: pointer;\n",
              "      display: none;\n",
              "      fill: #1967D2;\n",
              "      height: 32px;\n",
              "      padding: 0 0 0 0;\n",
              "      width: 32px;\n",
              "    }\n",
              "\n",
              "    .colab-df-convert:hover {\n",
              "      background-color: #E2EBFA;\n",
              "      box-shadow: 0px 1px 2px rgba(60, 64, 67, 0.3), 0px 1px 3px 1px rgba(60, 64, 67, 0.15);\n",
              "      fill: #174EA6;\n",
              "    }\n",
              "\n",
              "    [theme=dark] .colab-df-convert {\n",
              "      background-color: #3B4455;\n",
              "      fill: #D2E3FC;\n",
              "    }\n",
              "\n",
              "    [theme=dark] .colab-df-convert:hover {\n",
              "      background-color: #434B5C;\n",
              "      box-shadow: 0px 1px 3px 1px rgba(0, 0, 0, 0.15);\n",
              "      filter: drop-shadow(0px 1px 2px rgba(0, 0, 0, 0.3));\n",
              "      fill: #FFFFFF;\n",
              "    }\n",
              "  </style>\n",
              "\n",
              "      <script>\n",
              "        const buttonEl =\n",
              "          document.querySelector('#df-a11919c6-090b-45e4-9dc6-d072e2a95262 button.colab-df-convert');\n",
              "        buttonEl.style.display =\n",
              "          google.colab.kernel.accessAllowed ? 'block' : 'none';\n",
              "\n",
              "        async function convertToInteractive(key) {\n",
              "          const element = document.querySelector('#df-a11919c6-090b-45e4-9dc6-d072e2a95262');\n",
              "          const dataTable =\n",
              "            await google.colab.kernel.invokeFunction('convertToInteractive',\n",
              "                                                     [key], {});\n",
              "          if (!dataTable) return;\n",
              "\n",
              "          const docLinkHtml = 'Like what you see? Visit the ' +\n",
              "            '<a target=\"_blank\" href=https://colab.research.google.com/notebooks/data_table.ipynb>data table notebook</a>'\n",
              "            + ' to learn more about interactive tables.';\n",
              "          element.innerHTML = '';\n",
              "          dataTable['output_type'] = 'display_data';\n",
              "          await google.colab.output.renderOutput(dataTable, element);\n",
              "          const docLink = document.createElement('div');\n",
              "          docLink.innerHTML = docLinkHtml;\n",
              "          element.appendChild(docLink);\n",
              "        }\n",
              "      </script>\n",
              "    </div>\n",
              "  </div>\n",
              "  "
            ]
          },
          "metadata": {},
          "execution_count": 69
        }
      ]
    },
    {
      "cell_type": "code",
      "source": [
        "#Check transmissions\n",
        "transmission = pd.DataFrame(df.groupby([\"transmission\"])[\"transmission\"].count())\n",
        "transmission.columns = [\"count\"]\n",
        "transmission.sort_values(by=[\"count\"], inplace=True, ascending=False)\n",
        "transmission.plot.bar()\n",
        "plt.show()\n",
        "print(transmission)"
      ],
      "metadata": {
        "id": "jenxWa6wIXzy",
        "outputId": "22869e5f-6825-41e2-8ddb-db8abd904b26",
        "colab": {
          "base_uri": "https://localhost:8080/",
          "height": 425
        }
      },
      "execution_count": 72,
      "outputs": [
        {
          "output_type": "display_data",
          "data": {
            "text/plain": [
              "<Figure size 432x288 with 1 Axes>"
            ],
            "image/png": "[encoded data removed]"
          },
          "metadata": {
            "needs_background": "light"
          }
        },
        {
          "output_type": "stream",
          "name": "stdout",
          "text": [
            "              count\n",
            "transmission       \n",
            "Manual        63150\n",
            "Semi-Auto     23828\n",
            "Automatic     21439\n",
            "Other            10\n"
          ]
        }
      ]
    },
    {
      "cell_type": "code",
      "source": [
        "#Check fuelType\n",
        "\n",
        "fuelType = pd.DataFrame(df.groupby(\"fuelType\")[\"fuelType\"].count())\n",
        "fuelType.columns = [\"count\"]\n",
        "fuelType.sort_values(by=[\"count\"], inplace=True, ascending=False)\n",
        "fuelType.plot.bar()\n",
        "plt.show()\n",
        "print(years_price)"
      ],
      "metadata": {
        "id": "zv1-ZsGcKF9p",
        "outputId": "94be64b8-6818-4803-b5a4-65758064adc7",
        "colab": {
          "base_uri": "https://localhost:8080/",
          "height": 514
        }
      },
      "execution_count": 74,
      "outputs": [
        {
          "output_type": "display_data",
          "data": {
            "text/plain": [
              "<Figure size 432x288 with 1 Axes>"
            ],
            "image/png": "[encoded data removed]"
          },
          "metadata": {
            "needs_background": "light"
          }
        },
        {
          "output_type": "stream",
          "name": "stdout",
          "text": [
            "      avg_price\n",
            "year           \n",
            "2020    28583.7\n",
            "2019    23396.8\n",
            "1970    17747.0\n",
            "2018    16521.6\n",
            "2017    14561.8\n",
            "2016    13421.2\n",
            "2015    11679.4\n",
            "2014    10015.5\n",
            "2013     8538.5\n",
            "1998     7599.7\n"
          ]
        }
      ]
    },
    {
      "cell_type": "code",
      "source": [
        "#Now we can see\n",
        "#Years: 15-19 Popular\n",
        "#Model: Focus / C Class / Fiesta / Golf / A3      \n",
        "#\n"
      ],
      "metadata": {
        "id": "CsGXAvZPK0iX"
      },
      "execution_count": null,
      "outputs": []
    },
    {
      "cell_type": "markdown",
      "source": [
        "## 2. 데이터 EDA"
      ],
      "metadata": {
        "id": "sv2zFABTCl1f"
      }
    },
    {
      "cell_type": "code",
      "source": [
        "#베이스라인 모델 만들기\n",
        "predict = df[\"price\"].mean()\n",
        "y_train = df[\"price\"]\n",
        "\n",
        "# 기준모델로 훈련 에러(MAE) 계산\n",
        "from sklearn.metrics import mean_absolute_error\n",
        "y_pred = [predict] * len(y_train)\n",
        "mae = mean_absolute_error(y_train, y_pred)\n",
        "\n",
        "print(f'훈련 에러: {mae:.2f}')"
      ],
      "metadata": {
        "id": "-FhytgOXMpuq",
        "colab": {
          "base_uri": "https://localhost:8080/"
        },
        "outputId": "1a4bee96-195d-4d8d-9e29-a966a9ced12e"
      },
      "execution_count": 33,
      "outputs": [
        {
          "output_type": "stream",
          "name": "stdout",
          "text": [
            "훈련 에러: 7028.23\n"
          ]
        }
      ]
    },
    {
      "cell_type": "code",
      "source": [
        "sns.distplot(df['year'], kde=True, rug=False)"
      ],
      "metadata": {
        "colab": {
          "base_uri": "https://localhost:8080/",
          "height": 351
        },
        "id": "ipKsDuLheRpp",
        "outputId": "9a7140af-2750-4776-8b47-34db6ec658f5"
      },
      "execution_count": 4,
      "outputs": [
        {
          "output_type": "stream",
          "name": "stderr",
          "text": [
            "/usr/local/lib/python3.7/dist-packages/seaborn/distributions.py:2619: FutureWarning: `distplot` is a deprecated function and will be removed in a future version. Please adapt your code to use either `displot` (a figure-level function with similar flexibility) or `histplot` (an axes-level function for histograms).\n",
            "  warnings.warn(msg, FutureWarning)\n"
          ]
        },
        {
          "output_type": "execute_result",
          "data": {
            "text/plain": [
              "<matplotlib.axes._subplots.AxesSubplot at 0x7ff097e99a50>"
            ]
          },
          "metadata": {},
          "execution_count": 4
        },
        {
          "output_type": "display_data",
          "data": {
            "text/plain": [
              "<Figure size 432x288 with 1 Axes>"
            ],
            "image/png": "[encoded data removed]"
          },
          "metadata": {
            "needs_background": "light"
          }
        }
      ]
    },
    {
      "cell_type": "code",
      "source": [
        "sns.distplot(df['mileage'], kde=True, rug=False)"
      ],
      "metadata": {
        "colab": {
          "base_uri": "https://localhost:8080/",
          "height": 362
        },
        "id": "ynTvN6E5P1Af",
        "outputId": "e0caa4df-c44b-4454-b6ff-edfe7dff7f4d"
      },
      "execution_count": 5,
      "outputs": [
        {
          "output_type": "stream",
          "name": "stderr",
          "text": [
            "/usr/local/lib/python3.7/dist-packages/seaborn/distributions.py:2619: FutureWarning: `distplot` is a deprecated function and will be removed in a future version. Please adapt your code to use either `displot` (a figure-level function with similar flexibility) or `histplot` (an axes-level function for histograms).\n",
            "  warnings.warn(msg, FutureWarning)\n"
          ]
        },
        {
          "output_type": "execute_result",
          "data": {
            "text/plain": [
              "<matplotlib.axes._subplots.AxesSubplot at 0x7ff09553bf50>"
            ]
          },
          "metadata": {},
          "execution_count": 5
        },
        {
          "output_type": "display_data",
          "data": {
            "text/plain": [
              "<Figure size 432x288 with 1 Axes>"
            ],
            "image/png": "[encoded data removed]"
          },
          "metadata": {
            "needs_background": "light"
          }
        }
      ]
    },
    {
      "cell_type": "code",
      "source": [
        "print(df['price'].mean())\n",
        "sns.distplot(df['price'], kde=True, rug=False)"
      ],
      "metadata": {
        "colab": {
          "base_uri": "https://localhost:8080/",
          "height": 379
        },
        "id": "O8meNoIdOyfU",
        "outputId": "693884d9-7c9d-4a61-f164-e4e3447b778b"
      },
      "execution_count": 6,
      "outputs": [
        {
          "output_type": "stream",
          "name": "stdout",
          "text": [
            "16900.09885914025\n"
          ]
        },
        {
          "output_type": "stream",
          "name": "stderr",
          "text": [
            "/usr/local/lib/python3.7/dist-packages/seaborn/distributions.py:2619: FutureWarning: `distplot` is a deprecated function and will be removed in a future version. Please adapt your code to use either `displot` (a figure-level function with similar flexibility) or `histplot` (an axes-level function for histograms).\n",
            "  warnings.warn(msg, FutureWarning)\n"
          ]
        },
        {
          "output_type": "execute_result",
          "data": {
            "text/plain": [
              "<matplotlib.axes._subplots.AxesSubplot at 0x7ff094f79250>"
            ]
          },
          "metadata": {},
          "execution_count": 6
        },
        {
          "output_type": "display_data",
          "data": {
            "text/plain": [
              "<Figure size 432x288 with 1 Axes>"
            ],
            "image/png": "[encoded data removed]"
          },
          "metadata": {
            "needs_background": "light"
          }
        }
      ]
    },
    {
      "cell_type": "code",
      "source": [
        "#이상치 제거\n",
        "df = df[(df['price'] >= np.percentile(df['price'], 0.5)) & \n",
        "        (df['price'] <= np.percentile(df['price'], 99.5)) &\n",
        "        (df['mileage'] >= np.percentile(df['mileage'], 0.5)) & \n",
        "        (df['mileage'] <= np.percentile(df['mileage'], 99.5)) &\n",
        "        (df['engineSize'] >= np.percentile(df['engineSize'], 0.5)) & \n",
        "        (df['engineSize'] <= np.percentile(df['engineSize'], 99.5)) &\n",
        "        (df['year'] >= np.percentile(df['year'], 0.5)) & \n",
        "        (df['year'] <= np.percentile(df['year'], 99.5))]\n"
      ],
      "metadata": {
        "id": "VD8XgvedPW_k"
      },
      "execution_count": 7,
      "outputs": []
    },
    {
      "cell_type": "code",
      "source": [
        "sns.distplot(df['price'], kde=True, rug=False)"
      ],
      "metadata": {
        "id": "8TLK-lT_IolE",
        "outputId": "c5b7565e-4350-4db1-d3e1-3eea4fe396bc",
        "colab": {
          "base_uri": "https://localhost:8080/",
          "height": 362
        }
      },
      "execution_count": 8,
      "outputs": [
        {
          "output_type": "stream",
          "name": "stderr",
          "text": [
            "/usr/local/lib/python3.7/dist-packages/seaborn/distributions.py:2619: FutureWarning: `distplot` is a deprecated function and will be removed in a future version. Please adapt your code to use either `displot` (a figure-level function with similar flexibility) or `histplot` (an axes-level function for histograms).\n",
            "  warnings.warn(msg, FutureWarning)\n"
          ]
        },
        {
          "output_type": "execute_result",
          "data": {
            "text/plain": [
              "<matplotlib.axes._subplots.AxesSubplot at 0x7ff094ecdd90>"
            ]
          },
          "metadata": {},
          "execution_count": 8
        },
        {
          "output_type": "display_data",
          "data": {
            "text/plain": [
              "<Figure size 432x288 with 1 Axes>"
            ],
            "image/png": "[encoded data removed]"
          },
          "metadata": {
            "needs_background": "light"
          }
        }
      ]
    },
    {
      "cell_type": "code",
      "source": [
        "print(df['mileage'].mean())\n",
        "sns.distplot(df['mileage'], kde=True, rug=False)"
      ],
      "metadata": {
        "id": "pgY6BlkcJEuK",
        "outputId": "b6deaa6c-fb59-40ce-c49c-ae4016c7af30",
        "colab": {
          "base_uri": "https://localhost:8080/",
          "height": 379
        }
      },
      "execution_count": 9,
      "outputs": [
        {
          "output_type": "stream",
          "name": "stdout",
          "text": [
            "22262.70145676869\n"
          ]
        },
        {
          "output_type": "stream",
          "name": "stderr",
          "text": [
            "/usr/local/lib/python3.7/dist-packages/seaborn/distributions.py:2619: FutureWarning: `distplot` is a deprecated function and will be removed in a future version. Please adapt your code to use either `displot` (a figure-level function with similar flexibility) or `histplot` (an axes-level function for histograms).\n",
            "  warnings.warn(msg, FutureWarning)\n"
          ]
        },
        {
          "output_type": "execute_result",
          "data": {
            "text/plain": [
              "<matplotlib.axes._subplots.AxesSubplot at 0x7ff094d9dd90>"
            ]
          },
          "metadata": {},
          "execution_count": 9
        },
        {
          "output_type": "display_data",
          "data": {
            "text/plain": [
              "<Figure size 432x288 with 1 Axes>"
            ],
            "image/png": "[encoded data removed]"
          },
          "metadata": {
            "needs_background": "light"
          }
        }
      ]
    },
    {
      "cell_type": "code",
      "source": [
        "sns.distplot(df['year'], kde=True, rug=False)"
      ],
      "metadata": {
        "id": "oIn_lVYsJG9m",
        "outputId": "9202effb-c93c-46dc-d2e3-609c4214d155",
        "colab": {
          "base_uri": "https://localhost:8080/",
          "height": 355
        }
      },
      "execution_count": 10,
      "outputs": [
        {
          "output_type": "stream",
          "name": "stderr",
          "text": [
            "/usr/local/lib/python3.7/dist-packages/seaborn/distributions.py:2619: FutureWarning: `distplot` is a deprecated function and will be removed in a future version. Please adapt your code to use either `displot` (a figure-level function with similar flexibility) or `histplot` (an axes-level function for histograms).\n",
            "  warnings.warn(msg, FutureWarning)\n"
          ]
        },
        {
          "output_type": "execute_result",
          "data": {
            "text/plain": [
              "<matplotlib.axes._subplots.AxesSubplot at 0x7ff094d5f850>"
            ]
          },
          "metadata": {},
          "execution_count": 10
        },
        {
          "output_type": "display_data",
          "data": {
            "text/plain": [
              "<Figure size 432x288 with 1 Axes>"
            ],
            "image/png": "[encoded data removed]"
          },
          "metadata": {
            "needs_background": "light"
          }
        }
      ]
    },
    {
      "cell_type": "code",
      "source": [
        "sns.distplot(df[(df['year']>2015)]['mileage'], kde=True, rug=False)"
      ],
      "metadata": {
        "colab": {
          "base_uri": "https://localhost:8080/",
          "height": 362
        },
        "id": "sbWER2JJPtZj",
        "outputId": "b24ad943-6dab-4824-fe64-79693b87e087"
      },
      "execution_count": 11,
      "outputs": [
        {
          "output_type": "stream",
          "name": "stderr",
          "text": [
            "/usr/local/lib/python3.7/dist-packages/seaborn/distributions.py:2619: FutureWarning: `distplot` is a deprecated function and will be removed in a future version. Please adapt your code to use either `displot` (a figure-level function with similar flexibility) or `histplot` (an axes-level function for histograms).\n",
            "  warnings.warn(msg, FutureWarning)\n"
          ]
        },
        {
          "output_type": "execute_result",
          "data": {
            "text/plain": [
              "<matplotlib.axes._subplots.AxesSubplot at 0x7ff094b45910>"
            ]
          },
          "metadata": {},
          "execution_count": 11
        },
        {
          "output_type": "display_data",
          "data": {
            "text/plain": [
              "<Figure size 432x288 with 1 Axes>"
            ],
            "image/png": "[encoded data removed]"
          },
          "metadata": {
            "needs_background": "light"
          }
        }
      ]
    },
    {
      "cell_type": "code",
      "source": [
        "sns.distplot(df[(df['year']>2009)&(df['year']<2015)]['mileage'], kde=True, rug=False)"
      ],
      "metadata": {
        "colab": {
          "base_uri": "https://localhost:8080/",
          "height": 362
        },
        "id": "0RLHSbDoilE5",
        "outputId": "cc76bf1d-4483-45f2-e184-55897193fc1e"
      },
      "execution_count": 12,
      "outputs": [
        {
          "output_type": "stream",
          "name": "stderr",
          "text": [
            "/usr/local/lib/python3.7/dist-packages/seaborn/distributions.py:2619: FutureWarning: `distplot` is a deprecated function and will be removed in a future version. Please adapt your code to use either `displot` (a figure-level function with similar flexibility) or `histplot` (an axes-level function for histograms).\n",
            "  warnings.warn(msg, FutureWarning)\n"
          ]
        },
        {
          "output_type": "execute_result",
          "data": {
            "text/plain": [
              "<matplotlib.axes._subplots.AxesSubplot at 0x7ff094bad8d0>"
            ]
          },
          "metadata": {},
          "execution_count": 12
        },
        {
          "output_type": "display_data",
          "data": {
            "text/plain": [
              "<Figure size 432x288 with 1 Axes>"
            ],
            "image/png": "[encoded data removed]"
          },
          "metadata": {
            "needs_background": "light"
          }
        }
      ]
    },
    {
      "cell_type": "code",
      "source": [
        "sns.distplot(df[(df['price']<=16500)]['mileage'], kde=True, rug=True)"
      ],
      "metadata": {
        "colab": {
          "base_uri": "https://localhost:8080/",
          "height": 397
        },
        "id": "0EFpjLSdjivg",
        "outputId": "6485e929-6bec-4939-c12a-ef6d57293e8a"
      },
      "execution_count": 13,
      "outputs": [
        {
          "output_type": "stream",
          "name": "stderr",
          "text": [
            "/usr/local/lib/python3.7/dist-packages/seaborn/distributions.py:2619: FutureWarning: `distplot` is a deprecated function and will be removed in a future version. Please adapt your code to use either `displot` (a figure-level function with similar flexibility) or `histplot` (an axes-level function for histograms).\n",
            "  warnings.warn(msg, FutureWarning)\n",
            "/usr/local/lib/python3.7/dist-packages/seaborn/distributions.py:2103: FutureWarning: The `axis` variable is no longer used and will be removed. Instead, assign variables directly to `x` or `y`.\n",
            "  warnings.warn(msg, FutureWarning)\n"
          ]
        },
        {
          "output_type": "execute_result",
          "data": {
            "text/plain": [
              "<matplotlib.axes._subplots.AxesSubplot at 0x7ff09493c8d0>"
            ]
          },
          "metadata": {},
          "execution_count": 13
        },
        {
          "output_type": "display_data",
          "data": {
            "text/plain": [
              "<Figure size 432x288 with 1 Axes>"
            ],
            "image/png": "[encoded data removed]"
          },
          "metadata": {
            "needs_background": "light"
          }
        }
      ]
    },
    {
      "cell_type": "code",
      "source": [
        "sns.distplot(df[(df['price']>16500)]['mileage'], kde=True, rug=True)"
      ],
      "metadata": {
        "id": "FBqwaI0eGuv7",
        "outputId": "64d08e79-9ede-47ac-8e26-59883902b124",
        "colab": {
          "base_uri": "https://localhost:8080/",
          "height": 397
        }
      },
      "execution_count": 14,
      "outputs": [
        {
          "output_type": "stream",
          "name": "stderr",
          "text": [
            "/usr/local/lib/python3.7/dist-packages/seaborn/distributions.py:2619: FutureWarning: `distplot` is a deprecated function and will be removed in a future version. Please adapt your code to use either `displot` (a figure-level function with similar flexibility) or `histplot` (an axes-level function for histograms).\n",
            "  warnings.warn(msg, FutureWarning)\n",
            "/usr/local/lib/python3.7/dist-packages/seaborn/distributions.py:2103: FutureWarning: The `axis` variable is no longer used and will be removed. Instead, assign variables directly to `x` or `y`.\n",
            "  warnings.warn(msg, FutureWarning)\n"
          ]
        },
        {
          "output_type": "execute_result",
          "data": {
            "text/plain": [
              "<matplotlib.axes._subplots.AxesSubplot at 0x7ff092768b90>"
            ]
          },
          "metadata": {},
          "execution_count": 14
        },
        {
          "output_type": "display_data",
          "data": {
            "text/plain": [
              "<Figure size 432x288 with 1 Axes>"
            ],
            "image/png": "[encoded data removed]"
          },
          "metadata": {
            "needs_background": "light"
          }
        }
      ]
    },
    {
      "cell_type": "code",
      "source": [
        "sns.distplot(df[(df['price']>16500)&(df['mileage']<10000)]['year'], kde=True, rug=True)"
      ],
      "metadata": {
        "id": "Y6YP3vYFIJW4",
        "outputId": "f1422f24-1c96-45f3-ab01-681215e5a978",
        "colab": {
          "base_uri": "https://localhost:8080/",
          "height": 386
        }
      },
      "execution_count": 15,
      "outputs": [
        {
          "output_type": "stream",
          "name": "stderr",
          "text": [
            "/usr/local/lib/python3.7/dist-packages/seaborn/distributions.py:2619: FutureWarning: `distplot` is a deprecated function and will be removed in a future version. Please adapt your code to use either `displot` (a figure-level function with similar flexibility) or `histplot` (an axes-level function for histograms).\n",
            "  warnings.warn(msg, FutureWarning)\n",
            "/usr/local/lib/python3.7/dist-packages/seaborn/distributions.py:2103: FutureWarning: The `axis` variable is no longer used and will be removed. Instead, assign variables directly to `x` or `y`.\n",
            "  warnings.warn(msg, FutureWarning)\n"
          ]
        },
        {
          "output_type": "execute_result",
          "data": {
            "text/plain": [
              "<matplotlib.axes._subplots.AxesSubplot at 0x7ff090f33ed0>"
            ]
          },
          "metadata": {},
          "execution_count": 15
        },
        {
          "output_type": "display_data",
          "data": {
            "text/plain": [
              "<Figure size 432x288 with 1 Axes>"
            ],
            "image/png": "[encoded data removed]"
          },
          "metadata": {
            "needs_background": "light"
          }
        }
      ]
    },
    {
      "cell_type": "code",
      "source": [
        "sns.distplot(df[(df['price']<=16500)]['year'], kde=True, rug=True)"
      ],
      "metadata": {
        "id": "vz3nWRphFzCh",
        "outputId": "a41d33e4-0f1b-4c00-f0ad-8c74c295425e",
        "colab": {
          "base_uri": "https://localhost:8080/",
          "height": 386
        }
      },
      "execution_count": 16,
      "outputs": [
        {
          "output_type": "stream",
          "name": "stderr",
          "text": [
            "/usr/local/lib/python3.7/dist-packages/seaborn/distributions.py:2619: FutureWarning: `distplot` is a deprecated function and will be removed in a future version. Please adapt your code to use either `displot` (a figure-level function with similar flexibility) or `histplot` (an axes-level function for histograms).\n",
            "  warnings.warn(msg, FutureWarning)\n",
            "/usr/local/lib/python3.7/dist-packages/seaborn/distributions.py:2103: FutureWarning: The `axis` variable is no longer used and will be removed. Instead, assign variables directly to `x` or `y`.\n",
            "  warnings.warn(msg, FutureWarning)\n"
          ]
        },
        {
          "output_type": "execute_result",
          "data": {
            "text/plain": [
              "<matplotlib.axes._subplots.AxesSubplot at 0x7ff090f33050>"
            ]
          },
          "metadata": {},
          "execution_count": 16
        },
        {
          "output_type": "display_data",
          "data": {
            "text/plain": [
              "<Figure size 432x288 with 1 Axes>"
            ],
            "image/png": "[encoded data removed]"
          },
          "metadata": {
            "needs_background": "light"
          }
        }
      ]
    }
  ]
}