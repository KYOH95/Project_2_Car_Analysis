{
  "nbformat": 4,
  "nbformat_minor": 0,
  "metadata": {
    "colab": {
      "name": "Project2.ipynb",
      "provenance": []
    },
    "kernelspec": {
      "name": "python3",
      "display_name": "Python 3"
    },
    "language_info": {
      "name": "python"
    }
  },
  "cells": [
    {
      "cell_type": "code",
      "execution_count": 10,
      "metadata": {
        "id": "jOrdXE9qMdzP",
        "outputId": "9c4b6345-a05d-4dbf-8324-5bf707fc618f",
        "colab": {
          "base_uri": "https://localhost:8080/",
          "height": 381
        }
      },
      "outputs": [
        {
          "output_type": "stream",
          "name": "stdout",
          "text": [
            "(108427, 9)\n"
          ]
        },
        {
          "output_type": "execute_result",
          "data": {
            "text/plain": [
              "             model  year  price transmission  mileage fuelType   tax  mpg  \\\n",
              "13271           A3  2017  18995    Semi-Auto    28522   Diesel  30.0 61.4   \n",
              "73967        Yaris  2015   6998       Manual    45357   Petrol  30.0 55.0   \n",
              "84530        Astra  2017   9188       Manual    24085   Petrol 125.0 51.4   \n",
              "83433        Astra  2019  13498       Manual    11890   Petrol 150.0 47.9   \n",
              "61153      E Class  2019  49000    Semi-Auto     9722   Petrol 145.0 32.1   \n",
              "53774    GLC Class  2016  28998    Semi-Auto    16742   Diesel 145.0 56.5   \n",
              "28649        Focus  2016  10295       Manual    38113   Diesel   NaN  NaN   \n",
              "106884     Touareg  2016  21722    Automatic    52186   Diesel 235.0 42.8   \n",
              "68026      Octavia  2019  20520    Semi-Auto       10   Diesel 145.0 53.3   \n",
              "53282       Tucson  2017  14966       Manual    24963   Diesel 150.0 61.4   \n",
              "\n",
              "        engineSize  \n",
              "13271          2.0  \n",
              "73967          1.3  \n",
              "84530          1.4  \n",
              "83433          1.4  \n",
              "61153          3.0  \n",
              "53774          2.1  \n",
              "28649          1.5  \n",
              "106884         3.0  \n",
              "68026          2.0  \n",
              "53282          1.7  "
            ],
            "text/html": [
              "\n",
              "  <div id=\"df-2658034e-3155-4352-8755-b6334fc03a65\">\n",
              "    <div class=\"colab-df-container\">\n",
              "      <div>\n",
              "<style scoped>\n",
              "    .dataframe tbody tr th:only-of-type {\n",
              "        vertical-align: middle;\n",
              "    }\n",
              "\n",
              "    .dataframe tbody tr th {\n",
              "        vertical-align: top;\n",
              "    }\n",
              "\n",
              "    .dataframe thead th {\n",
              "        text-align: right;\n",
              "    }\n",
              "</style>\n",
              "<table border=\"1\" class=\"dataframe\">\n",
              "  <thead>\n",
              "    <tr style=\"text-align: right;\">\n",
              "      <th></th>\n",
              "      <th>model</th>\n",
              "      <th>year</th>\n",
              "      <th>price</th>\n",
              "      <th>transmission</th>\n",
              "      <th>mileage</th>\n",
              "      <th>fuelType</th>\n",
              "      <th>tax</th>\n",
              "      <th>mpg</th>\n",
              "      <th>engineSize</th>\n",
              "    </tr>\n",
              "  </thead>\n",
              "  <tbody>\n",
              "    <tr>\n",
              "      <th>13271</th>\n",
              "      <td>A3</td>\n",
              "      <td>2017</td>\n",
              "      <td>18995</td>\n",
              "      <td>Semi-Auto</td>\n",
              "      <td>28522</td>\n",
              "      <td>Diesel</td>\n",
              "      <td>30.0</td>\n",
              "      <td>61.4</td>\n",
              "      <td>2.0</td>\n",
              "    </tr>\n",
              "    <tr>\n",
              "      <th>73967</th>\n",
              "      <td>Yaris</td>\n",
              "      <td>2015</td>\n",
              "      <td>6998</td>\n",
              "      <td>Manual</td>\n",
              "      <td>45357</td>\n",
              "      <td>Petrol</td>\n",
              "      <td>30.0</td>\n",
              "      <td>55.0</td>\n",
              "      <td>1.3</td>\n",
              "    </tr>\n",
              "    <tr>\n",
              "      <th>84530</th>\n",
              "      <td>Astra</td>\n",
              "      <td>2017</td>\n",
              "      <td>9188</td>\n",
              "      <td>Manual</td>\n",
              "      <td>24085</td>\n",
              "      <td>Petrol</td>\n",
              "      <td>125.0</td>\n",
              "      <td>51.4</td>\n",
              "      <td>1.4</td>\n",
              "    </tr>\n",
              "    <tr>\n",
              "      <th>83433</th>\n",
              "      <td>Astra</td>\n",
              "      <td>2019</td>\n",
              "      <td>13498</td>\n",
              "      <td>Manual</td>\n",
              "      <td>11890</td>\n",
              "      <td>Petrol</td>\n",
              "      <td>150.0</td>\n",
              "      <td>47.9</td>\n",
              "      <td>1.4</td>\n",
              "    </tr>\n",
              "    <tr>\n",
              "      <th>61153</th>\n",
              "      <td>E Class</td>\n",
              "      <td>2019</td>\n",
              "      <td>49000</td>\n",
              "      <td>Semi-Auto</td>\n",
              "      <td>9722</td>\n",
              "      <td>Petrol</td>\n",
              "      <td>145.0</td>\n",
              "      <td>32.1</td>\n",
              "      <td>3.0</td>\n",
              "    </tr>\n",
              "    <tr>\n",
              "      <th>53774</th>\n",
              "      <td>GLC Class</td>\n",
              "      <td>2016</td>\n",
              "      <td>28998</td>\n",
              "      <td>Semi-Auto</td>\n",
              "      <td>16742</td>\n",
              "      <td>Diesel</td>\n",
              "      <td>145.0</td>\n",
              "      <td>56.5</td>\n",
              "      <td>2.1</td>\n",
              "    </tr>\n",
              "    <tr>\n",
              "      <th>28649</th>\n",
              "      <td>Focus</td>\n",
              "      <td>2016</td>\n",
              "      <td>10295</td>\n",
              "      <td>Manual</td>\n",
              "      <td>38113</td>\n",
              "      <td>Diesel</td>\n",
              "      <td>NaN</td>\n",
              "      <td>NaN</td>\n",
              "      <td>1.5</td>\n",
              "    </tr>\n",
              "    <tr>\n",
              "      <th>106884</th>\n",
              "      <td>Touareg</td>\n",
              "      <td>2016</td>\n",
              "      <td>21722</td>\n",
              "      <td>Automatic</td>\n",
              "      <td>52186</td>\n",
              "      <td>Diesel</td>\n",
              "      <td>235.0</td>\n",
              "      <td>42.8</td>\n",
              "      <td>3.0</td>\n",
              "    </tr>\n",
              "    <tr>\n",
              "      <th>68026</th>\n",
              "      <td>Octavia</td>\n",
              "      <td>2019</td>\n",
              "      <td>20520</td>\n",
              "      <td>Semi-Auto</td>\n",
              "      <td>10</td>\n",
              "      <td>Diesel</td>\n",
              "      <td>145.0</td>\n",
              "      <td>53.3</td>\n",
              "      <td>2.0</td>\n",
              "    </tr>\n",
              "    <tr>\n",
              "      <th>53282</th>\n",
              "      <td>Tucson</td>\n",
              "      <td>2017</td>\n",
              "      <td>14966</td>\n",
              "      <td>Manual</td>\n",
              "      <td>24963</td>\n",
              "      <td>Diesel</td>\n",
              "      <td>150.0</td>\n",
              "      <td>61.4</td>\n",
              "      <td>1.7</td>\n",
              "    </tr>\n",
              "  </tbody>\n",
              "</table>\n",
              "</div>\n",
              "      <button class=\"colab-df-convert\" onclick=\"convertToInteractive('df-2658034e-3155-4352-8755-b6334fc03a65')\"\n",
              "              title=\"Convert this dataframe to an interactive table.\"\n",
              "              style=\"display:none;\">\n",
              "        \n",
              "  <svg xmlns=\"http://www.w3.org/2000/svg\" height=\"24px\"viewBox=\"0 0 24 24\"\n",
              "       width=\"24px\">\n",
              "    <path d=\"M0 0h24v24H0V0z\" fill=\"none\"/>\n",
              "    <path d=\"M18.56 5.44l.94 2.06.94-2.06 2.06-.94-2.06-.94-.94-2.06-.94 2.06-2.06.94zm-11 1L8.5 8.5l.94-2.06 2.06-.94-2.06-.94L8.5 2.5l-.94 2.06-2.06.94zm10 10l.94 2.06.94-2.06 2.06-.94-2.06-.94-.94-2.06-.94 2.06-2.06.94z\"/><path d=\"M17.41 7.96l-1.37-1.37c-.4-.4-.92-.59-1.43-.59-.52 0-1.04.2-1.43.59L10.3 9.45l-7.72 7.72c-.78.78-.78 2.05 0 2.83L4 21.41c.39.39.9.59 1.41.59.51 0 1.02-.2 1.41-.59l7.78-7.78 2.81-2.81c.8-.78.8-2.07 0-2.86zM5.41 20L4 18.59l7.72-7.72 1.47 1.35L5.41 20z\"/>\n",
              "  </svg>\n",
              "      </button>\n",
              "      \n",
              "  <style>\n",
              "    .colab-df-container {\n",
              "      display:flex;\n",
              "      flex-wrap:wrap;\n",
              "      gap: 12px;\n",
              "    }\n",
              "\n",
              "    .colab-df-convert {\n",
              "      background-color: #E8F0FE;\n",
              "      border: none;\n",
              "      border-radius: 50%;\n",
              "      cursor: pointer;\n",
              "      display: none;\n",
              "      fill: #1967D2;\n",
              "      height: 32px;\n",
              "      padding: 0 0 0 0;\n",
              "      width: 32px;\n",
              "    }\n",
              "\n",
              "    .colab-df-convert:hover {\n",
              "      background-color: #E2EBFA;\n",
              "      box-shadow: 0px 1px 2px rgba(60, 64, 67, 0.3), 0px 1px 3px 1px rgba(60, 64, 67, 0.15);\n",
              "      fill: #174EA6;\n",
              "    }\n",
              "\n",
              "    [theme=dark] .colab-df-convert {\n",
              "      background-color: #3B4455;\n",
              "      fill: #D2E3FC;\n",
              "    }\n",
              "\n",
              "    [theme=dark] .colab-df-convert:hover {\n",
              "      background-color: #434B5C;\n",
              "      box-shadow: 0px 1px 3px 1px rgba(0, 0, 0, 0.15);\n",
              "      filter: drop-shadow(0px 1px 2px rgba(0, 0, 0, 0.3));\n",
              "      fill: #FFFFFF;\n",
              "    }\n",
              "  </style>\n",
              "\n",
              "      <script>\n",
              "        const buttonEl =\n",
              "          document.querySelector('#df-2658034e-3155-4352-8755-b6334fc03a65 button.colab-df-convert');\n",
              "        buttonEl.style.display =\n",
              "          google.colab.kernel.accessAllowed ? 'block' : 'none';\n",
              "\n",
              "        async function convertToInteractive(key) {\n",
              "          const element = document.querySelector('#df-2658034e-3155-4352-8755-b6334fc03a65');\n",
              "          const dataTable =\n",
              "            await google.colab.kernel.invokeFunction('convertToInteractive',\n",
              "                                                     [key], {});\n",
              "          if (!dataTable) return;\n",
              "\n",
              "          const docLinkHtml = 'Like what you see? Visit the ' +\n",
              "            '<a target=\"_blank\" href=https://colab.research.google.com/notebooks/data_table.ipynb>data table notebook</a>'\n",
              "            + ' to learn more about interactive tables.';\n",
              "          element.innerHTML = '';\n",
              "          dataTable['output_type'] = 'display_data';\n",
              "          await google.colab.output.renderOutput(dataTable, element);\n",
              "          const docLink = document.createElement('div');\n",
              "          docLink.innerHTML = docLinkHtml;\n",
              "          element.appendChild(docLink);\n",
              "        }\n",
              "      </script>\n",
              "    </div>\n",
              "  </div>\n",
              "  "
            ]
          },
          "metadata": {},
          "execution_count": 10
        }
      ],
      "source": [
        "import pandas as pd\n",
        "import numpy as np\n",
        "import seaborn as sns\n",
        "pd.options.display.float_format = '{:.1f}'.format\n",
        "\n",
        "#https://www.kaggle.com/datasets/adityadesai13/used-car-dataset-ford-and-mercedes\n",
        "df_audi = pd.read_csv(\"audi.csv\")\n",
        "df_bmw = pd.read_csv(\"audi.csv\")\n",
        "df_cclass = pd.read_csv(\"cclass.csv\")\n",
        "df_focus = pd.read_csv(\"focus.csv\")\n",
        "df_ford = pd.read_csv(\"ford.csv\")\n",
        "df_hyundai = pd.read_csv(\"hyundai.csv\")\n",
        "df_hyundai = df_hyundai.rename(columns={\"tax(£)\":\"tax\"}) #칼럼명 변경\n",
        "df_merc = pd.read_csv(\"merc.csv\")\n",
        "df_skoda = pd.read_csv(\"skoda.csv\")\n",
        "df_toyota = pd.read_csv(\"toyota.csv\")\n",
        "df_vauxhall = pd.read_csv(\"vauxhall.csv\")\n",
        "df_vw = pd.read_csv(\"vw.csv\")\n",
        "\n",
        "#데이터 하나로 합치기\n",
        "df_list = [df_audi, df_bmw, df_cclass, df_focus, df_ford, df_hyundai, df_merc, df_skoda, df_toyota, df_vauxhall, df_vw]\n",
        "df = pd.concat(df_list, ignore_index=True)\n",
        "\n",
        "# print(\"dtypes:\", df.dtypes)\n",
        "# print(\"describe:\", df.describe())\n",
        "\n",
        "print(df.shape)\n",
        "df.sample(10)"
      ]
    },
    {
      "cell_type": "code",
      "source": [
        "#베이스라인 모델 만들기\n",
        "predict = df[\"price\"].mean()\n",
        "y_train = df[\"price\"]\n",
        "\n",
        "# 기준모델로 훈련 에러(MAE) 계산\n",
        "from sklearn.metrics import mean_absolute_error\n",
        "y_pred = [predict] * len(y_train)\n",
        "mae = mean_absolute_error(y_train, y_pred)\n",
        "\n",
        "print(f'훈련 에러: {mae:.2f}')"
      ],
      "metadata": {
        "id": "-FhytgOXMpuq",
        "outputId": "87d0147a-6ae8-41a2-9328-7cfae28e3a2f",
        "colab": {
          "base_uri": "https://localhost:8080/"
        }
      },
      "execution_count": 2,
      "outputs": [
        {
          "output_type": "stream",
          "name": "stdout",
          "text": [
            "훈련 에러: 7028.23\n"
          ]
        }
      ]
    },
    {
      "cell_type": "code",
      "source": [
        "sns.distplot(df['year'], kde=True, rug=False)"
      ],
      "metadata": {
        "id": "ipKsDuLheRpp",
        "outputId": "ae5056c5-5a44-4542-bb4a-03915caf15e5",
        "colab": {
          "base_uri": "https://localhost:8080/",
          "height": 352
        }
      },
      "execution_count": 22,
      "outputs": [
        {
          "output_type": "stream",
          "name": "stderr",
          "text": [
            "/usr/local/lib/python3.7/dist-packages/seaborn/distributions.py:2619: FutureWarning: `distplot` is a deprecated function and will be removed in a future version. Please adapt your code to use either `displot` (a figure-level function with similar flexibility) or `histplot` (an axes-level function for histograms).\n",
            "  warnings.warn(msg, FutureWarning)\n"
          ]
        },
        {
          "output_type": "execute_result",
          "data": {
            "text/plain": [
              "<matplotlib.axes._subplots.AxesSubplot at 0x7f7b4af6c610>"
            ]
          },
          "metadata": {},
          "execution_count": 22
        },
        {
          "output_type": "display_data",
          "data": {
            "text/plain": [
              "<Figure size 432x288 with 1 Axes>"
            ],
            "image/png": "[encoded data removed]"
          },
          "metadata": {
            "needs_background": "light"
          }
        }
      ]
    },
    {
      "cell_type": "code",
      "source": [
        "sns.distplot(df['mileage'], kde=True, rug=False)"
      ],
      "metadata": {
        "id": "ynTvN6E5P1Af",
        "outputId": "d248769d-67d4-4a80-c5b2-6840f9eb7b7e",
        "colab": {
          "base_uri": "https://localhost:8080/",
          "height": 363
        }
      },
      "execution_count": 21,
      "outputs": [
        {
          "output_type": "stream",
          "name": "stderr",
          "text": [
            "/usr/local/lib/python3.7/dist-packages/seaborn/distributions.py:2619: FutureWarning: `distplot` is a deprecated function and will be removed in a future version. Please adapt your code to use either `displot` (a figure-level function with similar flexibility) or `histplot` (an axes-level function for histograms).\n",
            "  warnings.warn(msg, FutureWarning)\n"
          ]
        },
        {
          "output_type": "execute_result",
          "data": {
            "text/plain": [
              "<matplotlib.axes._subplots.AxesSubplot at 0x7f7b4af67090>"
            ]
          },
          "metadata": {},
          "execution_count": 21
        },
        {
          "output_type": "display_data",
          "data": {
            "text/plain": [
              "<Figure size 432x288 with 1 Axes>"
            ],
            "image/png": "[encoded data removed]"
          },
          "metadata": {
            "needs_background": "light"
          }
        }
      ]
    },
    {
      "cell_type": "code",
      "source": [
        "print(df['price'].mean())\n",
        "sns.distplot(df['price'], kde=True, rug=False)"
      ],
      "metadata": {
        "id": "O8meNoIdOyfU",
        "outputId": "4a0006c7-9e53-40ae-b9c8-061db0dd8076",
        "colab": {
          "base_uri": "https://localhost:8080/",
          "height": 381
        }
      },
      "execution_count": 46,
      "outputs": [
        {
          "output_type": "stream",
          "name": "stdout",
          "text": [
            "16540.26104521726\n"
          ]
        },
        {
          "output_type": "stream",
          "name": "stderr",
          "text": [
            "/usr/local/lib/python3.7/dist-packages/seaborn/distributions.py:2619: FutureWarning: `distplot` is a deprecated function and will be removed in a future version. Please adapt your code to use either `displot` (a figure-level function with similar flexibility) or `histplot` (an axes-level function for histograms).\n",
            "  warnings.warn(msg, FutureWarning)\n"
          ]
        },
        {
          "output_type": "execute_result",
          "data": {
            "text/plain": [
              "<matplotlib.axes._subplots.AxesSubplot at 0x7f7b4b37add0>"
            ]
          },
          "metadata": {},
          "execution_count": 46
        },
        {
          "output_type": "display_data",
          "data": {
            "text/plain": [
              "<Figure size 432x288 with 1 Axes>"
            ],
            "image/png": "[encoded data removed]"
          },
          "metadata": {
            "needs_background": "light"
          }
        }
      ]
    },
    {
      "cell_type": "code",
      "source": [
        "#이상치 제거\n",
        "df = df[(df['price'] >= np.percentile(df['price'], 0.5)) & \n",
        "        (df['price'] <= np.percentile(df['price'], 99.5)) &\n",
        "        (df['mileage'] >= np.percentile(df['mileage'], 0.5)) & \n",
        "        (df['mileage'] <= np.percentile(df['mileage'], 99.5)) &\n",
        "        (df['engineSize'] >= np.percentile(df['engineSize'], 0.5)) & \n",
        "        (df['engineSize'] <= np.percentile(df['engineSize'], 99.5)) &\n",
        "        (df['year'] >= np.percentile(df['year'], 0.5)) & \n",
        "        (df['year'] <= np.percentile(df['year'], 99.5))]\n"
      ],
      "metadata": {
        "id": "VD8XgvedPW_k"
      },
      "execution_count": 19,
      "outputs": []
    },
    {
      "cell_type": "code",
      "source": [
        "sns.distplot(df[(df['year']>2015)]['mileage'], kde=True, rug=False)"
      ],
      "metadata": {
        "id": "sbWER2JJPtZj",
        "outputId": "d28dfd31-fd0b-47d7-e2a1-3445a84d0a5a",
        "colab": {
          "base_uri": "https://localhost:8080/",
          "height": 363
        }
      },
      "execution_count": 33,
      "outputs": [
        {
          "output_type": "stream",
          "name": "stderr",
          "text": [
            "/usr/local/lib/python3.7/dist-packages/seaborn/distributions.py:2619: FutureWarning: `distplot` is a deprecated function and will be removed in a future version. Please adapt your code to use either `displot` (a figure-level function with similar flexibility) or `histplot` (an axes-level function for histograms).\n",
            "  warnings.warn(msg, FutureWarning)\n"
          ]
        },
        {
          "output_type": "execute_result",
          "data": {
            "text/plain": [
              "<matplotlib.axes._subplots.AxesSubplot at 0x7f7b4b25ead0>"
            ]
          },
          "metadata": {},
          "execution_count": 33
        },
        {
          "output_type": "display_data",
          "data": {
            "text/plain": [
              "<Figure size 432x288 with 1 Axes>"
            ],
            "image/png": "[encoded data removed]"
          },
          "metadata": {
            "needs_background": "light"
          }
        }
      ]
    },
    {
      "cell_type": "code",
      "source": [
        "sns.distplot(df[(df['year']>2009)&(df['year']<2015)]['mileage'], kde=True, rug=False)"
      ],
      "metadata": {
        "id": "0RLHSbDoilE5",
        "outputId": "c97d7a95-b087-45b6-ed68-ac1f7321c7fd",
        "colab": {
          "base_uri": "https://localhost:8080/",
          "height": 363
        }
      },
      "execution_count": 34,
      "outputs": [
        {
          "output_type": "stream",
          "name": "stderr",
          "text": [
            "/usr/local/lib/python3.7/dist-packages/seaborn/distributions.py:2619: FutureWarning: `distplot` is a deprecated function and will be removed in a future version. Please adapt your code to use either `displot` (a figure-level function with similar flexibility) or `histplot` (an axes-level function for histograms).\n",
            "  warnings.warn(msg, FutureWarning)\n"
          ]
        },
        {
          "output_type": "execute_result",
          "data": {
            "text/plain": [
              "<matplotlib.axes._subplots.AxesSubplot at 0x7f7b4a73ca50>"
            ]
          },
          "metadata": {},
          "execution_count": 34
        },
        {
          "output_type": "display_data",
          "data": {
            "text/plain": [
              "<Figure size 432x288 with 1 Axes>"
            ],
            "image/png": "[encoded data removed]"
          },
          "metadata": {
            "needs_background": "light"
          }
        }
      ]
    },
    {
      "cell_type": "code",
      "source": [
        "sns.distplot(df[(df['price']<=16500)&(df['mileage']>50000)]['price'], kde=True, rug=True)"
      ],
      "metadata": {
        "id": "0EFpjLSdjivg",
        "outputId": "a97c0fd7-d519-406e-b195-c78c20f3735e",
        "colab": {
          "base_uri": "https://localhost:8080/",
          "height": 388
        }
      },
      "execution_count": 44,
      "outputs": [
        {
          "output_type": "stream",
          "name": "stderr",
          "text": [
            "/usr/local/lib/python3.7/dist-packages/seaborn/distributions.py:2619: FutureWarning: `distplot` is a deprecated function and will be removed in a future version. Please adapt your code to use either `displot` (a figure-level function with similar flexibility) or `histplot` (an axes-level function for histograms).\n",
            "  warnings.warn(msg, FutureWarning)\n",
            "/usr/local/lib/python3.7/dist-packages/seaborn/distributions.py:2103: FutureWarning: The `axis` variable is no longer used and will be removed. Instead, assign variables directly to `x` or `y`.\n",
            "  warnings.warn(msg, FutureWarning)\n"
          ]
        },
        {
          "output_type": "execute_result",
          "data": {
            "text/plain": [
              "<matplotlib.axes._subplots.AxesSubplot at 0x7f7b498f5a10>"
            ]
          },
          "metadata": {},
          "execution_count": 44
        },
        {
          "output_type": "display_data",
          "data": {
            "text/plain": [
              "<Figure size 432x288 with 1 Axes>"
            ],
            "image/png": "[encoded data removed]"
          },
          "metadata": {
            "needs_background": "light"
          }
        }
      ]
    }
  ]
}